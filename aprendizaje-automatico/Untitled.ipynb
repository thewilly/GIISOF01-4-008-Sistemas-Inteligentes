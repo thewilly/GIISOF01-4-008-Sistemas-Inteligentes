{
 "cells": [
  {
   "cell_type": "code",
   "execution_count": 3,
   "metadata": {},
   "outputs": [
    {
     "name": "stderr",
     "output_type": "stream",
     "text": [
      "also installing the dependencies ‘RWekajars’, ‘rJava’\n",
      "\n",
      "Warning message in install.packages(c(\"caret\", \"RWeka\", \"mlbench\")):\n",
      "“installation of package ‘rJava’ had non-zero exit status”Warning message in install.packages(c(\"caret\", \"RWeka\", \"mlbench\")):\n",
      "“installation of package ‘RWekajars’ had non-zero exit status”Warning message in install.packages(c(\"caret\", \"RWeka\", \"mlbench\")):\n",
      "“installation of package ‘RWeka’ had non-zero exit status”Updating HTML index of packages in '.Library'\n",
      "Making 'packages.html' ... done\n"
     ]
    }
   ],
   "source": [
    "install.packages(c(\"caret\", \"RWeka\", \"mlbench\"))"
   ]
  },
  {
   "cell_type": "code",
   "execution_count": 4,
   "metadata": {},
   "outputs": [],
   "source": [
    "library(caret)\n",
    "library(mlbench)\n",
    "data(Sonar)\n",
    "set.seed(107)\n",
    "inTrain <- createDataPartition(\n",
    "  ## indicamos la clase\n",
    "  y = Sonar$Class,\n",
    "  ## el porcentaje de instancias para entrenamiento\n",
    "  p = .75,\n",
    "  ## controla el formato de salida\n",
    "  list = FALSE\n",
    ")\n",
    "## Lo que obtenemos es un conjunto de índices de las filas de ## Sonar que pertenecen al conjunto de aprendizaje str(inTrain)\n",
    "#> int[1:157,1]12367910111213...\n",
    "#>  - attr(*, \"dimnames\")=List of 2\n",
    "#> ..$ : NULL\n",
    "#>   ..$ : chr \"Resample1\""
   ]
  },
  {
   "cell_type": "code",
   "execution_count": 6,
   "metadata": {},
   "outputs": [
    {
     "data": {
      "text/html": [
       "157"
      ],
      "text/latex": [
       "157"
      ],
      "text/markdown": [
       "157"
      ],
      "text/plain": [
       "[1] 157"
      ]
     },
     "metadata": {},
     "output_type": "display_data"
    },
    {
     "data": {
      "text/html": [
       "51"
      ],
      "text/latex": [
       "51"
      ],
      "text/markdown": [
       "51"
      ],
      "text/plain": [
       "[1] 51"
      ]
     },
     "metadata": {},
     "output_type": "display_data"
    }
   ],
   "source": [
    "training <- Sonar[ inTrain,]\n",
    "testing  <- Sonar[-inTrain,]\n",
    "nrow(training) #> [1] 157 \n",
    "nrow(testing) #> [1] 51"
   ]
  },
  {
   "cell_type": "code",
   "execution_count": 11,
   "metadata": {},
   "outputs": [
    {
     "name": "stdout",
     "output_type": "stream",
     "text": [
      "1 package is needed for this model and is not installed. (RWeka). Would you like to try to install it now?"
     ]
    },
    {
     "ename": "ERROR",
     "evalue": "Error: Required package is missing\n",
     "output_type": "error",
     "traceback": [
      "Error: Required package is missing\nTraceback:\n",
      "1. train(Class ~ ., data = training, method = \"J48\", tuneLength = 4, \n .     trControl = ctrl, metric = \"ROC\")",
      "2. train.formula(Class ~ ., data = training, method = \"J48\", tuneLength = 4, \n .     trControl = ctrl, metric = \"ROC\")",
      "3. train(x, y, weights = w, ...)",
      "4. train.default(x, y, weights = w, ...)",
      "5. checkInstall(models$library)",
      "6. stop(\"Required package is missing\", call. = FALSE)"
     ]
    }
   ],
   "source": [
    "ctrl <- trainControl(\n",
    "method = \"repeatedcv\",\n",
    "repeats = 3,\n",
    "classProbs = TRUE, summaryFunction = twoClassSummary\n",
    ")\n",
    "set.seed(123)\n",
    "c4.5Fit <- train(\n",
    "    Class ~ .,\n",
    "  data = training,\n",
    "  method = \"J48\",\n",
    "  tuneLength = 4,\n",
    "  trControl = ctrl,\n",
    "  metric = \"ROC\"\n",
    ")\n",
    "ggplot(c4.5Fit)"
   ]
  },
  {
   "cell_type": "code",
   "execution_count": 12,
   "metadata": {},
   "outputs": [
    {
     "ename": "ERROR",
     "evalue": "Error in eval(expr, envir, enclos): object 'yes' not found\n",
     "output_type": "error",
     "traceback": [
      "Error in eval(expr, envir, enclos): object 'yes' not found\nTraceback:\n"
     ]
    }
   ],
   "source": [
    "yes"
   ]
  },
  {
   "cell_type": "code",
   "execution_count": null,
   "metadata": {},
   "outputs": [],
   "source": []
  }
 ],
 "metadata": {
  "kernelspec": {
   "display_name": "R",
   "language": "R",
   "name": "ir"
  },
  "language_info": {
   "codemirror_mode": "r",
   "file_extension": ".r",
   "mimetype": "text/x-r-source",
   "name": "R",
   "pygments_lexer": "r",
   "version": "3.4.1"
  }
 },
 "nbformat": 4,
 "nbformat_minor": 2
}
