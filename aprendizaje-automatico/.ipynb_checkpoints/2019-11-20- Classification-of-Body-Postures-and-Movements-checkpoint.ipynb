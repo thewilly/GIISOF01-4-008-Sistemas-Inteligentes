{
 "cells": [
  {
   "cell_type": "markdown",
   "metadata": {},
   "source": [
    "# Sistemas Inteligentes: Aprendizaje Automático\n",
    "\n",
    "_Guillermo Facundo Colunga_\n",
    "\n",
    "**Datos entorno desarrollo:**  \n",
    "**SO:** Windows 10.  \n",
    "**Cores:** 16.  \n",
    "**RAM:** 16 Gb.  \n",
    "**Librerías empleadas:** `caret`, `ggplot2`, `gridExtra`, `reshape2` y `doMC`."
   ]
  },
  {
   "cell_type": "markdown",
   "metadata": {},
   "source": [
    "## Introducción\n",
    "\n",
    "Esta práctica de aprendizaje automático se enmarca en explorar los distintos paradigmas de clasificación estudiados en la asignatura para seleccionar aquel que mejor prediga el tipo de actividad que realiza una persona según la información proporcionada por los sensores que lleva una persona.\n",
    "\n",
    "Para ello se evaluarán los paradigmas de clasificación **árbol de decisión, vecinos más cercanos, redes neuronales y máquinas de vector soporte** a través del paquete `caret` de R. \n",
    "\n",
    "Finalmente se realizará la comparación de los resultados aportados por los diferentes paradigmas y se seleccionará aquel que mejor precisión tenga como _el mejor_.\n"
   ]
  },
  {
   "cell_type": "markdown",
   "metadata": {},
   "source": [
    "## Configuración espacio de trabajo en R\n",
    "\n",
    "Empezamos configurando R e importanto el paquete `caret`. De la misma forma cargamos las librerías necesarias que vamos a utilizar durante el desarrollo de la práctica y eliminamos los warnings de nuestro script para limpiar las salidas."
   ]
  },
  {
   "cell_type": "code",
   "execution_count": 4,
   "metadata": {},
   "outputs": [
    {
     "name": "stderr",
     "output_type": "stream",
     "text": [
      "Loading required package: lattice\n",
      "\n",
      "Loading required package: ggplot2\n",
      "\n"
     ]
    }
   ],
   "source": [
    "# Eliminamos los warnings del script ya que ensucian el script\n",
    "options(warn=-1)\n",
    "\n",
    "# Realizamos los imports necesarios\n",
    "library(caret)\n",
    "#library(ggplot2)\n",
    "#library(gridExtra)\n",
    "#library(reshape2)"
   ]
  },
  {
   "cell_type": "markdown",
   "metadata": {},
   "source": [
    "## Carga de datos en R\n",
    "\n",
    "Una vez tenemos R configurado y con las librerías necesarias cargadas, importamos los datos sobre los que vamos a dearrollar nuestros modelos. Para ello descargamos en el directorio el siguiente banco de [datos](http://archive.ics.uci.edu/ml/datasets/Wearable+Computing%3A+Classification+of+Body+Postures+and+Movements+%28PUC-Rio%29) y lo importamos con el siguiente código."
   ]
  },
  {
   "cell_type": "code",
   "execution_count": 5,
   "metadata": {},
   "outputs": [],
   "source": [
    "load(\"har.RData\")"
   ]
  },
  {
   "cell_type": "markdown",
   "metadata": {},
   "source": [
    "Este conjunto de datos contiene 19 variables y 165.633 instancias, para que el análisis se pueda hacer en menos tiempo usaremos sólo 10.000 instancias que vendrán dadas por nuestro identificador universitario."
   ]
  },
  {
   "cell_type": "code",
   "execution_count": 6,
   "metadata": {},
   "outputs": [],
   "source": [
    "# Configuramos nuestro identificador universitario\n",
    "uo <- 236856\n",
    "n_instancias <- 10000"
   ]
  },
  {
   "cell_type": "markdown",
   "metadata": {},
   "source": [
    "Una vez configurados el identificador universitario y el número de instancias filtramos los datos del banco y los asignamos a la variable filtered."
   ]
  },
  {
   "cell_type": "code",
   "execution_count": 7,
   "metadata": {},
   "outputs": [],
   "source": [
    "set.seed(uo) #Pon aquí los número de tu UO\n",
    "filtered <- har[sample(nrow(har)-1,n_instancias),]"
   ]
  },
  {
   "cell_type": "markdown",
   "metadata": {},
   "source": [
    "Además vamos a eliminar las 5 columnas que contienen información relativa a cada participante en el estudio para emplear sólo la información del movimiento"
   ]
  },
  {
   "cell_type": "code",
   "execution_count": 8,
   "metadata": {},
   "outputs": [],
   "source": [
    "filtered$age<-NULL\n",
    "filtered$user<-NULL\n",
    "filtered$gender<-NULL\n",
    "filtered$how_tall_in_meters<-NULL\n",
    "filtered$weight<-NULL\n",
    "filtered$body_mass_index<-NULL"
   ]
  },
  {
   "cell_type": "markdown",
   "metadata": {},
   "source": [
    "Mostramos la cabecera de la tabla de datos resultante tras realizar el pre-procesado."
   ]
  },
  {
   "cell_type": "code",
   "execution_count": 9,
   "metadata": {},
   "outputs": [
    {
     "data": {
      "text/html": [
       "<table>\n",
       "<caption>A data.frame: 6 × 13</caption>\n",
       "<thead>\n",
       "\t<tr><th></th><th scope=col>x1</th><th scope=col>y1</th><th scope=col>z1</th><th scope=col>x2</th><th scope=col>y2</th><th scope=col>z2</th><th scope=col>x3</th><th scope=col>y3</th><th scope=col>z3</th><th scope=col>x4</th><th scope=col>y4</th><th scope=col>z4</th><th scope=col>class</th></tr>\n",
       "\t<tr><th></th><th scope=col>&lt;int&gt;</th><th scope=col>&lt;int&gt;</th><th scope=col>&lt;int&gt;</th><th scope=col>&lt;int&gt;</th><th scope=col>&lt;int&gt;</th><th scope=col>&lt;int&gt;</th><th scope=col>&lt;int&gt;</th><th scope=col>&lt;int&gt;</th><th scope=col>&lt;int&gt;</th><th scope=col>&lt;int&gt;</th><th scope=col>&lt;int&gt;</th><th scope=col>&lt;dbl&gt;</th><th scope=col>&lt;fct&gt;</th></tr>\n",
       "</thead>\n",
       "<tbody>\n",
       "\t<tr><th scope=row>25721</th><td>-24</td><td>41</td><td> -25</td><td>-252</td><td>-328</td><td>-362</td><td> 26</td><td>106</td><td> -88</td><td>-150</td><td> -95</td><td>73</td><td>sitting   </td></tr>\n",
       "\t<tr><th scope=row>145066</th><td>-10</td><td>83</td><td>-101</td><td>-492</td><td>-516</td><td>-614</td><td> 36</td><td> 65</td><td>-103</td><td>-172</td><td> -87</td><td>72</td><td>walking   </td></tr>\n",
       "\t<tr><th scope=row>110991</th><td>-13</td><td>97</td><td> -86</td><td>  11</td><td>  83</td><td>-121</td><td> 40</td><td> 98</td><td> -66</td><td>-180</td><td> -87</td><td>55</td><td>standingup</td></tr>\n",
       "\t<tr><th scope=row>99440</th><td> -5</td><td>97</td><td>-123</td><td>   0</td><td>  90</td><td>-139</td><td> 39</td><td>116</td><td> -83</td><td>-182</td><td> -81</td><td>53</td><td>standing  </td></tr>\n",
       "\t<tr><th scope=row>164480</th><td>-17</td><td>94</td><td>-143</td><td> -15</td><td>  76</td><td> -83</td><td>-10</td><td>141</td><td> -90</td><td>-183</td><td> -95</td><td>52</td><td>walking   </td></tr>\n",
       "\t<tr><th scope=row>37849</th><td> -1</td><td>67</td><td> -66</td><td> -24</td><td> -29</td><td> -25</td><td> 62</td><td> 55</td><td>-102</td><td> -94</td><td>-126</td><td>67</td><td>sitting   </td></tr>\n",
       "</tbody>\n",
       "</table>\n"
      ],
      "text/latex": [
       "A data.frame: 6 × 13\n",
       "\\begin{tabular}{r|lllllllllllll}\n",
       "  & x1 & y1 & z1 & x2 & y2 & z2 & x3 & y3 & z3 & x4 & y4 & z4 & class\\\\\n",
       "  & <int> & <int> & <int> & <int> & <int> & <int> & <int> & <int> & <int> & <int> & <int> & <dbl> & <fct>\\\\\n",
       "\\hline\n",
       "\t25721 & -24 & 41 &  -25 & -252 & -328 & -362 &  26 & 106 &  -88 & -150 &  -95 & 73 & sitting   \\\\\n",
       "\t145066 & -10 & 83 & -101 & -492 & -516 & -614 &  36 &  65 & -103 & -172 &  -87 & 72 & walking   \\\\\n",
       "\t110991 & -13 & 97 &  -86 &   11 &   83 & -121 &  40 &  98 &  -66 & -180 &  -87 & 55 & standingup\\\\\n",
       "\t99440 &  -5 & 97 & -123 &    0 &   90 & -139 &  39 & 116 &  -83 & -182 &  -81 & 53 & standing  \\\\\n",
       "\t164480 & -17 & 94 & -143 &  -15 &   76 &  -83 & -10 & 141 &  -90 & -183 &  -95 & 52 & walking   \\\\\n",
       "\t37849 &  -1 & 67 &  -66 &  -24 &  -29 &  -25 &  62 &  55 & -102 &  -94 & -126 & 67 & sitting   \\\\\n",
       "\\end{tabular}\n"
      ],
      "text/markdown": [
       "\n",
       "A data.frame: 6 × 13\n",
       "\n",
       "| <!--/--> | x1 &lt;int&gt; | y1 &lt;int&gt; | z1 &lt;int&gt; | x2 &lt;int&gt; | y2 &lt;int&gt; | z2 &lt;int&gt; | x3 &lt;int&gt; | y3 &lt;int&gt; | z3 &lt;int&gt; | x4 &lt;int&gt; | y4 &lt;int&gt; | z4 &lt;dbl&gt; | class &lt;fct&gt; |\n",
       "|---|---|---|---|---|---|---|---|---|---|---|---|---|---|\n",
       "| 25721 | -24 | 41 |  -25 | -252 | -328 | -362 |  26 | 106 |  -88 | -150 |  -95 | 73 | sitting    |\n",
       "| 145066 | -10 | 83 | -101 | -492 | -516 | -614 |  36 |  65 | -103 | -172 |  -87 | 72 | walking    |\n",
       "| 110991 | -13 | 97 |  -86 |   11 |   83 | -121 |  40 |  98 |  -66 | -180 |  -87 | 55 | standingup |\n",
       "| 99440 |  -5 | 97 | -123 |    0 |   90 | -139 |  39 | 116 |  -83 | -182 |  -81 | 53 | standing   |\n",
       "| 164480 | -17 | 94 | -143 |  -15 |   76 |  -83 | -10 | 141 |  -90 | -183 |  -95 | 52 | walking    |\n",
       "| 37849 |  -1 | 67 |  -66 |  -24 |  -29 |  -25 |  62 |  55 | -102 |  -94 | -126 | 67 | sitting    |\n",
       "\n"
      ],
      "text/plain": [
       "       x1  y1 z1   x2   y2   z2   x3  y3  z3   x4   y4   z4 class     \n",
       "25721  -24 41  -25 -252 -328 -362  26 106  -88 -150  -95 73 sitting   \n",
       "145066 -10 83 -101 -492 -516 -614  36  65 -103 -172  -87 72 walking   \n",
       "110991 -13 97  -86   11   83 -121  40  98  -66 -180  -87 55 standingup\n",
       "99440   -5 97 -123    0   90 -139  39 116  -83 -182  -81 53 standing  \n",
       "164480 -17 94 -143  -15   76  -83 -10 141  -90 -183  -95 52 walking   \n",
       "37849   -1 67  -66  -24  -29  -25  62  55 -102  -94 -126 67 sitting   "
      ]
     },
     "metadata": {},
     "output_type": "display_data"
    }
   ],
   "source": [
    "# Mostramos los datos con los que trabajaremos.\n",
    "head(filtered)"
   ]
  },
  {
   "cell_type": "markdown",
   "metadata": {},
   "source": [
    "En la tabla anterior se puede ver que tenemos las variables x1, y1, z1, ... x4, y4, z4. Cada conjunto (x, y, z) se corresponde con los datos de un acelerómetro ubicado en una extremidad de la persona. La última columna se corresponde con la actividad del registro."
   ]
  },
  {
   "cell_type": "markdown",
   "metadata": {},
   "source": [
    "## Esquemas de evaluación\n",
    "\n",
    "Conocemos que existen distintos tipos de validación, cada uno con sus ventajas y desventajas. Sin embargo, para nuestro problema realizaremnos una división 80%/20% para entrenamiento/test. Esto nos permitirá realizar una validación externa para ver como de bueno es realmente el modelo ocn datos que no ha visto durante el procesod e entrenamiento."
   ]
  },
  {
   "cell_type": "code",
   "execution_count": 10,
   "metadata": {},
   "outputs": [],
   "source": [
    "training_percentage <- .8"
   ]
  },
  {
   "cell_type": "code",
   "execution_count": 11,
   "metadata": {},
   "outputs": [],
   "source": [
    "inTrain <- createDataPartition(\n",
    "    # indicamos la clase\n",
    "    y = filtered$class,\n",
    "    \n",
    "    # el porcentaje de instancias para entrenamiento\n",
    "    p = training_percentage,\n",
    "    \n",
    "    # controla el formato de salida\n",
    "    list = FALSE\n",
    ")\n",
    "\n",
    "# Definimos nuestras particiones de entrenamiento y validación.\n",
    "training <- filtered[ inTrain,]\n",
    "testing <- filtered[-inTrain,]"
   ]
  },
  {
   "cell_type": "markdown",
   "metadata": {},
   "source": [
    "A continuación, como tenemos un gran número de instancias (10.000) emplearemos el sistema de validación cruzada con valor de k 10."
   ]
  },
  {
   "cell_type": "code",
   "execution_count": 12,
   "metadata": {},
   "outputs": [],
   "source": [
    "crossValidation <- trainControl(method = \"cv\", number = 10)"
   ]
  },
  {
   "cell_type": "markdown",
   "metadata": {},
   "source": [
    "## Métrica de comparación de modelos\n",
    "\n",
    "A contianuación se muestra el número de datos de cada clase así como el porcentaje de datos de cada clase contenidos en el banco de datos."
   ]
  },
  {
   "cell_type": "code",
   "execution_count": 13,
   "metadata": {},
   "outputs": [
    {
     "name": "stdout",
     "output_type": "stream",
     "text": [
      "Número de datos de cada clase: \n"
     ]
    },
    {
     "data": {
      "text/html": [
       "<dl class=dl-horizontal>\n",
       "\t<dt>sitting</dt>\n",
       "\t\t<dd>3048</dd>\n",
       "\t<dt>sittingdown</dt>\n",
       "\t\t<dd>749</dd>\n",
       "\t<dt>standing</dt>\n",
       "\t\t<dd>2915</dd>\n",
       "\t<dt>standingup</dt>\n",
       "\t\t<dd>738</dd>\n",
       "\t<dt>walking</dt>\n",
       "\t\t<dd>2550</dd>\n",
       "</dl>\n"
      ],
      "text/latex": [
       "\\begin{description*}\n",
       "\\item[sitting] 3048\n",
       "\\item[sittingdown] 749\n",
       "\\item[standing] 2915\n",
       "\\item[standingup] 738\n",
       "\\item[walking] 2550\n",
       "\\end{description*}\n"
      ],
      "text/markdown": [
       "sitting\n",
       ":   3048sittingdown\n",
       ":   749standing\n",
       ":   2915standingup\n",
       ":   738walking\n",
       ":   2550\n",
       "\n"
      ],
      "text/plain": [
       "    sitting sittingdown    standing  standingup     walking \n",
       "       3048         749        2915         738        2550 "
      ]
     },
     "metadata": {},
     "output_type": "display_data"
    },
    {
     "name": "stdout",
     "output_type": "stream",
     "text": [
      "\n",
      "Porcentaje de datos de cada clase: \n"
     ]
    },
    {
     "data": {
      "text/html": [
       "<dl class=dl-horizontal>\n",
       "\t<dt>sitting</dt>\n",
       "\t\t<dd>0.3048</dd>\n",
       "\t<dt>sittingdown</dt>\n",
       "\t\t<dd>0.0749</dd>\n",
       "\t<dt>standing</dt>\n",
       "\t\t<dd>0.2915</dd>\n",
       "\t<dt>standingup</dt>\n",
       "\t\t<dd>0.0738</dd>\n",
       "\t<dt>walking</dt>\n",
       "\t\t<dd>0.255</dd>\n",
       "</dl>\n"
      ],
      "text/latex": [
       "\\begin{description*}\n",
       "\\item[sitting] 0.3048\n",
       "\\item[sittingdown] 0.0749\n",
       "\\item[standing] 0.2915\n",
       "\\item[standingup] 0.0738\n",
       "\\item[walking] 0.255\n",
       "\\end{description*}\n"
      ],
      "text/markdown": [
       "sitting\n",
       ":   0.3048sittingdown\n",
       ":   0.0749standing\n",
       ":   0.2915standingup\n",
       ":   0.0738walking\n",
       ":   0.255\n",
       "\n"
      ],
      "text/plain": [
       "    sitting sittingdown    standing  standingup     walking \n",
       "     0.3048      0.0749      0.2915      0.0738      0.2550 "
      ]
     },
     "metadata": {},
     "output_type": "display_data"
    }
   ],
   "source": [
    "cat('Número de datos de cada clase: \\n')\n",
    "summary(filtered$class)\n",
    "cat('\\nPorcentaje de datos de cada clase: \\n')\n",
    "summary(filtered$class)/sum(summary(filtered$class))"
   ]
  },
  {
   "cell_type": "markdown",
   "metadata": {},
   "source": [
    "De los datos anteriores podemos obtener que las clases están desbalanceadas ya que por ejemplo `standing` representa el 29% de los datos y `sittingdown` el 7%. Por tanto emplearemos la métrica kappa, que nos permite saber cómo de bueno es un clasificador en comparación con una predicción basada en la frecuencia de las clases. Además, dicha métrica tiene en cuenta también el valor del porcentaje de acierto."
   ]
  },
  {
   "cell_type": "markdown",
   "metadata": {},
   "source": [
    "## Generación de modelos"
   ]
  },
  {
   "cell_type": "code",
   "execution_count": 14,
   "metadata": {},
   "outputs": [],
   "source": [
    "# Creamos una función para ver los resultados de la validación interna\n",
    "internalValidation <- function(model){\n",
    "  print(model)\n",
    "  print(model$results[rownames(model$bestTune),1:4])\n",
    "}"
   ]
  },
  {
   "cell_type": "code",
   "execution_count": 15,
   "metadata": {},
   "outputs": [],
   "source": [
    "# Creamos una función para ver los resultados de la validación externa\n",
    "externalValidation <- function(model, testingData = testing){\n",
    "  print(confusionMatrix(predict(model,testingData),testingData$class))\n",
    "}"
   ]
  },
  {
   "cell_type": "markdown",
   "metadata": {},
   "source": [
    "### Árboles de decisión\n",
    "\n",
    "De acuerdo con la teoría, un árbol de decisión es un mecanismo en el que dado un conjunto de datos se fabrican diagramas de construcciones lógicas, muy similares a los sistemas de predicción basados en reglas, que sirven para representar y categorizar una serie de condiciones que ocurren de forma sucesiva, para la resolución de un problema. Por lo tanto, y teniendo en cuenta nuestros datos, parece un modelo que nos dará unos buenos resultados, sin embargo, vamos a contrastar esta hipótesis.\n",
    "\n",
    "Tanto en teroría como en prácticas vimos distintos modelos de árboles de decisión, a continuación implementaremos los modelos J48, rpart y rpart2 para comparar su precisión para el problema dado."
   ]
  },
  {
   "cell_type": "code",
   "execution_count": 16,
   "metadata": {},
   "outputs": [],
   "source": [
    "# Plantamos la semilla para obtener un valor constante tras cada ejecución.\n",
    "set.seed(uo)\n",
    "\n",
    "# Realizamos el entrenamiento de nuestro modelo con J48.\n",
    "c4.5Fit <- train(\n",
    "    class ~ .,\n",
    "    data = training,\n",
    "    method = \"J48\",\n",
    "    trControl = crossValidation,\n",
    "    tuneLength = 7,\n",
    "    metric = \"Kappa\"\n",
    "    # Empleamos C=0.04 y M=2 ya que son los valores que tras explorar\n",
    "    # nos han dado mejor resultado y realizar siempre la exploración\n",
    "    # de valores es demasiado lenta.\n",
    "    # tuneGrid = data.frame(C=0.04, M=2)\n",
    ")"
   ]
  },
  {
   "cell_type": "code",
   "execution_count": 17,
   "metadata": {
    "scrolled": true
   },
   "outputs": [
    {
     "name": "stdout",
     "output_type": "stream",
     "text": [
      "C4.5-like Trees \n",
      "\n",
      "8002 samples\n",
      "  12 predictor\n",
      "   5 classes: 'sitting', 'sittingdown', 'standing', 'standingup', 'walking' \n",
      "\n",
      "No pre-processing\n",
      "Resampling: Cross-Validated (10 fold) \n",
      "Summary of sample sizes: 7202, 7201, 7202, 7202, 7202, 7202, ... \n",
      "Resampling results across tuning parameters:\n",
      "\n",
      "  C           M  Accuracy   Kappa    \n",
      "  0.01000000  1  0.9427646  0.9231224\n",
      "  0.01000000  2  0.9412648  0.9211187\n",
      "  0.01000000  3  0.9366418  0.9149324\n",
      "  0.01000000  4  0.9358920  0.9139185\n",
      "  0.01000000  5  0.9346415  0.9122232\n",
      "  0.01000000  6  0.9330157  0.9100642\n",
      "  0.01000000  7  0.9297682  0.9056852\n",
      "  0.09166667  1  0.9462629  0.9278473\n",
      "  0.09166667  2  0.9437651  0.9245061\n",
      "  0.09166667  3  0.9396407  0.9189862\n",
      "  0.09166667  4  0.9383903  0.9173040\n",
      "  0.09166667  5  0.9375154  0.9161151\n",
      "  0.09166667  6  0.9355153  0.9134547\n",
      "  0.09166667  7  0.9323924  0.9092847\n",
      "  0.17333333  1  0.9457640  0.9271829\n",
      "  0.17333333  2  0.9432646  0.9238361\n",
      "  0.17333333  3  0.9401401  0.9196688\n",
      "  0.17333333  4  0.9388904  0.9179767\n",
      "  0.17333333  5  0.9378913  0.9166161\n",
      "  0.17333333  6  0.9356401  0.9136283\n",
      "  0.17333333  7  0.9321426  0.9089625\n",
      "  0.25500000  1  0.9452642  0.9265368\n",
      "  0.25500000  2  0.9423901  0.9226717\n",
      "  0.25500000  3  0.9400149  0.9195206\n",
      "  0.25500000  4  0.9380160  0.9168226\n",
      "  0.25500000  5  0.9373912  0.9159311\n",
      "  0.25500000  6  0.9345149  0.9121143\n",
      "  0.25500000  7  0.9316432  0.9083212\n",
      "  0.33666667  1  0.9447649  0.9258768\n",
      "  0.33666667  2  0.9422660  0.9225288\n",
      "  0.33666667  3  0.9401398  0.9197028\n",
      "  0.33666667  4  0.9383907  0.9173611\n",
      "  0.33666667  5  0.9373912  0.9159417\n",
      "  0.33666667  6  0.9350148  0.9128079\n",
      "  0.33666667  7  0.9323931  0.9093381\n",
      "  0.41833333  1  0.9446399  0.9257060\n",
      "  0.41833333  2  0.9418910  0.9220297\n",
      "  0.41833333  3  0.9401398  0.9197028\n",
      "  0.41833333  4  0.9382657  0.9171933\n",
      "  0.41833333  5  0.9375163  0.9161113\n",
      "  0.41833333  6  0.9351399  0.9129767\n",
      "  0.41833333  7  0.9331423  0.9103282\n",
      "  0.50000000  1  0.9445151  0.9255545\n",
      "  0.50000000  2  0.9417660  0.9218605\n",
      "  0.50000000  3  0.9396398  0.9190367\n",
      "  0.50000000  4  0.9382657  0.9171924\n",
      "  0.50000000  5  0.9375163  0.9161113\n",
      "  0.50000000  6  0.9352649  0.9131451\n",
      "  0.50000000  7  0.9332673  0.9104964\n",
      "\n",
      "Kappa was used to select the optimal model using the largest value.\n",
      "The final values used for the model were C = 0.09166667 and M = 1.\n",
      "           C M  Accuracy     Kappa\n",
      "8 0.09166667 1 0.9462629 0.9278473\n"
     ]
    }
   ],
   "source": [
    "# Resultados validación interna\n",
    "internalValidation(c4.5Fit)"
   ]
  },
  {
   "cell_type": "markdown",
   "metadata": {},
   "source": [
    "El valor máximo de C es 0.5 y podemos observar que el mejor resultado se obtiene con M = 2, a partir de ahí a mayor M peores resultados. Por tanto los valores C = 0.09166667 y M = 2son los mejores posebles."
   ]
  },
  {
   "cell_type": "code",
   "execution_count": 18,
   "metadata": {},
   "outputs": [
    {
     "name": "stdout",
     "output_type": "stream",
     "text": [
      "Confusion Matrix and Statistics\n",
      "\n",
      "             Reference\n",
      "Prediction    sitting sittingdown standing standingup walking\n",
      "  sitting         605           3        1          7       0\n",
      "  sittingdown       1         130        2          9       2\n",
      "  standing          0           2      565          7      17\n",
      "  standingup        3          11        3        116       7\n",
      "  walking           0           3       12          8     484\n",
      "\n",
      "Overall Statistics\n",
      "                                        \n",
      "               Accuracy : 0.951         \n",
      "                 95% CI : (0.9405, 0.96)\n",
      "    No Information Rate : 0.3048        \n",
      "    P-Value [Acc > NIR] : < 2.2e-16     \n",
      "                                        \n",
      "                  Kappa : 0.9341        \n",
      "                                        \n",
      " Mcnemar's Test P-Value : NA            \n",
      "\n",
      "Statistics by Class:\n",
      "\n",
      "                     Class: sitting Class: sittingdown Class: standing\n",
      "Sensitivity                  0.9934            0.87248          0.9691\n",
      "Specificity                  0.9921            0.99243          0.9816\n",
      "Pos Pred Value               0.9821            0.90278          0.9560\n",
      "Neg Pred Value               0.9971            0.98975          0.9872\n",
      "Prevalence                   0.3048            0.07457          0.2918\n",
      "Detection Rate               0.3028            0.06507          0.2828\n",
      "Detection Prevalence         0.3083            0.07207          0.2958\n",
      "Balanced Accuracy            0.9928            0.93246          0.9754\n",
      "                     Class: standingup Class: walking\n",
      "Sensitivity                    0.78912         0.9490\n",
      "Specificity                    0.98703         0.9845\n",
      "Pos Pred Value                 0.82857         0.9546\n",
      "Neg Pred Value                 0.98332         0.9826\n",
      "Prevalence                     0.07357         0.2553\n",
      "Detection Rate                 0.05806         0.2422\n",
      "Detection Prevalence           0.07007         0.2538\n",
      "Balanced Accuracy              0.88807         0.9668\n"
     ]
    }
   ],
   "source": [
    "# Resultados validación externa\n",
    "externalValidation(c4.5Fit)"
   ]
  },
  {
   "cell_type": "markdown",
   "metadata": {},
   "source": [
    "**Resultados:**\n",
    "\n",
    "Validación interna (Acc. = 0.9463912 / Kappa = 0.9280605)\n",
    "\n",
    "Validación externa (Acc. = 0.9439 / Kappa = 0.9248)"
   ]
  },
  {
   "cell_type": "markdown",
   "metadata": {},
   "source": [
    "### CART\n",
    "\n",
    "Vamos a probar ahora con un árbol de decisión que emplea el algoritmo CART (rpart y rpart2)."
   ]
  },
  {
   "cell_type": "markdown",
   "metadata": {},
   "source": [
    "#### Rpart\n",
    "\n",
    "Primero probaremos con la versión rpart, que utiliza el parámetro cp (solo se introducirá un nodo en el árbol cuando permita que se reduzca el error en al menos el valor de cp)."
   ]
  },
  {
   "cell_type": "code",
   "execution_count": 19,
   "metadata": {},
   "outputs": [],
   "source": [
    "# Plantamos la semilla para obtener un valor constante tras cada ejecución.\n",
    "set.seed(uo)\n",
    "\n",
    "# Realizamos el entrenamiento de nuestro modelo con rpart.\n",
    "rpartFit <- train(\n",
    "    class ~ .,\n",
    "    data = training,\n",
    "    method = \"rpart\",\n",
    "    trControl = crossValidation,\n",
    "    tuneLength = 10,\n",
    "    metric = \"Kappa\"\n",
    ")"
   ]
  },
  {
   "cell_type": "code",
   "execution_count": 20,
   "metadata": {
    "scrolled": true
   },
   "outputs": [
    {
     "name": "stdout",
     "output_type": "stream",
     "text": [
      "CART \n",
      "\n",
      "8002 samples\n",
      "  12 predictor\n",
      "   5 classes: 'sitting', 'sittingdown', 'standing', 'standingup', 'walking' \n",
      "\n",
      "No pre-processing\n",
      "Resampling: Cross-Validated (10 fold) \n",
      "Summary of sample sizes: 7202, 7201, 7202, 7202, 7202, 7202, ... \n",
      "Resampling results across tuning parameters:\n",
      "\n",
      "  cp           Accuracy   Kappa    \n",
      "  0.007549883  0.8469139  0.7925341\n",
      "  0.011414704  0.8387958  0.7811167\n",
      "  0.013122416  0.8221725  0.7583334\n",
      "  0.019593744  0.8043042  0.7331282\n",
      "  0.030199533  0.7869275  0.7089920\n",
      "  0.038108934  0.7678092  0.6838661\n",
      "  0.053028941  0.7425701  0.6476574\n",
      "  0.060039547  0.6885833  0.5627872\n",
      "  0.171849721  0.6004874  0.4342312\n",
      "  0.361495596  0.4284555  0.1821897\n",
      "\n",
      "Kappa was used to select the optimal model using the largest value.\n",
      "The final value used for the model was cp = 0.007549883.\n",
      "           cp  Accuracy     Kappa  AccuracySD\n",
      "1 0.007549883 0.8469139 0.7925341 0.009119825\n"
     ]
    }
   ],
   "source": [
    "# Resultados validación interna\n",
    "internalValidation(rpartFit)"
   ]
  },
  {
   "cell_type": "markdown",
   "metadata": {},
   "source": [
    "A medida que aumenta el cp se puede ver que el resultado empeora, el mejor es el más bajo 0.00826892."
   ]
  },
  {
   "cell_type": "code",
   "execution_count": 21,
   "metadata": {
    "scrolled": true
   },
   "outputs": [
    {
     "name": "stdout",
     "output_type": "stream",
     "text": [
      "Confusion Matrix and Statistics\n",
      "\n",
      "             Reference\n",
      "Prediction    sitting sittingdown standing standingup walking\n",
      "  sitting         590          27        7          6       1\n",
      "  sittingdown       9          79        2         48      16\n",
      "  standing          0          17      548         41      66\n",
      "  standingup       10           2        0         36       1\n",
      "  walking           0          24       26         16     426\n",
      "\n",
      "Overall Statistics\n",
      "                                          \n",
      "               Accuracy : 0.8403          \n",
      "                 95% CI : (0.8235, 0.8561)\n",
      "    No Information Rate : 0.3048          \n",
      "    P-Value [Acc > NIR] : < 2.2e-16       \n",
      "                                          \n",
      "                  Kappa : 0.7828          \n",
      "                                          \n",
      " Mcnemar's Test P-Value : < 2.2e-16       \n",
      "\n",
      "Statistics by Class:\n",
      "\n",
      "                     Class: sitting Class: sittingdown Class: standing\n",
      "Sensitivity                  0.9688            0.53020          0.9400\n",
      "Specificity                  0.9705            0.95944          0.9124\n",
      "Pos Pred Value               0.9350            0.51299          0.8155\n",
      "Neg Pred Value               0.9861            0.96204          0.9736\n",
      "Prevalence                   0.3048            0.07457          0.2918\n",
      "Detection Rate               0.2953            0.03954          0.2743\n",
      "Detection Prevalence         0.3158            0.07708          0.3363\n",
      "Balanced Accuracy            0.9696            0.74482          0.9262\n",
      "                     Class: standingup Class: walking\n",
      "Sensitivity                    0.24490         0.8353\n",
      "Specificity                    0.99298         0.9556\n",
      "Pos Pred Value                 0.73469         0.8659\n",
      "Neg Pred Value                 0.94305         0.9442\n",
      "Prevalence                     0.07357         0.2553\n",
      "Detection Rate                 0.01802         0.2132\n",
      "Detection Prevalence           0.02452         0.2462\n",
      "Balanced Accuracy              0.61894         0.8955\n"
     ]
    }
   ],
   "source": [
    "# Resultados validación externa\n",
    "externalValidation(rpartFit)"
   ]
  },
  {
   "cell_type": "markdown",
   "metadata": {},
   "source": [
    "**Resultados:**\n",
    "\n",
    "Validación interna (Acc. = 0.8531658 / Kappa = 0.8010712)\n",
    "\n",
    "Validación externa (Acc. = 0.8468 / Kappa = 0.7909)\n",
    "\n",
    "Se puede observar que tanto en el caso de la validación interna como externa los datos obtenidos con el modelo C4.5 son mejores."
   ]
  },
  {
   "cell_type": "markdown",
   "metadata": {},
   "source": [
    "#### Rpart2\n",
    "\n",
    "Ahora probamos con la versión rpart2 que emplea el parámetro maxdepth para controlar la profundidad del árbol. Vamos a modeificar el tunelenght hasta 21 para poder cubrir todos los posibles valores."
   ]
  },
  {
   "cell_type": "code",
   "execution_count": 22,
   "metadata": {},
   "outputs": [],
   "source": [
    "# Plantamos la semilla para obtener un valor constante tras cada ejecución.\n",
    "set.seed(uo)\n",
    "\n",
    "# Realizamos el entrenamiento de nuestro modelo con rpart2.\n",
    "rpart2Fit <- train(\n",
    "    class ~ .,\n",
    "    data = training,\n",
    "    method = \"rpart2\",\n",
    "    trControl = crossValidation,\n",
    "    tuneLength = 21,\n",
    "    metric = \"Kappa\"\n",
    ")"
   ]
  },
  {
   "cell_type": "code",
   "execution_count": 23,
   "metadata": {
    "scrolled": true
   },
   "outputs": [
    {
     "name": "stdout",
     "output_type": "stream",
     "text": [
      "CART \n",
      "\n",
      "8002 samples\n",
      "  12 predictor\n",
      "   5 classes: 'sitting', 'sittingdown', 'standing', 'standingup', 'walking' \n",
      "\n",
      "No pre-processing\n",
      "Resampling: Cross-Validated (10 fold) \n",
      "Summary of sample sizes: 7202, 7201, 7202, 7202, 7202, 7202, ... \n",
      "Resampling results across tuning parameters:\n",
      "\n",
      "  maxdepth  Accuracy   Kappa    \n",
      "   1        0.5561124  0.3701371\n",
      "   2        0.6755834  0.5426041\n",
      "   3        0.7173208  0.6061035\n",
      "   4        0.7531885  0.6654805\n",
      "   5        0.7793056  0.6983422\n",
      "   6        0.8003040  0.7275986\n",
      "   7        0.8139254  0.7463820\n",
      "   9        0.8311706  0.7710737\n",
      "  11        0.8467892  0.7919037\n",
      "  12        0.8467892  0.7919037\n",
      "  15        0.8467892  0.7919037\n",
      "  16        0.8467892  0.7919037\n",
      "  17        0.8467892  0.7919037\n",
      "  18        0.8467892  0.7919037\n",
      "  19        0.8467892  0.7919037\n",
      "  20        0.8467892  0.7919037\n",
      "  21        0.8467892  0.7919037\n",
      "  23        0.8467892  0.7919037\n",
      "  25        0.8467892  0.7919037\n",
      "  27        0.8467892  0.7919037\n",
      "  28        0.8467892  0.7919037\n",
      "\n",
      "Kappa was used to select the optimal model using the largest value.\n",
      "The final value used for the model was maxdepth = 11.\n",
      "  maxdepth  Accuracy     Kappa AccuracySD\n",
      "9       11 0.8467892 0.7919037 0.00933996\n"
     ]
    }
   ],
   "source": [
    "# Resultados validación interna\n",
    "internalValidation(rpart2Fit)"
   ]
  },
  {
   "cell_type": "markdown",
   "metadata": {},
   "source": [
    "Podemos ver que a apartir de una profundidad de 11 el valor de la precisión y de kappa se mantiene constante. Por lo tanto se seleccionará la profundidad de 11 como óptima."
   ]
  },
  {
   "cell_type": "code",
   "execution_count": 24,
   "metadata": {
    "scrolled": true
   },
   "outputs": [
    {
     "name": "stdout",
     "output_type": "stream",
     "text": [
      "Confusion Matrix and Statistics\n",
      "\n",
      "             Reference\n",
      "Prediction    sitting sittingdown standing standingup walking\n",
      "  sitting         590          27        7          6       1\n",
      "  sittingdown       9          79        2         48      16\n",
      "  standing          0          17      548         41      66\n",
      "  standingup       10           2        0         36       1\n",
      "  walking           0          24       26         16     426\n",
      "\n",
      "Overall Statistics\n",
      "                                          \n",
      "               Accuracy : 0.8403          \n",
      "                 95% CI : (0.8235, 0.8561)\n",
      "    No Information Rate : 0.3048          \n",
      "    P-Value [Acc > NIR] : < 2.2e-16       \n",
      "                                          \n",
      "                  Kappa : 0.7828          \n",
      "                                          \n",
      " Mcnemar's Test P-Value : < 2.2e-16       \n",
      "\n",
      "Statistics by Class:\n",
      "\n",
      "                     Class: sitting Class: sittingdown Class: standing\n",
      "Sensitivity                  0.9688            0.53020          0.9400\n",
      "Specificity                  0.9705            0.95944          0.9124\n",
      "Pos Pred Value               0.9350            0.51299          0.8155\n",
      "Neg Pred Value               0.9861            0.96204          0.9736\n",
      "Prevalence                   0.3048            0.07457          0.2918\n",
      "Detection Rate               0.2953            0.03954          0.2743\n",
      "Detection Prevalence         0.3158            0.07708          0.3363\n",
      "Balanced Accuracy            0.9696            0.74482          0.9262\n",
      "                     Class: standingup Class: walking\n",
      "Sensitivity                    0.24490         0.8353\n",
      "Specificity                    0.99298         0.9556\n",
      "Pos Pred Value                 0.73469         0.8659\n",
      "Neg Pred Value                 0.94305         0.9442\n",
      "Prevalence                     0.07357         0.2553\n",
      "Detection Rate                 0.01802         0.2132\n",
      "Detection Prevalence           0.02452         0.2462\n",
      "Balanced Accuracy              0.61894         0.8955\n"
     ]
    }
   ],
   "source": [
    "# Resultados validación externa\n",
    "externalValidation(rpart2Fit)"
   ]
  },
  {
   "cell_type": "markdown",
   "metadata": {},
   "source": [
    "**Resultados:**\n",
    "\n",
    "Validación interna (Acc. = 0.8457903 / Kappa = 0.7901717)\n",
    "\n",
    "Validación externa (Acc. = 0.8468 / Kappa = 0.7909)\n",
    "\n",
    "Se puede observar que tanto en el caso de la validación interna como externa los datos obtenidos con el modelo C4.5 son mejores. Sin embargo pese a que en la validación interna el árbol rpar2 sea peor que el árbol rpart en la validación externa ambos modelos tienen un rendimiento idéntico."
   ]
  },
  {
   "cell_type": "markdown",
   "metadata": {},
   "source": [
    "#### Conclusión árboles de decisión\n",
    "\n",
    "Con los resultados obtenidos podemos decir que el mejor árbol es el C4.5 ya que con nuestro esquema de validación es el que mejor tasa de acierto tiene. Por tanto será el modelo seleccionado de árboles de decisión."
   ]
  },
  {
   "cell_type": "markdown",
   "metadata": {},
   "source": [
    "### Vecinos más cercanos (kNN)\n",
    "\n",
    "Otro de los paradigmas de clasificación vistos durante la asginatura es el de vecinos más cercanos o knn por sus siglas en inglés. Este paradigma no tiene un modelo, lo que hace es comparar el ejemplo con los datos a predecir y a través de distancias a k vecinos más cercanos precedir la clase."
   ]
  },
  {
   "cell_type": "code",
   "execution_count": 25,
   "metadata": {},
   "outputs": [],
   "source": [
    "# Plantamos la semilla para obtener un valor constante tras cada ejecución.\n",
    "set.seed(uo)\n",
    "\n",
    "# Realizamos el entrenamiento de nuestro modelo con knn.\n",
    "knnFit <- train(\n",
    "  class ~ .,\n",
    "  data = training,\n",
    "  method = \"knn\",\n",
    "  trControl = crossValidation,\n",
    "  tuneLength = 10 # k. Número de vecinos a comprobar.\n",
    ")"
   ]
  },
  {
   "cell_type": "code",
   "execution_count": 26,
   "metadata": {
    "scrolled": true
   },
   "outputs": [
    {
     "name": "stdout",
     "output_type": "stream",
     "text": [
      "k-Nearest Neighbors \n",
      "\n",
      "8002 samples\n",
      "  12 predictor\n",
      "   5 classes: 'sitting', 'sittingdown', 'standing', 'standingup', 'walking' \n",
      "\n",
      "No pre-processing\n",
      "Resampling: Cross-Validated (10 fold) \n",
      "Summary of sample sizes: 7202, 7201, 7202, 7202, 7202, 7202, ... \n",
      "Resampling results across tuning parameters:\n",
      "\n",
      "  k   Accuracy   Kappa    \n",
      "   5  0.9687556  0.9580956\n",
      "   7  0.9643826  0.9522177\n",
      "   9  0.9610082  0.9476687\n",
      "  11  0.9578854  0.9434361\n",
      "  13  0.9532637  0.9372242\n",
      "  15  0.9488893  0.9313440\n",
      "  17  0.9455162  0.9268050\n",
      "  19  0.9427673  0.9230987\n",
      "  21  0.9377678  0.9163195\n",
      "  23  0.9340185  0.9112343\n",
      "\n",
      "Accuracy was used to select the optimal model using the largest value.\n",
      "The final value used for the model was k = 5.\n",
      "  k  Accuracy     Kappa AccuracySD\n",
      "1 5 0.9687556 0.9580956 0.00483826\n"
     ]
    }
   ],
   "source": [
    "# Resultados validación interna\n",
    "internalValidation(knnFit)"
   ]
  },
  {
   "cell_type": "code",
   "execution_count": 27,
   "metadata": {
    "scrolled": true
   },
   "outputs": [
    {
     "name": "stdout",
     "output_type": "stream",
     "text": [
      "Confusion Matrix and Statistics\n",
      "\n",
      "             Reference\n",
      "Prediction    sitting sittingdown standing standingup walking\n",
      "  sitting         608           0        0          3       0\n",
      "  sittingdown       1         137        0          5       3\n",
      "  standing          0           4      580          1      19\n",
      "  standingup        0           7        2        136       2\n",
      "  walking           0           1        1          2     486\n",
      "\n",
      "Overall Statistics\n",
      "                                          \n",
      "               Accuracy : 0.9745          \n",
      "                 95% CI : (0.9666, 0.9809)\n",
      "    No Information Rate : 0.3048          \n",
      "    P-Value [Acc > NIR] : < 2.2e-16       \n",
      "                                          \n",
      "                  Kappa : 0.9657          \n",
      "                                          \n",
      " Mcnemar's Test P-Value : NA              \n",
      "\n",
      "Statistics by Class:\n",
      "\n",
      "                     Class: sitting Class: sittingdown Class: standing\n",
      "Sensitivity                  0.9984            0.91946          0.9949\n",
      "Specificity                  0.9978            0.99513          0.9830\n",
      "Pos Pred Value               0.9951            0.93836          0.9603\n",
      "Neg Pred Value               0.9993            0.99352          0.9978\n",
      "Prevalence                   0.3048            0.07457          0.2918\n",
      "Detection Rate               0.3043            0.06857          0.2903\n",
      "Detection Prevalence         0.3058            0.07307          0.3023\n",
      "Balanced Accuracy            0.9981            0.95730          0.9889\n",
      "                     Class: standingup Class: walking\n",
      "Sensitivity                    0.92517         0.9529\n",
      "Specificity                    0.99406         0.9973\n",
      "Pos Pred Value                 0.92517         0.9918\n",
      "Neg Pred Value                 0.99406         0.9841\n",
      "Prevalence                     0.07357         0.2553\n",
      "Detection Rate                 0.06807         0.2432\n",
      "Detection Prevalence           0.07357         0.2452\n",
      "Balanced Accuracy              0.95961         0.9751\n"
     ]
    }
   ],
   "source": [
    "# Resultados validación externa\n",
    "externalValidation(knnFit)"
   ]
  },
  {
   "cell_type": "markdown",
   "metadata": {},
   "source": [
    "**Resultados:**\n",
    "\n",
    "Validación interna (Acc. = 0.9696309 / Kappa = 0.9592485)\n",
    "\n",
    "Validación externa (Acc. = 0.9725 / Kappa = 0.9631)\n",
    "\n",
    "En este modelo puede verse que los resultados con la validación externa superan, muy ligeramente, a los resultados obtenidos durante el aprendizaje."
   ]
  },
  {
   "cell_type": "markdown",
   "metadata": {},
   "source": [
    "## Redes neuronales\n",
    "\n",
    "Este es un método de clasificación no paramétrico, que estima el valor de la función de densidad de probabilidad o directamente la probabilidad a posteriori de que un elemento x pertenezca a la clase C a partir de la información proporcionada por el conjunto de prototipos. En el proceso de aprendizaje no se hace ninguna suposición acerca de la distribución de las variables predictoras."
   ]
  },
  {
   "cell_type": "code",
   "execution_count": 28,
   "metadata": {},
   "outputs": [],
   "source": [
    "plotNNErrorEvolution <- function(nnModel){\n",
    "  ggplot() + geom_line(aes(x=1:length(nnModel$finalModel$IterativeFitError), \n",
    "                           y=nnModel$finalModel$IterativeFitError)) +\n",
    "  xlab(\"Iteraciones\") + ylab(\"Error\") \n",
    "}"
   ]
  },
  {
   "cell_type": "markdown",
   "metadata": {},
   "source": [
    "#### 1 capa oculta"
   ]
  },
  {
   "cell_type": "code",
   "execution_count": 45,
   "metadata": {},
   "outputs": [],
   "source": [
    "# Plantamos la semilla para obtener un valor constante tras cada ejecución.\n",
    "set.seed(uo)\n",
    "\n",
    "# Realizamos el entrenamiento de nuestro modelo\n",
    "nn1LFit <- train(\n",
    "    class ~ .,\n",
    "    data = training,\n",
    "    method = \"mlp\",\n",
    "    trControl = crossValidation,\n",
    "    metric = \"Kappa\",\n",
    "    preProcess=c(\"center\",\"scale\"),\n",
    "    tuneGrid = data.frame(size=seq(80,100,20))\n",
    ")\n",
    "\n",
    "nneurons1L <- nn1LFit$results[rownames(nn1LFit$bestTune),1]"
   ]
  },
  {
   "cell_type": "code",
   "execution_count": null,
   "metadata": {},
   "outputs": [],
   "source": [
    "# Resultados validación interna\n",
    "internalValidation(nn1LFit)"
   ]
  },
  {
   "cell_type": "markdown",
   "metadata": {},
   "source": [
    "En la validación interna los resultados ya son buenos en un primer lugar, obtenemos una kappa de y unb acc. de . Por tanto procedemos a ver la gr"
   ]
  },
  {
   "cell_type": "code",
   "execution_count": 44,
   "metadata": {},
   "outputs": [
    {
     "name": "stdout",
     "output_type": "stream",
     "text": [
      "Multi-Layer Perceptron \n",
      "\n",
      "8002 samples\n",
      "  12 predictor\n",
      "   5 classes: 'sitting', 'sittingdown', 'standing', 'standingup', 'walking' \n",
      "\n",
      "Pre-processing: centered (12), scaled (12) \n",
      "Resampling: Cross-Validated (10 fold) \n",
      "Summary of sample sizes: 7202, 7201, 7202, 7202, 7202, 7202, ... \n",
      "Resampling results across tuning parameters:\n",
      "\n",
      "  size  Accuracy   Kappa    \n",
      "   90   0.9745090  0.9657949\n",
      "  100   0.9736342  0.9646275\n",
      "  110   0.9740073  0.9651393\n",
      "\n",
      "Kappa was used to select the optimal model using the largest value.\n",
      "The final value used for the model was size = 90.\n",
      "  size Accuracy     Kappa  AccuracySD\n",
      "1   90 0.974509 0.9657949 0.005259585\n"
     ]
    },
    {
     "data": {
      "text/html": [
       "<dl class=dl-horizontal>\n",
       "\t<dt>sitting</dt>\n",
       "\t\t<dd>0.304798800299925</dd>\n",
       "\t<dt>sittingdown</dt>\n",
       "\t\t<dd>0.0749812546863284</dd>\n",
       "\t<dt>standing</dt>\n",
       "\t\t<dd>0.291427143214196</dd>\n",
       "\t<dt>standingup</dt>\n",
       "\t\t<dd>0.0738565358660335</dd>\n",
       "\t<dt>walking</dt>\n",
       "\t\t<dd>0.254936265933517</dd>\n",
       "</dl>\n"
      ],
      "text/latex": [
       "\\begin{description*}\n",
       "\\item[sitting] 0.304798800299925\n",
       "\\item[sittingdown] 0.0749812546863284\n",
       "\\item[standing] 0.291427143214196\n",
       "\\item[standingup] 0.0738565358660335\n",
       "\\item[walking] 0.254936265933517\n",
       "\\end{description*}\n"
      ],
      "text/markdown": [
       "sitting\n",
       ":   0.304798800299925sittingdown\n",
       ":   0.0749812546863284standing\n",
       ":   0.291427143214196standingup\n",
       ":   0.0738565358660335walking\n",
       ":   0.254936265933517\n",
       "\n"
      ],
      "text/plain": [
       "    sitting sittingdown    standing  standingup     walking \n",
       " 0.30479880  0.07498125  0.29142714  0.07385654  0.25493627 "
      ]
     },
     "metadata": {},
     "output_type": "display_data"
    },
    {
     "data": {
      "text/plain": [
       "Confusion Matrix and Statistics\n",
       "\n",
       "             Reference\n",
       "Prediction    sitting sittingdown standing standingup walking\n",
       "  sitting        2431           2        0          2       0\n",
       "  sittingdown       1         585        0         10       2\n",
       "  standing          0           7     2319         14      19\n",
       "  standingup        5           0        8        561       1\n",
       "  walking           2           6        5          4    2018\n",
       "\n",
       "Overall Statistics\n",
       "                                          \n",
       "               Accuracy : 0.989           \n",
       "                 95% CI : (0.9865, 0.9912)\n",
       "    No Information Rate : 0.3048          \n",
       "    P-Value [Acc > NIR] : < 2.2e-16       \n",
       "                                          \n",
       "                  Kappa : 0.9853          \n",
       "                                          \n",
       " Mcnemar's Test P-Value : NA              \n",
       "\n",
       "Statistics by Class:\n",
       "\n",
       "                     Class: sitting Class: sittingdown Class: standing\n",
       "Sensitivity                  0.9967            0.97500          0.9944\n",
       "Specificity                  0.9993            0.99824          0.9929\n",
       "Pos Pred Value               0.9984            0.97826          0.9830\n",
       "Neg Pred Value               0.9986            0.99797          0.9977\n",
       "Prevalence                   0.3048            0.07498          0.2914\n",
       "Detection Rate               0.3038            0.07311          0.2898\n",
       "Detection Prevalence         0.3043            0.07473          0.2948\n",
       "Balanced Accuracy            0.9980            0.98662          0.9937\n",
       "                     Class: standingup Class: walking\n",
       "Sensitivity                    0.94924         0.9892\n",
       "Specificity                    0.99811         0.9971\n",
       "Pos Pred Value                 0.97565         0.9916\n",
       "Neg Pred Value                 0.99596         0.9963\n",
       "Prevalence                     0.07386         0.2549\n",
       "Detection Rate                 0.07011         0.2522\n",
       "Detection Prevalence           0.07186         0.2543\n",
       "Balanced Accuracy              0.97367         0.9932"
      ]
     },
     "metadata": {},
     "output_type": "display_data"
    },
    {
     "data": {
      "image/png": "[encoded data removed]",
      "text/plain": [
       "plot without title"
      ]
     },
     "metadata": {
      "image/png": {
       "height": 420,
       "width": 420
      },
      "text/plain": {
       "height": 420,
       "width": 420
      }
     },
     "output_type": "display_data"
    }
   ],
   "source": [
    "# Resultados validación interna\n",
    "internalValidation(nn1LFit)\n",
    "\n",
    "# Porcentaje de datos de cada clase en los datos de entrenamiento\n",
    "summary(training$class)/sum(summary(training$class)) \n",
    "\n",
    "confusionMatrix(predict(nn1LFit,training),training$class)\n",
    "\n",
    "# Dibujamos la evolución del error a lo largo de las iteraciones de la red\n",
    "plotNNErrorEvolution(nn1LFit)"
   ]
  },
  {
   "cell_type": "markdown",
   "metadata": {},
   "source": [
    "Una vez entrenado nuestro modelo podemos ver los siguientes resultados respecto a los datos de entrenamiento y los datos de validación.    965514 "
   ]
  },
  {
   "cell_type": "code",
   "execution_count": null,
   "metadata": {},
   "outputs": [],
   "source": [
    "# Modelo de una única capa oculta.\n",
    "nn1LFit$results[rownames(nn1LFit$bestTune),1:4]\n",
    "\n",
    "# Matriz de confusión para el modelo de una única capa oculta.\n",
    "confusionMatrix(predict(nn1LFit,testing), factor(testing$class))$overall[1:4]"
   ]
  },
  {
   "cell_type": "markdown",
   "metadata": {},
   "source": [
    "Para el modelo anterior encontramos que la precisión más elevada se da cuando empleamos 60 neuronas en la capa oculta, con un 98.8% sobre los datos de entrenamiento y un 98.99% sobre los datos de validación.\n",
    "\n",
    "Vamos a probar con redes más profundas, pero limitando la complejidad (número de parámetros) a un nivel similar a la red anterior."
   ]
  },
  {
   "cell_type": "code",
   "execution_count": 23,
   "metadata": {},
   "outputs": [],
   "source": [
    "# Plantamos la semilla para obtener un valor constante tras cada ejecución.\n",
    "set.seed(uo)\n",
    "\n",
    "# Realizamos el entrenamiento de nuestro modelo\n",
    "nn2LFit <- train(\n",
    "    class ~ .,\n",
    "    data = training,\n",
    "    method = \"mlpML\",\n",
    "    trControl = crossValidation,\n",
    "    learnFuncParams = c(0.02,0),\n",
    "    tuneGrid = expand.grid(layer1=seq(nneurons1L-1,nneurons1L+1,1),\n",
    "                           layer2=seq(nneurons1L-1,nneurons1L+1,1),\n",
    "                           layer3=0)\n",
    ")\n",
    "\n",
    "nneurons2L1 <- nn2LFit$results[rownames(nn2LFit$bestTune),1]\n",
    "nneurons2L2 <- nn2LFit$results[rownames(nn2LFit$bestTune),2]"
   ]
  },
  {
   "cell_type": "markdown",
   "metadata": {},
   "source": [
    "Una vez entrenado nuestro modelo podemos ver los siguientes resultados respecto a los datos de entrenamiento y los datos de validación."
   ]
  },
  {
   "cell_type": "code",
   "execution_count": 24,
   "metadata": {},
   "outputs": [
    {
     "data": {
      "text/html": [
       "<table>\n",
       "<caption>A data.frame: 1 × 4</caption>\n",
       "<thead>\n",
       "\t<tr><th></th><th scope=col>layer1</th><th scope=col>layer2</th><th scope=col>layer3</th><th scope=col>Accuracy</th></tr>\n",
       "\t<tr><th></th><th scope=col>&lt;dbl&gt;</th><th scope=col>&lt;dbl&gt;</th><th scope=col>&lt;dbl&gt;</th><th scope=col>&lt;dbl&gt;</th></tr>\n",
       "</thead>\n",
       "<tbody>\n",
       "\t<tr><th scope=row>4</th><td>5</td><td>4</td><td>0</td><td>0.5794481</td></tr>\n",
       "</tbody>\n",
       "</table>\n"
      ],
      "text/latex": [
       "A data.frame: 1 × 4\n",
       "\\begin{tabular}{r|llll}\n",
       "  & layer1 & layer2 & layer3 & Accuracy\\\\\n",
       "  & <dbl> & <dbl> & <dbl> & <dbl>\\\\\n",
       "\\hline\n",
       "\t4 & 5 & 4 & 0 & 0.5794481\\\\\n",
       "\\end{tabular}\n"
      ],
      "text/markdown": [
       "\n",
       "A data.frame: 1 × 4\n",
       "\n",
       "| <!--/--> | layer1 &lt;dbl&gt; | layer2 &lt;dbl&gt; | layer3 &lt;dbl&gt; | Accuracy &lt;dbl&gt; |\n",
       "|---|---|---|---|---|\n",
       "| 4 | 5 | 4 | 0 | 0.5794481 |\n",
       "\n"
      ],
      "text/plain": [
       "  layer1 layer2 layer3 Accuracy \n",
       "4 5      4      0      0.5794481"
      ]
     },
     "metadata": {},
     "output_type": "display_data"
    },
    {
     "data": {
      "text/html": [
       "<dl class=dl-horizontal>\n",
       "\t<dt>Accuracy</dt>\n",
       "\t\t<dd>0.544035228182546</dd>\n",
       "\t<dt>Kappa</dt>\n",
       "\t\t<dd>0.354357328187354</dd>\n",
       "\t<dt>AccuracyLower</dt>\n",
       "\t\t<dd>0.524261744582433</dd>\n",
       "\t<dt>AccuracyUpper</dt>\n",
       "\t\t<dd>0.563705348485987</dd>\n",
       "</dl>\n"
      ],
      "text/latex": [
       "\\begin{description*}\n",
       "\\item[Accuracy] 0.544035228182546\n",
       "\\item[Kappa] 0.354357328187354\n",
       "\\item[AccuracyLower] 0.524261744582433\n",
       "\\item[AccuracyUpper] 0.563705348485987\n",
       "\\end{description*}\n"
      ],
      "text/markdown": [
       "Accuracy\n",
       ":   0.544035228182546Kappa\n",
       ":   0.354357328187354AccuracyLower\n",
       ":   0.524261744582433AccuracyUpper\n",
       ":   0.563705348485987\n",
       "\n"
      ],
      "text/plain": [
       "     Accuracy         Kappa AccuracyLower AccuracyUpper \n",
       "    0.5440352     0.3543573     0.5242617     0.5637053 "
      ]
     },
     "metadata": {},
     "output_type": "display_data"
    }
   ],
   "source": [
    "# Modelo de 2 capas ocultas.\n",
    "nn2LFit$results[rownames(nn2LFit$bestTune),1:4]\n",
    "\n",
    "# Matriz de confusión para el modelo de dos capas ocultas.\n",
    "confusionMatrix(predict(nn2LFit,testing), factor(testing$class))$overall[1:4]"
   ]
  },
  {
   "cell_type": "markdown",
   "metadata": {},
   "source": [
    "Con los resultados anteriores podemos observar que para este problema una red neuronal de dos capas da una precisión ligeramente inferior a la red de una capa. Sin embargo vamos a explorar también el modelo construido con 3 capas ocultas para ver si una red aún más profunda favorece a la precisión."
   ]
  },
  {
   "cell_type": "code",
   "execution_count": null,
   "metadata": {},
   "outputs": [],
   "source": [
    "# Plantamos la semilla para obtener un valor constante tras cada ejecución.\n",
    "set.seed(uo)\n",
    "\n",
    "# Realizamos el entrenamiento de nuestro modelo\n",
    "nn3LFit <- train(\n",
    "    class ~ .,\n",
    "    data = training,\n",
    "    method = \"mlpML\",\n",
    "    trControl = crossValidation,\n",
    "    learnFuncParams = c(0.02,0),\n",
    "    tuneGrid = expand.grid(layer1=seq(nneurons1L-1,nneurons1L+1,1),\n",
    "                           layer2=seq(nneurons1L-1,nneurons1L+1,1),\n",
    "                           layer3=seq(nneurons1L-1,nneurons1L+1,1))\n",
    ")\n",
    "\n",
    "nneurons3L1 <- nn3LFit$results[rownames(nn3LFit$bestTune),1]\n",
    "nneurons3L2 <- nn3LFit$results[rownames(nn3LFit$bestTune),2]\n",
    "nneurons3L3 <- nn3LFit$results[rownames(nn3LFit$bestTune),3]"
   ]
  },
  {
   "cell_type": "markdown",
   "metadata": {},
   "source": [
    "Una vez entrenado nuestro modelo podemos ver los siguientes resultados respecto a los datos de entrenamiento y los datos de validación."
   ]
  },
  {
   "cell_type": "code",
   "execution_count": null,
   "metadata": {
    "scrolled": true
   },
   "outputs": [],
   "source": [
    "# Modelo de tres capas ocultas.\n",
    "nn3LFit$results[rownames(nn3LFit$bestTune),1:4]\n",
    "\n",
    "# Matriz de confusión para el modelo de tres capas ocultas.\n",
    "confusionMatrix(predict(nn3LFit,testing), factor(testing$class))$overall[1:4]"
   ]
  },
  {
   "cell_type": "markdown",
   "metadata": {},
   "source": [
    "Parece que el modelo de 3 capas ocultas reduce la precisión sobre los datos de entrenamiento y de validación, por lo tanto, en una primera hipótesis el modelo de una capa oculta es el mejor para nuestro problema.\n",
    "\n",
    "Para intentar entender estas diferencias vamos a inspeccionar como ha ido el proceso de aprendizaje de cada modelo."
   ]
  },
  {
   "cell_type": "code",
   "execution_count": 27,
   "metadata": {},
   "outputs": [
    {
     "data": {
      "image/png": "[encoded data removed]",
      "text/plain": [
       "plot without title"
      ]
     },
     "metadata": {
      "image/png": {
       "height": 180,
       "width": 600
      },
      "text/plain": {
       "height": 180,
       "width": 600
      }
     },
     "output_type": "display_data"
    }
   ],
   "source": [
    "# Configuración del tamaño de las gráficas.\n",
    "options(repr.plot.width=10, repr.plot.height=3)\n",
    "\n",
    "errorNn1Err <- ggplot() + geom_line(aes(x=1:length(nn1LFit$finalModel$IterativeFitError), y=nn1LFit$finalModel$IterativeFitError)) +\n",
    "xlab(\"Iteraciones\") + ylab(\"Error\") + ggtitle(\"1 HLayer Model\") + theme(plot.title = element_text(hjust = 0.5))\n",
    "\n",
    "errorNn2Err <- ggplot() + geom_line(aes(x=1:length(nn2LFit$finalModel$IterativeFitError), y=nn2LFit$finalModel$IterativeFitError)) +\n",
    "xlab(\"Iteraciones\") + ylab(\"Error\") + ggtitle(\"2 HLayer Model\") + theme(plot.title = element_text(hjust = 0.5))\n",
    "\n",
    "errorNn3Err <- ggplot() + geom_line(aes(x=1:length(nn3LFit$finalModel$IterativeFitError), y=nn3LFit$finalModel$IterativeFitError)) +\n",
    "xlab(\"Iteraciones\") + ylab(\"Error\") + ggtitle(\"3 HLayer Model\") + theme(plot.title = element_text(hjust = 0.5))\n",
    "\n",
    "grid.arrange(errorNn1Err, errorNn2Err, errorNn3Err, ncol=3)"
   ]
  },
  {
   "cell_type": "markdown",
   "metadata": {},
   "source": [
    "De las curvas de aprendizaje anteriores podemos ver que en ninguna de ellas el error cometido alcanza un valor estable y está decreciendo en el momento de terminar las iteraciones (100 por defecto).\n",
    "\n",
    "Pues ahora vamos a generar un modelo fijando el número de neuronas que daba el mejor resultado, pero aumentando el número de iteraciones. Previamente se ha comprovado que para valores mayores de 1000 el error permanece más o menos constante en todos los modelos, por tanto el valor `maxit` se corresponderá con el que mejor resultado de para los datos de validación. Así mismo también fijaremos el ratio de aprendizaje en 0.03 ya que es el que mejores resultados nos da."
   ]
  },
  {
   "cell_type": "code",
   "execution_count": 28,
   "metadata": {},
   "outputs": [],
   "source": [
    "# Plantamos la semilla para obtener un valor constante tras cada ejecución.\n",
    "set.seed(uo)\n",
    "\n",
    "# Realizamos el entrenamiento de nuestro modelo\n",
    "nn1LFitOptimized <- train(\n",
    "    class ~ .,\n",
    "    data = training,\n",
    "    method = \"mlp\",\n",
    "    trControl = crossValidation,\n",
    "    tuneGrid = data.frame(size=nneurons1L),\n",
    "    maxit = 500,\n",
    "    learnFuncParams = c(0.02,0)\n",
    ")"
   ]
  },
  {
   "cell_type": "code",
   "execution_count": 29,
   "metadata": {},
   "outputs": [],
   "source": [
    "# Plantamos la semilla para obtener un valor constante tras cada ejecución.\n",
    "set.seed(uo)\n",
    "\n",
    "# Realizamos el entrenamiento de nuestro modelo\n",
    "nn2LFitOptimized <- train(\n",
    "    class ~ .,\n",
    "    data = training,\n",
    "    method = \"mlpML\",\n",
    "    trControl = crossValidation,\n",
    "    tuneGrid = expand.grid(layer1=nneurons2L1, layer2=nneurons2L2, layer3=0),\n",
    "    maxit = 1500,\n",
    "    learnFuncParams = c(0.005,0)\n",
    ")"
   ]
  },
  {
   "cell_type": "code",
   "execution_count": 31,
   "metadata": {},
   "outputs": [],
   "source": [
    "# Plantamos la semilla para obtener un valor constante tras cada ejecución.\n",
    "set.seed(uo)\n",
    "\n",
    "# Realizamos el entrenamiento de nuestro modelo\n",
    "nn3LFitOptimized <- train(\n",
    "    class ~ .,\n",
    "    data = training,\n",
    "    method = \"mlpML\",\n",
    "    trControl = crossValidation,\n",
    "    tuneGrid = expand.grid(layer1=nneurons3L1, layer2=nneurons3L2, layer3=nneurons3L3),\n",
    "    maxit = 1750,\n",
    "    learnFuncParams = c(0.005,0)\n",
    ")"
   ]
  },
  {
   "cell_type": "markdown",
   "metadata": {},
   "source": [
    "Una vez realizado el entrenamiento de los tres modelos con el número de iteraciones fijado en 1000, 1000 y 1500 podemos volver a obtener los resultados con respecto a los datos de entrenamiento y validación."
   ]
  },
  {
   "cell_type": "code",
   "execution_count": 34,
   "metadata": {},
   "outputs": [
    {
     "data": {
      "text/html": [
       "<table>\n",
       "<caption>A data.frame: 1 × 4</caption>\n",
       "<thead>\n",
       "\t<tr><th scope=col>size</th><th scope=col>Accuracy</th><th scope=col>Kappa</th><th scope=col>AccuracySD</th></tr>\n",
       "\t<tr><th scope=col>&lt;dbl&gt;</th><th scope=col>&lt;dbl&gt;</th><th scope=col>&lt;dbl&gt;</th><th scope=col>&lt;dbl&gt;</th></tr>\n",
       "</thead>\n",
       "<tbody>\n",
       "\t<tr><td>60</td><td>0.5996529</td><td>0.4394386</td><td>0.0753897</td></tr>\n",
       "</tbody>\n",
       "</table>\n"
      ],
      "text/latex": [
       "A data.frame: 1 × 4\n",
       "\\begin{tabular}{r|llll}\n",
       " size & Accuracy & Kappa & AccuracySD\\\\\n",
       " <dbl> & <dbl> & <dbl> & <dbl>\\\\\n",
       "\\hline\n",
       "\t 60 & 0.5996529 & 0.4394386 & 0.0753897\\\\\n",
       "\\end{tabular}\n"
      ],
      "text/markdown": [
       "\n",
       "A data.frame: 1 × 4\n",
       "\n",
       "| size &lt;dbl&gt; | Accuracy &lt;dbl&gt; | Kappa &lt;dbl&gt; | AccuracySD &lt;dbl&gt; |\n",
       "|---|---|---|---|\n",
       "| 60 | 0.5996529 | 0.4394386 | 0.0753897 |\n",
       "\n"
      ],
      "text/plain": [
       "  size Accuracy  Kappa     AccuracySD\n",
       "1 60   0.5996529 0.4394386 0.0753897 "
      ]
     },
     "metadata": {},
     "output_type": "display_data"
    },
    {
     "data": {
      "text/html": [
       "<dl class=dl-horizontal>\n",
       "\t<dt>Accuracy</dt>\n",
       "\t\t<dd>0.694555644515612</dd>\n",
       "\t<dt>Kappa</dt>\n",
       "\t\t<dd>0.581014280221736</dd>\n",
       "\t<dt>AccuracyLower</dt>\n",
       "\t\t<dd>0.676072810358709</dd>\n",
       "\t<dt>AccuracyUpper</dt>\n",
       "\t\t<dd>0.712581308660721</dd>\n",
       "</dl>\n"
      ],
      "text/latex": [
       "\\begin{description*}\n",
       "\\item[Accuracy] 0.694555644515612\n",
       "\\item[Kappa] 0.581014280221736\n",
       "\\item[AccuracyLower] 0.676072810358709\n",
       "\\item[AccuracyUpper] 0.712581308660721\n",
       "\\end{description*}\n"
      ],
      "text/markdown": [
       "Accuracy\n",
       ":   0.694555644515612Kappa\n",
       ":   0.581014280221736AccuracyLower\n",
       ":   0.676072810358709AccuracyUpper\n",
       ":   0.712581308660721\n",
       "\n"
      ],
      "text/plain": [
       "     Accuracy         Kappa AccuracyLower AccuracyUpper \n",
       "    0.6945556     0.5810143     0.6760728     0.7125813 "
      ]
     },
     "metadata": {},
     "output_type": "display_data"
    },
    {
     "data": {
      "text/html": [
       "<table>\n",
       "<caption>A data.frame: 1 × 4</caption>\n",
       "<thead>\n",
       "\t<tr><th scope=col>layer1</th><th scope=col>layer2</th><th scope=col>layer3</th><th scope=col>Accuracy</th></tr>\n",
       "\t<tr><th scope=col>&lt;dbl&gt;</th><th scope=col>&lt;dbl&gt;</th><th scope=col>&lt;dbl&gt;</th><th scope=col>&lt;dbl&gt;</th></tr>\n",
       "</thead>\n",
       "<tbody>\n",
       "\t<tr><td>65</td><td>64</td><td>0</td><td>0.830574</td></tr>\n",
       "</tbody>\n",
       "</table>\n"
      ],
      "text/latex": [
       "A data.frame: 1 × 4\n",
       "\\begin{tabular}{r|llll}\n",
       " layer1 & layer2 & layer3 & Accuracy\\\\\n",
       " <dbl> & <dbl> & <dbl> & <dbl>\\\\\n",
       "\\hline\n",
       "\t 65 & 64 & 0 & 0.830574\\\\\n",
       "\\end{tabular}\n"
      ],
      "text/markdown": [
       "\n",
       "A data.frame: 1 × 4\n",
       "\n",
       "| layer1 &lt;dbl&gt; | layer2 &lt;dbl&gt; | layer3 &lt;dbl&gt; | Accuracy &lt;dbl&gt; |\n",
       "|---|---|---|---|\n",
       "| 65 | 64 | 0 | 0.830574 |\n",
       "\n"
      ],
      "text/plain": [
       "  layer1 layer2 layer3 Accuracy\n",
       "1 65     64     0      0.830574"
      ]
     },
     "metadata": {},
     "output_type": "display_data"
    },
    {
     "data": {
      "text/html": [
       "<dl class=dl-horizontal>\n",
       "\t<dt>Accuracy</dt>\n",
       "\t\t<dd>0.827061649319456</dd>\n",
       "\t<dt>Kappa</dt>\n",
       "\t\t<dd>0.768481941400059</dd>\n",
       "\t<dt>AccuracyLower</dt>\n",
       "\t\t<dd>0.811649698250516</dd>\n",
       "\t<dt>AccuracyUpper</dt>\n",
       "\t\t<dd>0.841702673879779</dd>\n",
       "</dl>\n"
      ],
      "text/latex": [
       "\\begin{description*}\n",
       "\\item[Accuracy] 0.827061649319456\n",
       "\\item[Kappa] 0.768481941400059\n",
       "\\item[AccuracyLower] 0.811649698250516\n",
       "\\item[AccuracyUpper] 0.841702673879779\n",
       "\\end{description*}\n"
      ],
      "text/markdown": [
       "Accuracy\n",
       ":   0.827061649319456Kappa\n",
       ":   0.768481941400059AccuracyLower\n",
       ":   0.811649698250516AccuracyUpper\n",
       ":   0.841702673879779\n",
       "\n"
      ],
      "text/plain": [
       "     Accuracy         Kappa AccuracyLower AccuracyUpper \n",
       "    0.8270616     0.7684819     0.8116497     0.8417027 "
      ]
     },
     "metadata": {},
     "output_type": "display_data"
    },
    {
     "data": {
      "text/html": [
       "<table>\n",
       "<caption>A data.frame: 1 × 4</caption>\n",
       "<thead>\n",
       "\t<tr><th scope=col>layer1</th><th scope=col>layer2</th><th scope=col>layer3</th><th scope=col>Accuracy</th></tr>\n",
       "\t<tr><th scope=col>&lt;dbl&gt;</th><th scope=col>&lt;dbl&gt;</th><th scope=col>&lt;dbl&gt;</th><th scope=col>&lt;dbl&gt;</th></tr>\n",
       "</thead>\n",
       "<tbody>\n",
       "\t<tr><td>60</td><td>59</td><td>60</td><td>0.8283195</td></tr>\n",
       "</tbody>\n",
       "</table>\n"
      ],
      "text/latex": [
       "A data.frame: 1 × 4\n",
       "\\begin{tabular}{r|llll}\n",
       " layer1 & layer2 & layer3 & Accuracy\\\\\n",
       " <dbl> & <dbl> & <dbl> & <dbl>\\\\\n",
       "\\hline\n",
       "\t 60 & 59 & 60 & 0.8283195\\\\\n",
       "\\end{tabular}\n"
      ],
      "text/markdown": [
       "\n",
       "A data.frame: 1 × 4\n",
       "\n",
       "| layer1 &lt;dbl&gt; | layer2 &lt;dbl&gt; | layer3 &lt;dbl&gt; | Accuracy &lt;dbl&gt; |\n",
       "|---|---|---|---|\n",
       "| 60 | 59 | 60 | 0.8283195 |\n",
       "\n"
      ],
      "text/plain": [
       "  layer1 layer2 layer3 Accuracy \n",
       "1 60     59     60     0.8283195"
      ]
     },
     "metadata": {},
     "output_type": "display_data"
    },
    {
     "data": {
      "text/html": [
       "<dl class=dl-horizontal>\n",
       "\t<dt>Accuracy</dt>\n",
       "\t\t<dd>0.868294635708567</dd>\n",
       "\t<dt>Kappa</dt>\n",
       "\t\t<dd>0.822752361168144</dd>\n",
       "\t<dt>AccuracyLower</dt>\n",
       "\t\t<dd>0.854400769048006</dd>\n",
       "\t<dt>AccuracyUpper</dt>\n",
       "\t\t<dd>0.881318607302765</dd>\n",
       "</dl>\n"
      ],
      "text/latex": [
       "\\begin{description*}\n",
       "\\item[Accuracy] 0.868294635708567\n",
       "\\item[Kappa] 0.822752361168144\n",
       "\\item[AccuracyLower] 0.854400769048006\n",
       "\\item[AccuracyUpper] 0.881318607302765\n",
       "\\end{description*}\n"
      ],
      "text/markdown": [
       "Accuracy\n",
       ":   0.868294635708567Kappa\n",
       ":   0.822752361168144AccuracyLower\n",
       ":   0.854400769048006AccuracyUpper\n",
       ":   0.881318607302765\n",
       "\n"
      ],
      "text/plain": [
       "     Accuracy         Kappa AccuracyLower AccuracyUpper \n",
       "    0.8682946     0.8227524     0.8544008     0.8813186 "
      ]
     },
     "metadata": {},
     "output_type": "display_data"
    }
   ],
   "source": [
    "# Modelo de una única capa oculta.\n",
    "nn1LFitOptimized$results[rownames(nn1LFitOptimized$bestTune),1:4]\n",
    "\n",
    "# Matriz de confusión para el modelo de una única capa oculta.\n",
    "confusionMatrix(predict(nn1LFitOptimized,testing), factor(testing$class))$overall[1:4]\n",
    "\n",
    "# Modelo de 2 capas oculta con 5-7 neuronas.\n",
    "nn2LFitOptimized$results[rownames(nn2LFitOptimized$bestTune),1:4]\n",
    "\n",
    "# Matriz de confusión para el modelo de una única capa oculta y 7 neuronas.\n",
    "confusionMatrix(predict(nn2LFitOptimized,testing), factor(testing$class))$overall[1:4]\n",
    "\n",
    "# Modelo de tres capas ocultas con 5-5-5 neuronas.\n",
    "nn3LFitOptimized$results[rownames(nn3LFitOptimized$bestTune),1:4]\n",
    "\n",
    "# Matriz de confusión para el modelo de una única capa oculta y 7 neuronas.\n",
    "confusionMatrix(predict(nn3LFitOptimized,testing), factor(testing$class))$overall[1:4]"
   ]
  },
  {
   "cell_type": "markdown",
   "metadata": {},
   "source": [
    "En los resultados anteriores podemos observar que el modelo de una capa oculta es aquel que mejor precisión nos da sobre los datos de aprendizaje. Pero antes de realizar cualquier conclusión vamos a ver las curvas de apredizaje y realizar los tests binomiales y de t para ver si las diferencias son significativas."
   ]
  },
  {
   "cell_type": "code",
   "execution_count": 35,
   "metadata": {},
   "outputs": [
    {
     "data": {
      "image/png": "[encoded data removed]",
      "text/plain": [
       "plot without title"
      ]
     },
     "metadata": {
      "image/png": {
       "height": 180,
       "width": 600
      },
      "text/plain": {
       "height": 180,
       "width": 600
      }
     },
     "output_type": "display_data"
    }
   ],
   "source": [
    "# Configuración del tamaño de las gráficas.\n",
    "options(repr.plot.width=10, repr.plot.height=3)\n",
    "\n",
    "errorNn1OptimizedErr <- ggplot() + geom_line(aes(x=1:length(nn1LFitOptimized$finalModel$IterativeFitError), y=nn1LFitOptimized$finalModel$IterativeFitError)) +\n",
    "xlab(\"Iteraciones\") + ylab(\"Error\") + ggtitle(\"1 HLayer Model\") + theme(plot.title = element_text(hjust = 0.5))\n",
    "\n",
    "errorNn2OptimizedErr <- ggplot() + geom_line(aes(x=1:length(nn2LFitOptimized$finalModel$IterativeFitError), y=nn2LFitOptimized$finalModel$IterativeFitError)) +\n",
    "xlab(\"Iteraciones\") + ylab(\"Error\") + ggtitle(\"2 HLayer Model\") + theme(plot.title = element_text(hjust = 0.5))\n",
    "\n",
    "errorNn3OptimizedErr <- ggplot() + geom_line(aes(x=1:length(nn3LFitOptimized$finalModel$IterativeFitError), y=nn3LFitOptimized$finalModel$IterativeFitError)) +\n",
    "xlab(\"Iteraciones\") + ylab(\"Error\") + ggtitle(\"3 HLayer Model\") + theme(plot.title = element_text(hjust = 0.5))\n",
    "\n",
    "grid.arrange(errorNn1OptimizedErr, errorNn2OptimizedErr, errorNn3OptimizedErr, ncol=3)"
   ]
  },
  {
   "cell_type": "code",
   "execution_count": 37,
   "metadata": {},
   "outputs": [
    {
     "data": {
      "text/plain": [
       "\n",
       "\tExact binomial test\n",
       "\n",
       "data:  c(round(confusionMatrix(predict(nn1LFitOptimized, testing), factor(testing$class))$overall[1]),     round(1 - confusionMatrix(predict(nn1LFitOptimized, testing),         factor(testing$class))$overall[1])) * nrow(testing)\n",
       "number of successes = 2498, number of trials = 2498, p-value < 2.2e-16\n",
       "alternative hypothesis: true probability of success is not equal to 0.8270616\n",
       "95 percent confidence interval:\n",
       " 0.9985244 1.0000000\n",
       "sample estimates:\n",
       "probability of success \n",
       "                     1 \n"
      ]
     },
     "metadata": {},
     "output_type": "display_data"
    },
    {
     "data": {
      "text/plain": [
       "\n",
       "\tPaired t-test\n",
       "\n",
       "data:  nn1LFitOptimized$resample$Accuracy and nn2LFitOptimized$resample$Accuracy\n",
       "t = -10.125, df = 9, p-value = 3.227e-06\n",
       "alternative hypothesis: true difference in means is not equal to 0\n",
       "95 percent confidence interval:\n",
       " -0.2825154 -0.1793269\n",
       "sample estimates:\n",
       "mean of the differences \n",
       "             -0.2309212 \n"
      ]
     },
     "metadata": {},
     "output_type": "display_data"
    }
   ],
   "source": [
    "# Test binomial entre nn1LFitOptimized y nn2LFitOptimized \n",
    "binom.test(c(round(confusionMatrix(predict(nn1LFitOptimized,testing), factor(testing$class))$overall[1]),\n",
    "             round(1 - confusionMatrix(predict(nn1LFitOptimized,testing), factor(testing$class))$overall[1])\n",
    "            )*nrow(testing),\n",
    "           p = confusionMatrix(predict(nn2LFitOptimized,testing), factor(testing$class))$overall[1])\n",
    "\n",
    "# Test entre n1LFitOptimized y nn2LFitOptimized de validación cruzada.\n",
    "t.test(nn1LFitOptimized$resample$Accuracy, nn2LFitOptimized$resample$Accuracy,paired = T)"
   ]
  },
  {
   "cell_type": "markdown",
   "metadata": {},
   "source": [
    "El test binomial nos indica que durante el entrenamiento no se puede tomar la diferencia como significativa. Los dos modelos ajustan los datos de entrenamiento de manera similar pero el modelo de una única capa oculta es capaz de generalizar mejor."
   ]
  },
  {
   "cell_type": "markdown",
   "metadata": {},
   "source": [
    "## Máquinas vector soporte\n",
    "\n",
    "Estos métodos están propiamente relacionados con problemas de clasificación y regresión. Dado un conjunto de ejemplos de entrenamiento (de muestras) podemos etiquetar las clases y entrenar una SVM para construir un modelo que prediga la clase de una nueva muestra. Intuitivamente, una SVM es un modelo que representa a los puntos de muestra en el espacio, separando las clases a 2 espacios lo más amplios posibles mediante un hiperplano de separación definido como el vector entre los 2 puntos, de las 2 clases, más cercanos al que se llama vector soporte. Cuando las nuevas muestras se ponen en correspondencia con dicho modelo, en función de los espacios a los que pertenezcan, pueden ser clasificadas a una o la otra clase.\n",
    "\n",
    "De la misma forma que con los árboles de decisión para las máquinas de vector soporte encontramos diferentes tipos, Lineares, Polinomial y Radial"
   ]
  },
  {
   "cell_type": "code",
   "execution_count": 39,
   "metadata": {},
   "outputs": [],
   "source": [
    "# Plantamos la semilla para obtener un valor constante tras cada ejecución.\n",
    "set.seed(uo)\n",
    "\n",
    "svmLinealFit <- train(\n",
    "    class ~ .,\n",
    "    data = training,\n",
    "    method = \"svmLinear\",\n",
    "    trControl = crossValidation,\n",
    "    tuneGrid = data.frame(C=1),\n",
    "    scale = FALSE\n",
    ")"
   ]
  },
  {
   "cell_type": "code",
   "execution_count": 40,
   "metadata": {},
   "outputs": [],
   "source": [
    "# Plantamos la semilla para obtener un valor constante tras cada ejecución.\n",
    "set.seed(uo)\n",
    "\n",
    "svmPolyFit <- train(\n",
    "    class ~ .,\n",
    "    data = training,\n",
    "    method = \"svmPoly\",\n",
    "    trControl = crossValidation,\n",
    "    tuneGrid = expand.grid(degree=c(2,3),C=c(1,5),scale = c(0.1, 0.5, 1))\n",
    ")"
   ]
  },
  {
   "cell_type": "code",
   "execution_count": 41,
   "metadata": {},
   "outputs": [],
   "source": [
    "# Plantamos la semilla para obtener un valor constante tras cada ejecución.\n",
    "set.seed(uo)\n",
    "\n",
    "svmRadialFit <- train(\n",
    "    class ~ .,\n",
    "    data = training,\n",
    "    method = \"svmRadial\",\n",
    "    trControl = crossValidation, \n",
    "    tuneGrid = expand.grid(sigma=c(1,3),C=c(1,5)) \n",
    ")"
   ]
  },
  {
   "cell_type": "markdown",
   "metadata": {},
   "source": [
    "Con los modelos anteriores entrenamos podemos mostrar las precisiones respecto a los datos de entrenamiento y a los datos de validación"
   ]
  },
  {
   "cell_type": "code",
   "execution_count": 42,
   "metadata": {},
   "outputs": [
    {
     "data": {
      "text/html": [
       "<table>\n",
       "<caption>A data.frame: 1 × 4</caption>\n",
       "<thead>\n",
       "\t<tr><th scope=col>C</th><th scope=col>Accuracy</th><th scope=col>Kappa</th><th scope=col>AccuracySD</th></tr>\n",
       "\t<tr><th scope=col>&lt;dbl&gt;</th><th scope=col>&lt;dbl&gt;</th><th scope=col>&lt;dbl&gt;</th><th scope=col>&lt;dbl&gt;</th></tr>\n",
       "</thead>\n",
       "<tbody>\n",
       "\t<tr><td>1</td><td>0.8045717</td><td>0.7371844</td><td>0.04682825</td></tr>\n",
       "</tbody>\n",
       "</table>\n"
      ],
      "text/latex": [
       "A data.frame: 1 × 4\n",
       "\\begin{tabular}{r|llll}\n",
       " C & Accuracy & Kappa & AccuracySD\\\\\n",
       " <dbl> & <dbl> & <dbl> & <dbl>\\\\\n",
       "\\hline\n",
       "\t 1 & 0.8045717 & 0.7371844 & 0.04682825\\\\\n",
       "\\end{tabular}\n"
      ],
      "text/markdown": [
       "\n",
       "A data.frame: 1 × 4\n",
       "\n",
       "| C &lt;dbl&gt; | Accuracy &lt;dbl&gt; | Kappa &lt;dbl&gt; | AccuracySD &lt;dbl&gt; |\n",
       "|---|---|---|---|\n",
       "| 1 | 0.8045717 | 0.7371844 | 0.04682825 |\n",
       "\n"
      ],
      "text/plain": [
       "  C Accuracy  Kappa     AccuracySD\n",
       "1 1 0.8045717 0.7371844 0.04682825"
      ]
     },
     "metadata": {},
     "output_type": "display_data"
    },
    {
     "data": {
      "text/html": [
       "<dl class=dl-horizontal>\n",
       "\t<dt>Accuracy</dt>\n",
       "\t\t<dd>0.841072858286629</dd>\n",
       "\t<dt>Kappa</dt>\n",
       "\t\t<dd>0.785257265306688</dd>\n",
       "</dl>\n"
      ],
      "text/latex": [
       "\\begin{description*}\n",
       "\\item[Accuracy] 0.841072858286629\n",
       "\\item[Kappa] 0.785257265306688\n",
       "\\end{description*}\n"
      ],
      "text/markdown": [
       "Accuracy\n",
       ":   0.841072858286629Kappa\n",
       ":   0.785257265306688\n",
       "\n"
      ],
      "text/plain": [
       " Accuracy     Kappa \n",
       "0.8410729 0.7852573 "
      ]
     },
     "metadata": {},
     "output_type": "display_data"
    },
    {
     "data": {
      "text/html": [
       "<table>\n",
       "<caption>A data.frame: 1 × 5</caption>\n",
       "<thead>\n",
       "\t<tr><th></th><th scope=col>degree</th><th scope=col>C</th><th scope=col>scale</th><th scope=col>Accuracy</th><th scope=col>Kappa</th></tr>\n",
       "\t<tr><th></th><th scope=col>&lt;dbl&gt;</th><th scope=col>&lt;dbl&gt;</th><th scope=col>&lt;dbl&gt;</th><th scope=col>&lt;dbl&gt;</th><th scope=col>&lt;dbl&gt;</th></tr>\n",
       "</thead>\n",
       "<tbody>\n",
       "\t<tr><th scope=row>8</th><td>3</td><td>1</td><td>0.5</td><td>0.9684064</td><td>0.9576268</td></tr>\n",
       "</tbody>\n",
       "</table>\n"
      ],
      "text/latex": [
       "A data.frame: 1 × 5\n",
       "\\begin{tabular}{r|lllll}\n",
       "  & degree & C & scale & Accuracy & Kappa\\\\\n",
       "  & <dbl> & <dbl> & <dbl> & <dbl> & <dbl>\\\\\n",
       "\\hline\n",
       "\t8 & 3 & 1 & 0.5 & 0.9684064 & 0.9576268\\\\\n",
       "\\end{tabular}\n"
      ],
      "text/markdown": [
       "\n",
       "A data.frame: 1 × 5\n",
       "\n",
       "| <!--/--> | degree &lt;dbl&gt; | C &lt;dbl&gt; | scale &lt;dbl&gt; | Accuracy &lt;dbl&gt; | Kappa &lt;dbl&gt; |\n",
       "|---|---|---|---|---|---|\n",
       "| 8 | 3 | 1 | 0.5 | 0.9684064 | 0.9576268 |\n",
       "\n"
      ],
      "text/plain": [
       "  degree C scale Accuracy  Kappa    \n",
       "8 3      1 0.5   0.9684064 0.9576268"
      ]
     },
     "metadata": {},
     "output_type": "display_data"
    },
    {
     "data": {
      "text/html": [
       "<dl class=dl-horizontal>\n",
       "\t<dt>Accuracy</dt>\n",
       "\t\t<dd>0.967574059247398</dd>\n",
       "\t<dt>Kappa</dt>\n",
       "\t\t<dd>0.956524037283897</dd>\n",
       "</dl>\n"
      ],
      "text/latex": [
       "\\begin{description*}\n",
       "\\item[Accuracy] 0.967574059247398\n",
       "\\item[Kappa] 0.956524037283897\n",
       "\\end{description*}\n"
      ],
      "text/markdown": [
       "Accuracy\n",
       ":   0.967574059247398Kappa\n",
       ":   0.956524037283897\n",
       "\n"
      ],
      "text/plain": [
       " Accuracy     Kappa \n",
       "0.9675741 0.9565240 "
      ]
     },
     "metadata": {},
     "output_type": "display_data"
    },
    {
     "data": {
      "text/html": [
       "<table>\n",
       "<caption>A data.frame: 1 × 4</caption>\n",
       "<thead>\n",
       "\t<tr><th></th><th scope=col>sigma</th><th scope=col>C</th><th scope=col>Accuracy</th><th scope=col>Kappa</th></tr>\n",
       "\t<tr><th></th><th scope=col>&lt;dbl&gt;</th><th scope=col>&lt;dbl&gt;</th><th scope=col>&lt;dbl&gt;</th><th scope=col>&lt;dbl&gt;</th></tr>\n",
       "</thead>\n",
       "<tbody>\n",
       "\t<tr><th scope=row>2</th><td>1</td><td>5</td><td>0.9581431</td><td>0.9435538</td></tr>\n",
       "</tbody>\n",
       "</table>\n"
      ],
      "text/latex": [
       "A data.frame: 1 × 4\n",
       "\\begin{tabular}{r|llll}\n",
       "  & sigma & C & Accuracy & Kappa\\\\\n",
       "  & <dbl> & <dbl> & <dbl> & <dbl>\\\\\n",
       "\\hline\n",
       "\t2 & 1 & 5 & 0.9581431 & 0.9435538\\\\\n",
       "\\end{tabular}\n"
      ],
      "text/markdown": [
       "\n",
       "A data.frame: 1 × 4\n",
       "\n",
       "| <!--/--> | sigma &lt;dbl&gt; | C &lt;dbl&gt; | Accuracy &lt;dbl&gt; | Kappa &lt;dbl&gt; |\n",
       "|---|---|---|---|---|\n",
       "| 2 | 1 | 5 | 0.9581431 | 0.9435538 |\n",
       "\n"
      ],
      "text/plain": [
       "  sigma C Accuracy  Kappa    \n",
       "2 1     5 0.9581431 0.9435538"
      ]
     },
     "metadata": {},
     "output_type": "display_data"
    },
    {
     "data": {
      "text/html": [
       "<dl class=dl-horizontal>\n",
       "\t<dt>Accuracy</dt>\n",
       "\t\t<dd>0.960368294635709</dd>\n",
       "\t<dt>Kappa</dt>\n",
       "\t\t<dd>0.94658034915821</dd>\n",
       "</dl>\n"
      ],
      "text/latex": [
       "\\begin{description*}\n",
       "\\item[Accuracy] 0.960368294635709\n",
       "\\item[Kappa] 0.94658034915821\n",
       "\\end{description*}\n"
      ],
      "text/markdown": [
       "Accuracy\n",
       ":   0.960368294635709Kappa\n",
       ":   0.94658034915821\n",
       "\n"
      ],
      "text/plain": [
       " Accuracy     Kappa \n",
       "0.9603683 0.9465803 "
      ]
     },
     "metadata": {},
     "output_type": "display_data"
    }
   ],
   "source": [
    "svmLinealFit$results[rownames(svmLinealFit$bestTune),1:4]\n",
    "confusionMatrix(predict(svmLinealFit,testing),factor(testing$class))$overall[1:2]\n",
    "\n",
    "svmPolyFit$results[rownames(svmPolyFit$bestTune),1:5]\n",
    "confusionMatrix(predict(svmPolyFit,testing),factor(testing$class))$overall[1:2]\n",
    "\n",
    "svmRadialFit$results[rownames(svmRadialFit$bestTune),1:4]\n",
    "confusionMatrix(predict(svmRadialFit,testing),factor(testing$class))$overall[1:2]"
   ]
  },
  {
   "cell_type": "markdown",
   "metadata": {},
   "source": [
    "Para los resultados aportados por los modelos anteriores no es necesario realizar ningún test de validación ya que a simple vista se puede ver que el modelo lineal tiene una precisión muy superior al resto de modelos."
   ]
  },
  {
   "cell_type": "markdown",
   "metadata": {},
   "source": [
    "## Comparación de los paradigmas\n",
    "\n",
    "Para realizar la comparación de los paradigmas explorados seleccionaremos sólo aquellos modelos que durante el desarrollo de la práctica identificamos como los _mejores_. Estos fueron: **C4.5** para árboles de decisión, **knn** para vecinos más cercanos, el modelo de **una única capa oculta optimizado en iteraciones** para las redes neuronales y finalmente el **modelo lineal** para las máquinas de vector soporte. Los resultados obtenidos para la validación externa de cada paradigma són los siguientes."
   ]
  },
  {
   "cell_type": "code",
   "execution_count": 53,
   "metadata": {},
   "outputs": [
    {
     "name": "stdout",
     "output_type": "stream",
     "text": [
      "C4.5 - 0.9491593 \n",
      "knn - 0.9719776 \n",
      "nn1L - 0.6945556 \n",
      "svmLineal - 0.8410729 \n"
     ]
    }
   ],
   "source": [
    "c4.5Fit.accuracy <- confusionMatrix(predict(c4.5Fit,testing), factor(testing$class))$overall[1:1]\n",
    "cat(\"C4.5 -\", c4.5Fit.accuracy, \"\\n\")\n",
    "\n",
    "knnFit.accuracy <- confusionMatrix(predict(knnFit,testing), factor(testing$class))$overall[1:1]\n",
    "cat(\"knn -\", knnFit.accuracy, \"\\n\")\n",
    "\n",
    "nn1LFitOptimized.accuracy <- confusionMatrix(predict(nn1LFitOptimized,testing), factor(testing$class))$overall[1:1]\n",
    "cat(\"nn1L -\", nn1LFitOptimized.accuracy, \"\\n\")\n",
    "\n",
    "svmLinealFit.accuracy <- confusionMatrix(predict(svmLinealFit,testing), factor(testing$class))$overall[1:1]\n",
    "cat(\"svmLineal -\", svmLinealFit.accuracy, \"\\n\")"
   ]
  },
  {
   "cell_type": "markdown",
   "metadata": {},
   "source": [
    "Ahora realizaremos las comparaciones con el test binomial entre el modelo que parece más preciso, nn1L y el resto de modelos."
   ]
  },
  {
   "cell_type": "code",
   "execution_count": 44,
   "metadata": {},
   "outputs": [
    {
     "data": {
      "text/plain": [
       "\n",
       "\tExact binomial test\n",
       "\n",
       "data:  c(round(nn1LFitOptimized.accuracy), round(1 - nn1LFitOptimized.accuracy)) *     nrow(testing)\n",
       "number of successes = 2498, number of trials = 2498, p-value < 2.2e-16\n",
       "alternative hypothesis: true probability of success is not equal to 0.9491593\n",
       "95 percent confidence interval:\n",
       " 0.9985244 1.0000000\n",
       "sample estimates:\n",
       "probability of success \n",
       "                     1 \n"
      ]
     },
     "metadata": {},
     "output_type": "display_data"
    }
   ],
   "source": [
    "# Test binomial entre knn y c4.5 \n",
    "binom.test(c(round(nn1LFitOptimized.accuracy), round(1-nn1LFitOptimized.accuracy))*nrow(testing), p = c4.5Fit.accuracy)"
   ]
  },
  {
   "cell_type": "markdown",
   "metadata": {},
   "source": [
    "El test binomial entre el modelo nn1L y el modelo c4.5 nos dice que nn1L es significativamente más preciso para los datos de validación."
   ]
  },
  {
   "cell_type": "code",
   "execution_count": 45,
   "metadata": {},
   "outputs": [
    {
     "data": {
      "text/plain": [
       "\n",
       "\tExact binomial test\n",
       "\n",
       "data:  c(round(nn1LFitOptimized.accuracy), round(1 - nn1LFitOptimized.accuracy)) *     nrow(testing)\n",
       "number of successes = 2498, number of trials = 2498, p-value < 2.2e-16\n",
       "alternative hypothesis: true probability of success is not equal to 0.9711769\n",
       "95 percent confidence interval:\n",
       " 0.9985244 1.0000000\n",
       "sample estimates:\n",
       "probability of success \n",
       "                     1 \n"
      ]
     },
     "metadata": {},
     "output_type": "display_data"
    }
   ],
   "source": [
    "# Test binomial entre knn y nn1L \n",
    "binom.test(c(round(nn1LFitOptimized.accuracy), round(1-nn1LFitOptimized.accuracy))*nrow(testing), p = knnFit.accuracy)"
   ]
  },
  {
   "cell_type": "markdown",
   "metadata": {},
   "source": [
    "El test binomial entre el modelo nn1L y el modelo knn nos dice que nn1L es significativamente más preciso para los datos de validación."
   ]
  },
  {
   "cell_type": "code",
   "execution_count": 49,
   "metadata": {},
   "outputs": [
    {
     "data": {
      "text/plain": [
       "\n",
       "\tExact binomial test\n",
       "\n",
       "data:  c(round(nn1LFitOptimized.accuracy), round(1 - nn1LFitOptimized.accuracy)) *     nrow(testing)\n",
       "number of successes = 2498, number of trials = 2498, p-value < 2.2e-16\n",
       "alternative hypothesis: true probability of success is not equal to 0.8410729\n",
       "95 percent confidence interval:\n",
       " 0.9985244 1.0000000\n",
       "sample estimates:\n",
       "probability of success \n",
       "                     1 \n"
      ]
     },
     "metadata": {},
     "output_type": "display_data"
    }
   ],
   "source": [
    "# Test binomial entre knn y svmPolyFit \n",
    "binom.test(c(round(nn1LFitOptimized.accuracy), round(1-nn1LFitOptimized.accuracy))*nrow(testing), p = svmLinealFit.accuracy)"
   ]
  },
  {
   "cell_type": "markdown",
   "metadata": {},
   "source": [
    "El test binomial entre el modelo nn1L y el modelo svmLineal nos dice que nn1L es significativamente más preciso para los datos de validación.\n",
    "\n",
    "Ahora observemos una gráfica de comparación con los modelos más precisos de cada paradigma."
   ]
  },
  {
   "cell_type": "code",
   "execution_count": 50,
   "metadata": {},
   "outputs": [
    {
     "data": {
      "image/png": "[encoded data removed]",
      "text/plain": [
       "plot without title"
      ]
     },
     "metadata": {
      "image/png": {
       "height": 300,
       "width": 600
      },
      "text/plain": {
       "height": 300,
       "width": 600
      }
     },
     "output_type": "display_data"
    }
   ],
   "source": [
    "options(repr.plot.width=10, repr.plot.height=5)\n",
    "dfm.resamp <- data.frame(Accuracy = c(nn1LFitOptimized$resample$Accuracy,\n",
    "                                      c4.5Fit$resample$Accuracy,\n",
    "                                      knnFit$resample$Accuracy,\n",
    "                                      svmPolyFit$resample$Accuracy), \n",
    "                        Model = rep(c('NeuralNet','C4.5','kNN', 'MVS'), each=10))\n",
    "ggplot(dfm.resamp,aes(x=Model, y=Accuracy, fill=Model)) + geom_boxplot() +\n",
    "ggtitle(\"Distribución del porcetaje de acierto en el proceso de aprendizaje para cada paradigma\") +\n",
    "theme(plot.title = element_text(hjust = 0.5))"
   ]
  },
  {
   "cell_type": "markdown",
   "metadata": {},
   "source": [
    "De las comparaciones anteriores y la gráfica final se puede deducir que el modelo de red neuronal con una única capa oculta es aquel que presenta una mayor precisión sobre los datos de validación. Así mismo, comparado con los modelos knn y máquinas vector soporte, los modelos que tiene una precisión similar, es el modelo de redes neuronales el que es más estable. Sin embargo de entre todos los modelos el más estable es el de c4.5, que también es el que menos precisión nos da."
   ]
  },
  {
   "cell_type": "code",
   "execution_count": null,
   "metadata": {},
   "outputs": [],
   "source": []
  }
 ],
 "metadata": {
  "kernel_info": {
   "name": "ir"
  },
  "kernelspec": {
   "display_name": "R",
   "language": "R",
   "name": "ir"
  },
  "nteract": {
   "version": "0.15.0"
  }
 },
 "nbformat": 4,
 "nbformat_minor": 4
}
