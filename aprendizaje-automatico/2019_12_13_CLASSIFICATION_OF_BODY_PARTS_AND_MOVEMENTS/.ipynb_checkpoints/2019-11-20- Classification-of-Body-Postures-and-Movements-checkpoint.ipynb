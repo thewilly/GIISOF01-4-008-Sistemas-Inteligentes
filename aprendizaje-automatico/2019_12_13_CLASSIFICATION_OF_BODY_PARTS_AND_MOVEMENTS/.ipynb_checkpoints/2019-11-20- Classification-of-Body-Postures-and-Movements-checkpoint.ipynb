{
 "cells": [
  {
   "cell_type": "markdown",
   "metadata": {},
   "source": [
    "# Sistemas Inteligentes: Aprendizaje Automático\n",
    "\n",
    "_Guillermo Facundo Colunga_\n",
    "\n",
    "**Datos entorno desarrollo:**  \n",
    "**SO:** Windows 10.  \n",
    "**Cores:** 16.  \n",
    "**RAM:** 16 Gb.  \n",
    "**Librerías empleadas:** `caret`, `ggplot2`, `gridExtra`, `reshape2` y `doMC`."
   ]
  },
  {
   "cell_type": "markdown",
   "metadata": {},
   "source": [
    "# Introducción\n",
    "\n",
    "Esta práctica de aprendizaje automático se enmarca en explorar los distintos paradigmas de clasificación estudiados en la asignatura para seleccionar aquel que mejor prediga el tipo de actividad que realiza una persona según la información proporcionada por los sensores que lleva una persona.\n",
    "\n",
    "Para ello se evaluarán los paradigmas de clasificación **árbol de decisión, vecinos más cercanos, redes neuronales y máquinas de vector soporte** a través del paquete `caret` de R. \n",
    "\n",
    "Finalmente se realizará la comparación de los resultados aportados por los diferentes paradigmas y se seleccionará aquel que mejor precisión tenga como _el mejor_.\n"
   ]
  },
  {
   "cell_type": "markdown",
   "metadata": {},
   "source": [
    "# Configuración espacio de trabajo en R\n",
    "\n",
    "Empezamos configurando R e importanto el paquete `caret`. De la misma forma cargamos las librerías necesarias que vamos a utilizar durante el desarrollo de la práctica y eliminamos los warnings de nuestro script para limpiar las salidas."
   ]
  },
  {
   "cell_type": "code",
   "execution_count": 39,
   "metadata": {},
   "outputs": [],
   "source": [
    "# Eliminamos los warnings del script ya que ensucian el script\n",
    "options(warn=-1)\n",
    "\n",
    "# Realizamos los imports necesarios\n",
    "library(caret)"
   ]
  },
  {
   "cell_type": "markdown",
   "metadata": {},
   "source": [
    "# Carga de datos en R\n",
    "\n",
    "Una vez tenemos R configurado y con las librerías necesarias cargadas, importamos los datos sobre los que vamos a dearrollar nuestros modelos. Para ello descargamos en el directorio el siguiente banco de [datos](http://archive.ics.uci.edu/ml/datasets/Wearable+Computing%3A+Classification+of+Body+Postures+and+Movements+%28PUC-Rio%29) y lo importamos con el siguiente código."
   ]
  },
  {
   "cell_type": "code",
   "execution_count": 40,
   "metadata": {},
   "outputs": [],
   "source": [
    "load(\"har.RData\")"
   ]
  },
  {
   "cell_type": "markdown",
   "metadata": {},
   "source": [
    "Este conjunto de datos contiene 19 variables y 165.633 instancias, para que el análisis se pueda hacer en menos tiempo usaremos sólo 10.000 instancias que vendrán dadas por nuestro identificador universitario."
   ]
  },
  {
   "cell_type": "code",
   "execution_count": 41,
   "metadata": {
    "tags": [
     "parameters"
    ]
   },
   "outputs": [],
   "source": [
    "# Configuramos nuestro identificador universitario\n",
    "uo <- 236856\n",
    "n_instancias <- 10000"
   ]
  },
  {
   "cell_type": "markdown",
   "metadata": {},
   "source": [
    "Una vez configurados el identificador universitario y el número de instancias filtramos los datos del banco y los asignamos a la variable filtered."
   ]
  },
  {
   "cell_type": "code",
   "execution_count": 42,
   "metadata": {},
   "outputs": [],
   "source": [
    "set.seed(uo) #Pon aquí los número de tu UO\n",
    "filtered <- har[sample(nrow(har)-1,n_instancias),]"
   ]
  },
  {
   "cell_type": "markdown",
   "metadata": {},
   "source": [
    "Además vamos a eliminar las 5 columnas que contienen información relativa a cada participante en el estudio para emplear sólo la información del movimiento"
   ]
  },
  {
   "cell_type": "code",
   "execution_count": 43,
   "metadata": {},
   "outputs": [],
   "source": [
    "filtered$age<-NULL\n",
    "filtered$user<-NULL\n",
    "filtered$gender<-NULL\n",
    "filtered$how_tall_in_meters<-NULL\n",
    "filtered$weight<-NULL\n",
    "filtered$body_mass_index<-NULL"
   ]
  },
  {
   "cell_type": "markdown",
   "metadata": {},
   "source": [
    "Mostramos la cabecera de la tabla de datos resultante tras realizar el pre-procesado."
   ]
  },
  {
   "cell_type": "code",
   "execution_count": 44,
   "metadata": {},
   "outputs": [
    {
     "data": {
      "text/html": [
       "<table>\n",
       "<caption>A data.frame: 6 × 13</caption>\n",
       "<thead>\n",
       "\t<tr><th></th><th scope=col>x1</th><th scope=col>y1</th><th scope=col>z1</th><th scope=col>x2</th><th scope=col>y2</th><th scope=col>z2</th><th scope=col>x3</th><th scope=col>y3</th><th scope=col>z3</th><th scope=col>x4</th><th scope=col>y4</th><th scope=col>z4</th><th scope=col>class</th></tr>\n",
       "\t<tr><th></th><th scope=col>&lt;int&gt;</th><th scope=col>&lt;int&gt;</th><th scope=col>&lt;int&gt;</th><th scope=col>&lt;int&gt;</th><th scope=col>&lt;int&gt;</th><th scope=col>&lt;int&gt;</th><th scope=col>&lt;int&gt;</th><th scope=col>&lt;int&gt;</th><th scope=col>&lt;int&gt;</th><th scope=col>&lt;int&gt;</th><th scope=col>&lt;int&gt;</th><th scope=col>&lt;dbl&gt;</th><th scope=col>&lt;fct&gt;</th></tr>\n",
       "</thead>\n",
       "<tbody>\n",
       "\t<tr><th scope=row>99892</th><td>-11</td><td> 98</td><td>-124</td><td>  -1</td><td>  92</td><td>-136</td><td>35</td><td>124</td><td> -76</td><td>-170</td><td> -72</td><td>56</td><td>standing</td></tr>\n",
       "\t<tr><th scope=row>65004</th><td> -1</td><td>108</td><td> -99</td><td>  10</td><td>  90</td><td>-123</td><td>27</td><td>107</td><td> -95</td><td>-175</td><td> -91</td><td>59</td><td>standing</td></tr>\n",
       "\t<tr><th scope=row>30560</th><td>  4</td><td> 72</td><td> -61</td><td> -21</td><td>  10</td><td> -22</td><td>89</td><td> 81</td><td>-140</td><td> -96</td><td>-118</td><td>84</td><td>sitting </td></tr>\n",
       "\t<tr><th scope=row>17434</th><td>-26</td><td> 35</td><td> -28</td><td>-240</td><td>-231</td><td>-347</td><td>38</td><td>108</td><td>-102</td><td>-153</td><td> -92</td><td>66</td><td>sitting </td></tr>\n",
       "\t<tr><th scope=row>69154</th><td> -5</td><td>103</td><td> -85</td><td>   6</td><td>  74</td><td>-120</td><td>35</td><td>105</td><td> -84</td><td>-151</td><td> -98</td><td>49</td><td>standing</td></tr>\n",
       "\t<tr><th scope=row>35365</th><td>  1</td><td> 66</td><td> -63</td><td> -20</td><td>   6</td><td> -26</td><td>67</td><td> 60</td><td>-102</td><td> -95</td><td>-120</td><td>69</td><td>sitting </td></tr>\n",
       "</tbody>\n",
       "</table>\n"
      ],
      "text/latex": [
       "A data.frame: 6 × 13\n",
       "\\begin{tabular}{r|lllllllllllll}\n",
       "  & x1 & y1 & z1 & x2 & y2 & z2 & x3 & y3 & z3 & x4 & y4 & z4 & class\\\\\n",
       "  & <int> & <int> & <int> & <int> & <int> & <int> & <int> & <int> & <int> & <int> & <int> & <dbl> & <fct>\\\\\n",
       "\\hline\n",
       "\t99892 & -11 &  98 & -124 &   -1 &   92 & -136 & 35 & 124 &  -76 & -170 &  -72 & 56 & standing\\\\\n",
       "\t65004 &  -1 & 108 &  -99 &   10 &   90 & -123 & 27 & 107 &  -95 & -175 &  -91 & 59 & standing\\\\\n",
       "\t30560 &   4 &  72 &  -61 &  -21 &   10 &  -22 & 89 &  81 & -140 &  -96 & -118 & 84 & sitting \\\\\n",
       "\t17434 & -26 &  35 &  -28 & -240 & -231 & -347 & 38 & 108 & -102 & -153 &  -92 & 66 & sitting \\\\\n",
       "\t69154 &  -5 & 103 &  -85 &    6 &   74 & -120 & 35 & 105 &  -84 & -151 &  -98 & 49 & standing\\\\\n",
       "\t35365 &   1 &  66 &  -63 &  -20 &    6 &  -26 & 67 &  60 & -102 &  -95 & -120 & 69 & sitting \\\\\n",
       "\\end{tabular}\n"
      ],
      "text/markdown": [
       "\n",
       "A data.frame: 6 × 13\n",
       "\n",
       "| <!--/--> | x1 &lt;int&gt; | y1 &lt;int&gt; | z1 &lt;int&gt; | x2 &lt;int&gt; | y2 &lt;int&gt; | z2 &lt;int&gt; | x3 &lt;int&gt; | y3 &lt;int&gt; | z3 &lt;int&gt; | x4 &lt;int&gt; | y4 &lt;int&gt; | z4 &lt;dbl&gt; | class &lt;fct&gt; |\n",
       "|---|---|---|---|---|---|---|---|---|---|---|---|---|---|\n",
       "| 99892 | -11 |  98 | -124 |   -1 |   92 | -136 | 35 | 124 |  -76 | -170 |  -72 | 56 | standing |\n",
       "| 65004 |  -1 | 108 |  -99 |   10 |   90 | -123 | 27 | 107 |  -95 | -175 |  -91 | 59 | standing |\n",
       "| 30560 |   4 |  72 |  -61 |  -21 |   10 |  -22 | 89 |  81 | -140 |  -96 | -118 | 84 | sitting  |\n",
       "| 17434 | -26 |  35 |  -28 | -240 | -231 | -347 | 38 | 108 | -102 | -153 |  -92 | 66 | sitting  |\n",
       "| 69154 |  -5 | 103 |  -85 |    6 |   74 | -120 | 35 | 105 |  -84 | -151 |  -98 | 49 | standing |\n",
       "| 35365 |   1 |  66 |  -63 |  -20 |    6 |  -26 | 67 |  60 | -102 |  -95 | -120 | 69 | sitting  |\n",
       "\n"
      ],
      "text/plain": [
       "      x1  y1  z1   x2   y2   z2   x3 y3  z3   x4   y4   z4 class   \n",
       "99892 -11  98 -124   -1   92 -136 35 124  -76 -170  -72 56 standing\n",
       "65004  -1 108  -99   10   90 -123 27 107  -95 -175  -91 59 standing\n",
       "30560   4  72  -61  -21   10  -22 89  81 -140  -96 -118 84 sitting \n",
       "17434 -26  35  -28 -240 -231 -347 38 108 -102 -153  -92 66 sitting \n",
       "69154  -5 103  -85    6   74 -120 35 105  -84 -151  -98 49 standing\n",
       "35365   1  66  -63  -20    6  -26 67  60 -102  -95 -120 69 sitting "
      ]
     },
     "metadata": {},
     "output_type": "display_data"
    }
   ],
   "source": [
    "# Mostramos los datos con los que trabajaremos.\n",
    "head(filtered)"
   ]
  },
  {
   "cell_type": "markdown",
   "metadata": {},
   "source": [
    "En la tabla anterior se puede ver que tenemos las variables x1, y1, z1, ... x4, y4, z4. Cada conjunto (x, y, z) se corresponde con los datos de un acelerómetro ubicado en una extremidad de la persona. La última columna se corresponde con la actividad del registro."
   ]
  },
  {
   "cell_type": "markdown",
   "metadata": {},
   "source": [
    "# Esquema de evaluación\n",
    "\n",
    "Conocemos que existen distintos tipos de validación, cada uno con sus ventajas y desventajas. Sin embargo, para nuestro problema realizaremnos una división 80%/20% para entrenamiento/test. Esto nos permitirá realizar una validación externa para ver como de bueno es realmente el modelo ocn datos que no ha visto durante el procesod e entrenamiento."
   ]
  },
  {
   "cell_type": "code",
   "execution_count": 45,
   "metadata": {},
   "outputs": [],
   "source": [
    "training_percentage <- .8"
   ]
  },
  {
   "cell_type": "code",
   "execution_count": 46,
   "metadata": {},
   "outputs": [],
   "source": [
    "inTrain <- createDataPartition(\n",
    "    # indicamos la clase\n",
    "    y = filtered$class,\n",
    "    \n",
    "    # el porcentaje de instancias para entrenamiento\n",
    "    p = training_percentage,\n",
    "    \n",
    "    # controla el formato de salida\n",
    "    list = FALSE\n",
    ")\n",
    "\n",
    "# Definimos nuestras particiones de entrenamiento y validación.\n",
    "training <- filtered[ inTrain,]\n",
    "testing <- filtered[-inTrain,]"
   ]
  },
  {
   "cell_type": "markdown",
   "metadata": {},
   "source": [
    "A continuación, como tenemos un gran número de instancias (10.000) emplearemos el sistema de validación cruzada con valor de k 10."
   ]
  },
  {
   "cell_type": "code",
   "execution_count": 47,
   "metadata": {},
   "outputs": [],
   "source": [
    "crossValidation <- trainControl(method = \"cv\", number = 10)"
   ]
  },
  {
   "cell_type": "markdown",
   "metadata": {},
   "source": [
    "# Métrica de comparación de modelos\n",
    "\n",
    "A contianuación se muestra el número de datos de cada clase así como el porcentaje de datos de cada clase contenidos en el banco de datos."
   ]
  },
  {
   "cell_type": "code",
   "execution_count": 48,
   "metadata": {},
   "outputs": [
    {
     "name": "stdout",
     "output_type": "stream",
     "text": [
      "Número de datos de cada clase: \n"
     ]
    },
    {
     "data": {
      "text/html": [
       "<dl class=dl-horizontal>\n",
       "\t<dt>sitting</dt>\n",
       "\t\t<dd>3064</dd>\n",
       "\t<dt>sittingdown</dt>\n",
       "\t\t<dd>739</dd>\n",
       "\t<dt>standing</dt>\n",
       "\t\t<dd>2819</dd>\n",
       "\t<dt>standingup</dt>\n",
       "\t\t<dd>737</dd>\n",
       "\t<dt>walking</dt>\n",
       "\t\t<dd>2641</dd>\n",
       "</dl>\n"
      ],
      "text/latex": [
       "\\begin{description*}\n",
       "\\item[sitting] 3064\n",
       "\\item[sittingdown] 739\n",
       "\\item[standing] 2819\n",
       "\\item[standingup] 737\n",
       "\\item[walking] 2641\n",
       "\\end{description*}\n"
      ],
      "text/markdown": [
       "sitting\n",
       ":   3064sittingdown\n",
       ":   739standing\n",
       ":   2819standingup\n",
       ":   737walking\n",
       ":   2641\n",
       "\n"
      ],
      "text/plain": [
       "    sitting sittingdown    standing  standingup     walking \n",
       "       3064         739        2819         737        2641 "
      ]
     },
     "metadata": {},
     "output_type": "display_data"
    },
    {
     "name": "stdout",
     "output_type": "stream",
     "text": [
      "\n",
      "Porcentaje de datos de cada clase: \n"
     ]
    },
    {
     "data": {
      "text/html": [
       "<dl class=dl-horizontal>\n",
       "\t<dt>sitting</dt>\n",
       "\t\t<dd>0.3064</dd>\n",
       "\t<dt>sittingdown</dt>\n",
       "\t\t<dd>0.0739</dd>\n",
       "\t<dt>standing</dt>\n",
       "\t\t<dd>0.2819</dd>\n",
       "\t<dt>standingup</dt>\n",
       "\t\t<dd>0.0737</dd>\n",
       "\t<dt>walking</dt>\n",
       "\t\t<dd>0.2641</dd>\n",
       "</dl>\n"
      ],
      "text/latex": [
       "\\begin{description*}\n",
       "\\item[sitting] 0.3064\n",
       "\\item[sittingdown] 0.0739\n",
       "\\item[standing] 0.2819\n",
       "\\item[standingup] 0.0737\n",
       "\\item[walking] 0.2641\n",
       "\\end{description*}\n"
      ],
      "text/markdown": [
       "sitting\n",
       ":   0.3064sittingdown\n",
       ":   0.0739standing\n",
       ":   0.2819standingup\n",
       ":   0.0737walking\n",
       ":   0.2641\n",
       "\n"
      ],
      "text/plain": [
       "    sitting sittingdown    standing  standingup     walking \n",
       "     0.3064      0.0739      0.2819      0.0737      0.2641 "
      ]
     },
     "metadata": {},
     "output_type": "display_data"
    }
   ],
   "source": [
    "cat('Número de datos de cada clase: \\n')\n",
    "summary(filtered$class)\n",
    "cat('\\nPorcentaje de datos de cada clase: \\n')\n",
    "summary(filtered$class)/sum(summary(filtered$class))"
   ]
  },
  {
   "cell_type": "markdown",
   "metadata": {},
   "source": [
    "De los datos anteriores podemos obtener que las clases están desbalanceadas ya que por ejemplo `standing` representa el 29% de los datos y `sittingdown` el 7%. Por tanto emplearemos la métrica kappa, que nos permite saber cómo de bueno es un clasificador en comparación con una predicción basada en la frecuencia de las clases. Además, dicha métrica tiene en cuenta también el valor del porcentaje de acierto."
   ]
  },
  {
   "cell_type": "markdown",
   "metadata": {},
   "source": [
    "# Generación de modelos"
   ]
  },
  {
   "cell_type": "code",
   "execution_count": 49,
   "metadata": {},
   "outputs": [],
   "source": [
    "# Creamos una función para ver los resultados de la validación interna\n",
    "internalValidation <- function(model){\n",
    "  print(model)\n",
    "  print(model$results[rownames(model$bestTune),1:4])\n",
    "}"
   ]
  },
  {
   "cell_type": "code",
   "execution_count": 50,
   "metadata": {},
   "outputs": [],
   "source": [
    "# Creamos una función para ver los resultados de la validación externa\n",
    "externalValidation <- function(model, testingData = testing){\n",
    "  print(confusionMatrix(predict(model,testingData),testingData$class))\n",
    "}"
   ]
  },
  {
   "cell_type": "markdown",
   "metadata": {},
   "source": [
    "## Árboles de decisión\n",
    "\n",
    "De acuerdo con la teoría, un árbol de decisión es un mecanismo en el que dado un conjunto de datos se fabrican diagramas de construcciones lógicas, muy similares a los sistemas de predicción basados en reglas, que sirven para representar y categorizar una serie de condiciones que ocurren de forma sucesiva, para la resolución de un problema. Por lo tanto, y teniendo en cuenta nuestros datos, parece un modelo que nos dará unos buenos resultados, sin embargo, vamos a contrastar esta hipótesis.\n",
    "\n",
    "Tanto en teroría como en prácticas vimos distintos modelos de árboles de decisión, a continuación implementaremos los modelos J48, rpart y rpart2 para comparar su precisión para el problema dado."
   ]
  },
  {
   "cell_type": "code",
   "execution_count": 51,
   "metadata": {},
   "outputs": [],
   "source": [
    "# Plantamos la semilla para obtener un valor constante tras cada ejecución.\n",
    "set.seed(uo)\n",
    "\n",
    "# Realizamos el entrenamiento de nuestro modelo con J48.\n",
    "c4.5Fit <- train(\n",
    "    class ~ .,\n",
    "    data = training,\n",
    "    method = \"J48\",\n",
    "    trControl = crossValidation,\n",
    "    tuneLength = 7,\n",
    "    metric = \"Kappa\"\n",
    "    # Empleamos C=0.04 y M=2 ya que son los valores que tras explorar\n",
    "    # nos han dado mejor resultado y realizar siempre la exploración\n",
    "    # de valores es demasiado lenta.\n",
    "    # tuneGrid = data.frame(C=0.04, M=2)\n",
    ")"
   ]
  },
  {
   "cell_type": "code",
   "execution_count": 52,
   "metadata": {
    "scrolled": true
   },
   "outputs": [
    {
     "name": "stdout",
     "output_type": "stream",
     "text": [
      "C4.5-like Trees \n",
      "\n",
      "8003 samples\n",
      "  12 predictor\n",
      "   5 classes: 'sitting', 'sittingdown', 'standing', 'standingup', 'walking' \n",
      "\n",
      "No pre-processing\n",
      "Resampling: Cross-Validated (10 fold) \n",
      "Summary of sample sizes: 7204, 7204, 7201, 7201, 7203, 7203, ... \n",
      "Resampling results across tuning parameters:\n",
      "\n",
      "  C           M  Accuracy   Kappa    \n",
      "  0.01000000  1  0.9378992  0.9166412\n",
      "  0.01000000  2  0.9366507  0.9149982\n",
      "  0.01000000  3  0.9319052  0.9086175\n",
      "  0.01000000  4  0.9320289  0.9087678\n",
      "  0.01000000  5  0.9329027  0.9098962\n",
      "  0.01000000  6  0.9305260  0.9066841\n",
      "  0.01000000  7  0.9270309  0.9020117\n",
      "  0.09166667  1  0.9407716  0.9205463\n",
      "  0.09166667  2  0.9397716  0.9192294\n",
      "  0.09166667  3  0.9349010  0.9126812\n",
      "  0.09166667  4  0.9346508  0.9123167\n",
      "  0.09166667  5  0.9353999  0.9133286\n",
      "  0.09166667  6  0.9331494  0.9102578\n",
      "  0.09166667  7  0.9294058  0.9052730\n",
      "  0.17333333  1  0.9410218  0.9208859\n",
      "  0.17333333  2  0.9401464  0.9197466\n",
      "  0.17333333  3  0.9350275  0.9128604\n",
      "  0.17333333  4  0.9352755  0.9131521\n",
      "  0.17333333  5  0.9352749  0.9131673\n",
      "  0.17333333  6  0.9338991  0.9112829\n",
      "  0.17333333  7  0.9300289  0.9060920\n",
      "  0.25500000  1  0.9403978  0.9200553\n",
      "  0.25500000  2  0.9402716  0.9199127\n",
      "  0.25500000  3  0.9374002  0.9160286\n",
      "  0.25500000  4  0.9362746  0.9145062\n",
      "  0.25500000  5  0.9358996  0.9140228\n",
      "  0.25500000  6  0.9343986  0.9119816\n",
      "  0.25500000  7  0.9309036  0.9073075\n",
      "  0.33666667  1  0.9408977  0.9207266\n",
      "  0.33666667  2  0.9407711  0.9205836\n",
      "  0.33666667  3  0.9373999  0.9160307\n",
      "  0.33666667  4  0.9366505  0.9150194\n",
      "  0.33666667  5  0.9365252  0.9148627\n",
      "  0.33666667  6  0.9344000  0.9119877\n",
      "  0.33666667  7  0.9306535  0.9069751\n",
      "  0.41833333  1  0.9407727  0.9205555\n",
      "  0.41833333  2  0.9406464  0.9204131\n",
      "  0.41833333  3  0.9375250  0.9161986\n",
      "  0.41833333  4  0.9365258  0.9148551\n",
      "  0.41833333  5  0.9365252  0.9148657\n",
      "  0.41833333  6  0.9347747  0.9124941\n",
      "  0.41833333  7  0.9304035  0.9066477\n",
      "  0.50000000  1  0.9403974  0.9200576\n",
      "  0.50000000  2  0.9406464  0.9204103\n",
      "  0.50000000  3  0.9374000  0.9160327\n",
      "  0.50000000  4  0.9366508  0.9150265\n",
      "  0.50000000  5  0.9361511  0.9143634\n",
      "  0.50000000  6  0.9345255  0.9121654\n",
      "  0.50000000  7  0.9304035  0.9066477\n",
      "\n",
      "Kappa was used to select the optimal model using the largest value.\n",
      "The final values used for the model were C = 0.1733333 and M = 1.\n",
      "           C M  Accuracy     Kappa\n",
      "15 0.1733333 1 0.9410218 0.9208859\n"
     ]
    }
   ],
   "source": [
    "# Resultados validación interna\n",
    "internalValidation(c4.5Fit)"
   ]
  },
  {
   "cell_type": "markdown",
   "metadata": {},
   "source": [
    "El valor máximo de C es 0.5 y podemos observar que el mejor resultado se obtiene con M = 2, a partir de ahí a mayor M peores resultados. Por tanto los valores C = 0.09166667 y M = 2son los mejores posebles."
   ]
  },
  {
   "cell_type": "code",
   "execution_count": 53,
   "metadata": {},
   "outputs": [
    {
     "name": "stdout",
     "output_type": "stream",
     "text": [
      "Confusion Matrix and Statistics\n",
      "\n",
      "             Reference\n",
      "Prediction    sitting sittingdown standing standingup walking\n",
      "  sitting         604           2        0          4       1\n",
      "  sittingdown       4         126        4          9       4\n",
      "  standing          0           6      541          4       9\n",
      "  standingup        4           5        2        126       9\n",
      "  walking           0           8       16          4     505\n",
      "\n",
      "Overall Statistics\n",
      "                                          \n",
      "               Accuracy : 0.9524          \n",
      "                 95% CI : (0.9422, 0.9613)\n",
      "    No Information Rate : 0.3065          \n",
      "    P-Value [Acc > NIR] : < 2.2e-16       \n",
      "                                          \n",
      "                  Kappa : 0.9362          \n",
      "                                          \n",
      " Mcnemar's Test P-Value : NA              \n",
      "\n",
      "Statistics by Class:\n",
      "\n",
      "                     Class: sitting Class: sittingdown Class: standing\n",
      "Sensitivity                  0.9869            0.85714          0.9609\n",
      "Specificity                  0.9949            0.98865          0.9868\n",
      "Pos Pred Value               0.9885            0.85714          0.9661\n",
      "Neg Pred Value               0.9942            0.98865          0.9847\n",
      "Prevalence                   0.3065            0.07361          0.2819\n",
      "Detection Rate               0.3025            0.06309          0.2709\n",
      "Detection Prevalence         0.3060            0.07361          0.2804\n",
      "Balanced Accuracy            0.9909            0.92290          0.9738\n",
      "                     Class: standingup Class: walking\n",
      "Sensitivity                    0.85714         0.9564\n",
      "Specificity                    0.98919         0.9809\n",
      "Pos Pred Value                 0.86301         0.9475\n",
      "Neg Pred Value                 0.98865         0.9843\n",
      "Prevalence                     0.07361         0.2644\n",
      "Detection Rate                 0.06309         0.2529\n",
      "Detection Prevalence           0.07311         0.2669\n",
      "Balanced Accuracy              0.92317         0.9687\n"
     ]
    }
   ],
   "source": [
    "# Resultados validación externa\n",
    "externalValidation(c4.5Fit)"
   ]
  },
  {
   "cell_type": "markdown",
   "metadata": {},
   "source": [
    "**Resultados:**\n",
    "\n",
    "Validación interna (Acc. = 0.9463912 / Kappa = 0.9280605)\n",
    "\n",
    "Validación externa (Acc. = 0.9439 / Kappa = 0.9248)"
   ]
  },
  {
   "cell_type": "markdown",
   "metadata": {},
   "source": [
    "## CART\n",
    "\n",
    "Vamos a probar ahora con un árbol de decisión que emplea el algoritmo CART (rpart y rpart2)."
   ]
  },
  {
   "cell_type": "markdown",
   "metadata": {},
   "source": [
    "### Rpart\n",
    "\n",
    "Primero probaremos con la versión rpart, que utiliza el parámetro cp (solo se introducirá un nodo en el árbol cuando permita que se reduzca el error en al menos el valor de cp)."
   ]
  },
  {
   "cell_type": "code",
   "execution_count": 54,
   "metadata": {},
   "outputs": [],
   "source": [
    "# Plantamos la semilla para obtener un valor constante tras cada ejecución.\n",
    "set.seed(uo)\n",
    "\n",
    "# Realizamos el entrenamiento de nuestro modelo con rpart.\n",
    "rpartFit <- train(\n",
    "    class ~ .,\n",
    "    data = training,\n",
    "    method = \"rpart\",\n",
    "    trControl = crossValidation,\n",
    "    tuneLength = 10,\n",
    "    metric = \"Kappa\"\n",
    ")"
   ]
  },
  {
   "cell_type": "code",
   "execution_count": 55,
   "metadata": {
    "scrolled": true
   },
   "outputs": [
    {
     "name": "stdout",
     "output_type": "stream",
     "text": [
      "CART \n",
      "\n",
      "8003 samples\n",
      "  12 predictor\n",
      "   5 classes: 'sitting', 'sittingdown', 'standing', 'standingup', 'walking' \n",
      "\n",
      "No pre-processing\n",
      "Resampling: Cross-Validated (10 fold) \n",
      "Summary of sample sizes: 7204, 7204, 7201, 7201, 7203, 7203, ... \n",
      "Resampling results across tuning parameters:\n",
      "\n",
      "  cp           Accuracy   Kappa    \n",
      "  0.007025761  0.8479392  0.7939362\n",
      "  0.007926500  0.8429406  0.7868335\n",
      "  0.013511079  0.8391945  0.7812161\n",
      "  0.017294181  0.8214442  0.7565933\n",
      "  0.018194920  0.8160763  0.7488835\n",
      "  0.029904522  0.7937055  0.7173787\n",
      "  0.049360476  0.7378329  0.6359249\n",
      "  0.072959827  0.6953743  0.5742753\n",
      "  0.179967573  0.6054883  0.4458561\n",
      "  0.346604215  0.4482017  0.2142049\n",
      "\n",
      "Kappa was used to select the optimal model using the largest value.\n",
      "The final value used for the model was cp = 0.007025761.\n",
      "           cp  Accuracy     Kappa AccuracySD\n",
      "1 0.007025761 0.8479392 0.7939362 0.01646071\n"
     ]
    }
   ],
   "source": [
    "# Resultados validación interna\n",
    "internalValidation(rpartFit)"
   ]
  },
  {
   "cell_type": "markdown",
   "metadata": {},
   "source": [
    "A medida que aumenta el cp se puede ver que el resultado empeora, el mejor es el más bajo 0.00826892."
   ]
  },
  {
   "cell_type": "code",
   "execution_count": 56,
   "metadata": {
    "scrolled": true
   },
   "outputs": [
    {
     "name": "stdout",
     "output_type": "stream",
     "text": [
      "Confusion Matrix and Statistics\n",
      "\n",
      "             Reference\n",
      "Prediction    sitting sittingdown standing standingup walking\n",
      "  sitting         596           4        0         21       1\n",
      "  sittingdown       6          81       13          9       8\n",
      "  standing          0          14      478         27      32\n",
      "  standingup        9          21        0         60       8\n",
      "  walking           1          27       72         30     479\n",
      "\n",
      "Overall Statistics\n",
      "                                          \n",
      "               Accuracy : 0.8483          \n",
      "                 95% CI : (0.8318, 0.8637)\n",
      "    No Information Rate : 0.3065          \n",
      "    P-Value [Acc > NIR] : < 2.2e-16       \n",
      "                                          \n",
      "                  Kappa : 0.7945          \n",
      "                                          \n",
      " Mcnemar's Test P-Value : NA              \n",
      "\n",
      "Statistics by Class:\n",
      "\n",
      "                     Class: sitting Class: sittingdown Class: standing\n",
      "Sensitivity                  0.9739            0.55102          0.8490\n",
      "Specificity                  0.9812            0.98054          0.9491\n",
      "Pos Pred Value               0.9582            0.69231          0.8675\n",
      "Neg Pred Value               0.9884            0.96489          0.9412\n",
      "Prevalence                   0.3065            0.07361          0.2819\n",
      "Detection Rate               0.2984            0.04056          0.2394\n",
      "Detection Prevalence         0.3115            0.05859          0.2759\n",
      "Balanced Accuracy            0.9775            0.76578          0.8991\n",
      "                     Class: standingup Class: walking\n",
      "Sensitivity                    0.40816         0.9072\n",
      "Specificity                    0.97946         0.9115\n",
      "Pos Pred Value                 0.61224         0.7865\n",
      "Neg Pred Value                 0.95419         0.9647\n",
      "Prevalence                     0.07361         0.2644\n",
      "Detection Rate                 0.03005         0.2399\n",
      "Detection Prevalence           0.04907         0.3050\n",
      "Balanced Accuracy              0.69381         0.9094\n"
     ]
    }
   ],
   "source": [
    "# Resultados validación externa\n",
    "externalValidation(rpartFit)"
   ]
  },
  {
   "cell_type": "markdown",
   "metadata": {},
   "source": [
    "**Resultados:**\n",
    "\n",
    "Validación interna (Acc. = 0.8531658 / Kappa = 0.8010712)\n",
    "\n",
    "Validación externa (Acc. = 0.8468 / Kappa = 0.7909)\n",
    "\n",
    "Se puede observar que tanto en el caso de la validación interna como externa los datos obtenidos con el modelo C4.5 son mejores."
   ]
  },
  {
   "cell_type": "markdown",
   "metadata": {},
   "source": [
    "### Rpart2\n",
    "\n",
    "Ahora probamos con la versión rpart2 que emplea el parámetro maxdepth para controlar la profundidad del árbol. Vamos a modeificar el tunelenght hasta 21 para poder cubrir todos los posibles valores."
   ]
  },
  {
   "cell_type": "code",
   "execution_count": 57,
   "metadata": {},
   "outputs": [],
   "source": [
    "# Plantamos la semilla para obtener un valor constante tras cada ejecución.\n",
    "set.seed(uo)\n",
    "\n",
    "# Realizamos el entrenamiento de nuestro modelo con rpart2.\n",
    "rpart2Fit <- train(\n",
    "    class ~ .,\n",
    "    data = training,\n",
    "    method = \"rpart2\",\n",
    "    trControl = crossValidation,\n",
    "    tuneLength = 21,\n",
    "    metric = \"Kappa\"\n",
    ")"
   ]
  },
  {
   "cell_type": "code",
   "execution_count": 58,
   "metadata": {
    "scrolled": true
   },
   "outputs": [
    {
     "name": "stdout",
     "output_type": "stream",
     "text": [
      "CART \n",
      "\n",
      "8003 samples\n",
      "  12 predictor\n",
      "   5 classes: 'sitting', 'sittingdown', 'standing', 'standingup', 'walking' \n",
      "\n",
      "No pre-processing\n",
      "Resampling: Cross-Validated (10 fold) \n",
      "Summary of sample sizes: 7204, 7204, 7201, 7201, 7203, 7203, ... \n",
      "Resampling results across tuning parameters:\n",
      "\n",
      "  maxdepth  Accuracy   Kappa    \n",
      "   1        0.5464205  0.3620752\n",
      "   2        0.6712545  0.5391191\n",
      "   3        0.7218504  0.6122917\n",
      "   5        0.7887091  0.7104425\n",
      "   6        0.8094537  0.7391536\n",
      "   7        0.8184493  0.7522593\n",
      "   8        0.8319433  0.7711158\n",
      "   9        0.8415676  0.7844391\n",
      "  10        0.8415676  0.7844391\n",
      "  11        0.8415676  0.7844391\n",
      "  12        0.8415676  0.7844391\n",
      "  15        0.8415676  0.7844391\n",
      "  17        0.8415676  0.7844391\n",
      "  18        0.8415676  0.7844391\n",
      "  19        0.8415676  0.7844391\n",
      "  20        0.8415676  0.7844391\n",
      "  23        0.8415676  0.7844391\n",
      "  24        0.8415676  0.7844391\n",
      "  26        0.8415676  0.7844391\n",
      "  28        0.8415676  0.7844391\n",
      "  29        0.8415676  0.7844391\n",
      "\n",
      "Kappa was used to select the optimal model using the largest value.\n",
      "The final value used for the model was maxdepth = 9.\n",
      "  maxdepth  Accuracy     Kappa AccuracySD\n",
      "8        9 0.8415676 0.7844391 0.01550819\n"
     ]
    }
   ],
   "source": [
    "# Resultados validación interna\n",
    "internalValidation(rpart2Fit)"
   ]
  },
  {
   "cell_type": "markdown",
   "metadata": {},
   "source": [
    "Podemos ver que a apartir de una profundidad de 11 el valor de la precisión y de kappa se mantiene constante. Por lo tanto se seleccionará la profundidad de 11 como óptima."
   ]
  },
  {
   "cell_type": "code",
   "execution_count": 59,
   "metadata": {
    "scrolled": true
   },
   "outputs": [
    {
     "name": "stdout",
     "output_type": "stream",
     "text": [
      "Confusion Matrix and Statistics\n",
      "\n",
      "             Reference\n",
      "Prediction    sitting sittingdown standing standingup walking\n",
      "  sitting         602          28        9         21       3\n",
      "  sittingdown       0          57        4          9       6\n",
      "  standing          0          14      478         27      32\n",
      "  standingup        9          21        0         60       8\n",
      "  walking           1          27       72         30     479\n",
      "\n",
      "Overall Statistics\n",
      "                                          \n",
      "               Accuracy : 0.8393          \n",
      "                 95% CI : (0.8224, 0.8551)\n",
      "    No Information Rate : 0.3065          \n",
      "    P-Value [Acc > NIR] : < 2.2e-16       \n",
      "                                          \n",
      "                  Kappa : 0.7808          \n",
      "                                          \n",
      " Mcnemar's Test P-Value : < 2.2e-16       \n",
      "\n",
      "Statistics by Class:\n",
      "\n",
      "                     Class: sitting Class: sittingdown Class: standing\n",
      "Sensitivity                  0.9837            0.38776          0.8490\n",
      "Specificity                  0.9560            0.98973          0.9491\n",
      "Pos Pred Value               0.9080            0.75000          0.8675\n",
      "Neg Pred Value               0.9925            0.95315          0.9412\n",
      "Prevalence                   0.3065            0.07361          0.2819\n",
      "Detection Rate               0.3015            0.02854          0.2394\n",
      "Detection Prevalence         0.3320            0.03806          0.2759\n",
      "Balanced Accuracy            0.9698            0.68874          0.8991\n",
      "                     Class: standingup Class: walking\n",
      "Sensitivity                    0.40816         0.9072\n",
      "Specificity                    0.97946         0.9115\n",
      "Pos Pred Value                 0.61224         0.7865\n",
      "Neg Pred Value                 0.95419         0.9647\n",
      "Prevalence                     0.07361         0.2644\n",
      "Detection Rate                 0.03005         0.2399\n",
      "Detection Prevalence           0.04907         0.3050\n",
      "Balanced Accuracy              0.69381         0.9094\n"
     ]
    }
   ],
   "source": [
    "# Resultados validación externa\n",
    "externalValidation(rpart2Fit)"
   ]
  },
  {
   "cell_type": "markdown",
   "metadata": {},
   "source": [
    "**Resultados:**\n",
    "\n",
    "Validación interna (Acc. = 0.8457903 / Kappa = 0.7901717)\n",
    "\n",
    "Validación externa (Acc. = 0.8468 / Kappa = 0.7909)\n",
    "\n",
    "Se puede observar que tanto en el caso de la validación interna como externa los datos obtenidos con el modelo C4.5 son mejores. Sin embargo pese a que en la validación interna el árbol rpar2 sea peor que el árbol rpart en la validación externa ambos modelos tienen un rendimiento idéntico."
   ]
  },
  {
   "cell_type": "markdown",
   "metadata": {},
   "source": [
    "### Conclusión árboles de decisión\n",
    "\n",
    "Con los resultados obtenidos podemos decir que el mejor árbol es el C4.5 ya que con nuestro esquema de validación es el que mejor tasa de acierto tiene. Por tanto será el modelo seleccionado de árboles de decisión."
   ]
  },
  {
   "cell_type": "markdown",
   "metadata": {},
   "source": [
    "## Vecinos más cercanos (kNN)\n",
    "\n",
    "Otro de los paradigmas de clasificación vistos durante la asginatura es el de vecinos más cercanos o knn por sus siglas en inglés. Este paradigma no tiene un modelo, lo que hace es comparar el ejemplo con los datos a predecir y a través de distancias a k vecinos más cercanos precedir la clase."
   ]
  },
  {
   "cell_type": "code",
   "execution_count": 60,
   "metadata": {},
   "outputs": [],
   "source": [
    "# Plantamos la semilla para obtener un valor constante tras cada ejecución.\n",
    "set.seed(uo)\n",
    "\n",
    "# Realizamos el entrenamiento de nuestro modelo con knn.\n",
    "knnFit <- train(\n",
    "  class ~ .,\n",
    "  data = training,\n",
    "  method = \"knn\",\n",
    "  trControl = crossValidation,\n",
    "  tuneLength = 10 # k. Número de vecinos a comprobar.\n",
    ")"
   ]
  },
  {
   "cell_type": "code",
   "execution_count": 61,
   "metadata": {
    "scrolled": true
   },
   "outputs": [
    {
     "name": "stdout",
     "output_type": "stream",
     "text": [
      "k-Nearest Neighbors \n",
      "\n",
      "8003 samples\n",
      "  12 predictor\n",
      "   5 classes: 'sitting', 'sittingdown', 'standing', 'standingup', 'walking' \n",
      "\n",
      "No pre-processing\n",
      "Resampling: Cross-Validated (10 fold) \n",
      "Summary of sample sizes: 7204, 7204, 7201, 7201, 7203, 7203, ... \n",
      "Resampling results across tuning parameters:\n",
      "\n",
      "  k   Accuracy   Kappa    \n",
      "   5  0.9707599  0.9607891\n",
      "   7  0.9657630  0.9540776\n",
      "   9  0.9636380  0.9512303\n",
      "  11  0.9598884  0.9461700\n",
      "  13  0.9556398  0.9404557\n",
      "  15  0.9512674  0.9345635\n",
      "  17  0.9468929  0.9286500\n",
      "  19  0.9426435  0.9229117\n",
      "  21  0.9396463  0.9188516\n",
      "  23  0.9355228  0.9132695\n",
      "\n",
      "Accuracy was used to select the optimal model using the largest value.\n",
      "The final value used for the model was k = 5.\n",
      "  k  Accuracy     Kappa  AccuracySD\n",
      "1 5 0.9707599 0.9607891 0.005475589\n"
     ]
    }
   ],
   "source": [
    "# Resultados validación interna\n",
    "internalValidation(knnFit)"
   ]
  },
  {
   "cell_type": "code",
   "execution_count": 62,
   "metadata": {
    "scrolled": true
   },
   "outputs": [
    {
     "name": "stdout",
     "output_type": "stream",
     "text": [
      "Confusion Matrix and Statistics\n",
      "\n",
      "             Reference\n",
      "Prediction    sitting sittingdown standing standingup walking\n",
      "  sitting         606           0        0          1       0\n",
      "  sittingdown       1         138        1          6       4\n",
      "  standing          0           4      560          4      10\n",
      "  standingup        5           3        2        132       3\n",
      "  walking           0           2        0          4     511\n",
      "\n",
      "Overall Statistics\n",
      "                                          \n",
      "               Accuracy : 0.975           \n",
      "                 95% CI : (0.9671, 0.9814)\n",
      "    No Information Rate : 0.3065          \n",
      "    P-Value [Acc > NIR] : < 2.2e-16       \n",
      "                                          \n",
      "                  Kappa : 0.9664          \n",
      "                                          \n",
      " Mcnemar's Test P-Value : NA              \n",
      "\n",
      "Statistics by Class:\n",
      "\n",
      "                     Class: sitting Class: sittingdown Class: standing\n",
      "Sensitivity                  0.9902            0.93878          0.9947\n",
      "Specificity                  0.9993            0.99351          0.9874\n",
      "Pos Pred Value               0.9984            0.92000          0.9689\n",
      "Neg Pred Value               0.9957            0.99513          0.9979\n",
      "Prevalence                   0.3065            0.07361          0.2819\n",
      "Detection Rate               0.3035            0.06910          0.2804\n",
      "Detection Prevalence         0.3040            0.07511          0.2894\n",
      "Balanced Accuracy            0.9947            0.96614          0.9911\n",
      "                     Class: standingup Class: walking\n",
      "Sensitivity                    0.89796         0.9678\n",
      "Specificity                    0.99297         0.9959\n",
      "Pos Pred Value                 0.91034         0.9884\n",
      "Neg Pred Value                 0.99190         0.9885\n",
      "Prevalence                     0.07361         0.2644\n",
      "Detection Rate                 0.06610         0.2559\n",
      "Detection Prevalence           0.07261         0.2589\n",
      "Balanced Accuracy              0.94547         0.9819\n"
     ]
    }
   ],
   "source": [
    "# Resultados validación externa\n",
    "externalValidation(knnFit)"
   ]
  },
  {
   "cell_type": "markdown",
   "metadata": {},
   "source": [
    "**Resultados:**\n",
    "\n",
    "Validación interna (Acc. = 0.9696309 / Kappa = 0.9592485)\n",
    "\n",
    "Validación externa (Acc. = 0.9725 / Kappa = 0.9631)\n",
    "\n",
    "En este modelo puede verse que los resultados con la validación externa superan, muy ligeramente, a los resultados obtenidos durante el aprendizaje."
   ]
  },
  {
   "cell_type": "markdown",
   "metadata": {},
   "source": [
    "## Redes neuronales\n",
    "\n",
    "Este es un método de clasificación no paramétrico, que estima el valor de la función de densidad de probabilidad o directamente la probabilidad a posteriori de que un elemento x pertenezca a la clase C a partir de la información proporcionada por el conjunto de prototipos. En el proceso de aprendizaje no se hace ninguna suposición acerca de la distribución de las variables predictoras."
   ]
  },
  {
   "cell_type": "code",
   "execution_count": 63,
   "metadata": {},
   "outputs": [],
   "source": [
    "plotNNErrorEvolution <- function(nnModel){\n",
    "  ggplot() + geom_line(aes(x=1:length(nnModel$finalModel$IterativeFitError), \n",
    "                           y=nnModel$finalModel$IterativeFitError)) +\n",
    "  xlab(\"Iteraciones\") + ylab(\"Error\") \n",
    "}"
   ]
  },
  {
   "cell_type": "markdown",
   "metadata": {},
   "source": [
    "### 1 capa oculta"
   ]
  },
  {
   "cell_type": "code",
   "execution_count": 64,
   "metadata": {},
   "outputs": [],
   "source": [
    "# Plantamos la semilla para obtener un valor constante tras cada ejecución.\n",
    "set.seed(uo)\n",
    "\n",
    "# Realizamos el entrenamiento de nuestro modelo\n",
    "nn1LFit <- train(\n",
    "    class ~ .,\n",
    "    data = training,\n",
    "    method = \"mlp\",\n",
    "    trControl = crossValidation,\n",
    "    metric = \"Kappa\",\n",
    "    preProcess=c(\"center\",\"scale\"),\n",
    "    tuneGrid = data.frame(size=seq(10,110,20))\n",
    ")\n",
    "\n",
    "nneurons1L <- nn1LFit$results[rownames(nn1LFit$bestTune),1]"
   ]
  },
  {
   "cell_type": "code",
   "execution_count": 65,
   "metadata": {
    "scrolled": false
   },
   "outputs": [
    {
     "name": "stdout",
     "output_type": "stream",
     "text": [
      "Multi-Layer Perceptron \n",
      "\n",
      "8003 samples\n",
      "  12 predictor\n",
      "   5 classes: 'sitting', 'sittingdown', 'standing', 'standingup', 'walking' \n",
      "\n",
      "Pre-processing: centered (12), scaled (12) \n",
      "Resampling: Cross-Validated (10 fold) \n",
      "Summary of sample sizes: 7204, 7204, 7201, 7201, 7203, 7203, ... \n",
      "Resampling results across tuning parameters:\n",
      "\n",
      "  size  Accuracy   Kappa    \n",
      "   10   0.9336492  0.9108437\n",
      "   30   0.9563894  0.9415687\n",
      "   50   0.9597649  0.9460436\n",
      "   70   0.9605110  0.9470474\n",
      "   90   0.9642643  0.9520938\n",
      "  110   0.9625124  0.9497755\n",
      "\n",
      "Kappa was used to select the optimal model using the largest value.\n",
      "The final value used for the model was size = 90.\n",
      "  size  Accuracy     Kappa  AccuracySD\n",
      "5   90 0.9642643 0.9520938 0.008204571\n"
     ]
    }
   ],
   "source": [
    "# Resultados validación interna\n",
    "internalValidation(nn1LFit)"
   ]
  },
  {
   "cell_type": "markdown",
   "metadata": {},
   "source": [
    "En la validación interna los resultados ya son aceptables en un primer lugar, obtenemos una kappa de 0.9520938 y un acc. de 0.9642643 para una capa oculta de 90 neuronas. Así mismo vemos que el valor optimo de neuronas se encuentra en algún punto entre 70 y 110, vamos a intentar acercarnos más al valor optimo."
   ]
  },
  {
   "cell_type": "code",
   "execution_count": 66,
   "metadata": {},
   "outputs": [],
   "source": [
    "# Plantamos la semilla para obtener un valor constante tras cada ejecución.\n",
    "set.seed(uo)\n",
    "\n",
    "# Realizamos el entrenamiento de nuestro modelo\n",
    "nn1LFit2 <- train(\n",
    "    class ~ .,\n",
    "    data = training,\n",
    "    method = \"mlp\",\n",
    "    trControl = crossValidation,\n",
    "    metric = \"Kappa\",\n",
    "    preProcess=c(\"center\",\"scale\"),\n",
    "    tuneGrid = data.frame(size=seq(nneurons1L-10,nneurons1L+10,2))\n",
    ")"
   ]
  },
  {
   "cell_type": "code",
   "execution_count": 67,
   "metadata": {},
   "outputs": [
    {
     "name": "stdout",
     "output_type": "stream",
     "text": [
      "Multi-Layer Perceptron \n",
      "\n",
      "8003 samples\n",
      "  12 predictor\n",
      "   5 classes: 'sitting', 'sittingdown', 'standing', 'standingup', 'walking' \n",
      "\n",
      "Pre-processing: centered (12), scaled (12) \n",
      "Resampling: Cross-Validated (10 fold) \n",
      "Summary of sample sizes: 7204, 7204, 7201, 7201, 7203, 7203, ... \n",
      "Resampling results across tuning parameters:\n",
      "\n",
      "  size  Accuracy   Kappa    \n",
      "   80   0.9641395  0.9519527\n",
      "   82   0.9645148  0.9524162\n",
      "   84   0.9646363  0.9526111\n",
      "   86   0.9637577  0.9514665\n",
      "   88   0.9621377  0.9492845\n",
      "   90   0.9657587  0.9540979\n",
      "   92   0.9635138  0.9511372\n",
      "   94   0.9666384  0.9552854\n",
      "   96   0.9646353  0.9526259\n",
      "   98   0.9667612  0.9554579\n",
      "  100   0.9651390  0.9533004\n",
      "\n",
      "Kappa was used to select the optimal model using the largest value.\n",
      "The final value used for the model was size = 98.\n",
      "   size  Accuracy     Kappa  AccuracySD\n",
      "10   98 0.9667612 0.9554579 0.007132163\n"
     ]
    }
   ],
   "source": [
    "# Resultados validación interna\n",
    "internalValidation(nn1LFit2)"
   ]
  },
  {
   "cell_type": "markdown",
   "metadata": {},
   "source": [
    "Con la exploración anterior encontramos que con 98 neuronas en la capa oculta el modelo consigue una precisión de 0.9667612 y un kappa de 0.9554579. A demás vemos que a partir de 98 el desempeño de la red decae de nuevo por lo que este será el valor \"óptimo\". Sin embargo vamos a tratar de ver como ha sido el aprendizaje de la red, primero con la matriz de confusión y luego con la gráfica d eentrenamiento."
   ]
  },
  {
   "cell_type": "code",
   "execution_count": 68,
   "metadata": {
    "scrolled": false
   },
   "outputs": [
    {
     "name": "stdout",
     "output_type": "stream",
     "text": [
      "Confusion Matrix and Statistics\n",
      "\n",
      "             Reference\n",
      "Prediction    sitting sittingdown standing standingup walking\n",
      "  sitting         609           0        0          1       1\n",
      "  sittingdown       1         136        0          3       2\n",
      "  standing          0           3      541          4       4\n",
      "  standingup        2           5       15        137       5\n",
      "  walking           0           3        7          2     516\n",
      "\n",
      "Overall Statistics\n",
      "                                          \n",
      "               Accuracy : 0.971           \n",
      "                 95% CI : (0.9626, 0.9779)\n",
      "    No Information Rate : 0.3065          \n",
      "    P-Value [Acc > NIR] : < 2.2e-16       \n",
      "                                          \n",
      "                  Kappa : 0.9611          \n",
      "                                          \n",
      " Mcnemar's Test P-Value : NA              \n",
      "\n",
      "Statistics by Class:\n",
      "\n",
      "                     Class: sitting Class: sittingdown Class: standing\n",
      "Sensitivity                  0.9951            0.92517          0.9609\n",
      "Specificity                  0.9986            0.99676          0.9923\n",
      "Pos Pred Value               0.9967            0.95775          0.9801\n",
      "Neg Pred Value               0.9978            0.99407          0.9848\n",
      "Prevalence                   0.3065            0.07361          0.2819\n",
      "Detection Rate               0.3050            0.06810          0.2709\n",
      "Detection Prevalence         0.3060            0.07111          0.2764\n",
      "Balanced Accuracy            0.9968            0.96096          0.9766\n",
      "                     Class: standingup Class: walking\n",
      "Sensitivity                    0.93197         0.9773\n",
      "Specificity                    0.98541         0.9918\n",
      "Pos Pred Value                 0.83537         0.9773\n",
      "Neg Pred Value                 0.99454         0.9918\n",
      "Prevalence                     0.07361         0.2644\n",
      "Detection Rate                 0.06860         0.2584\n",
      "Detection Prevalence           0.08212         0.2644\n",
      "Balanced Accuracy              0.95869         0.9846\n"
     ]
    },
    {
     "data": {
      "image/png": "[encoded data removed]",
      "text/plain": [
       "plot without title"
      ]
     },
     "metadata": {
      "image/png": {
       "height": 420,
       "width": 420
      },
      "text/plain": {
       "height": 420,
       "width": 420
      }
     },
     "output_type": "display_data"
    }
   ],
   "source": [
    "externalValidation(nn1LFit2)\n",
    "\n",
    "# Dibujamos la evolución del error a lo largo de las iteraciones de la red\n",
    "plotNNErrorEvolution(nn1LFit2)"
   ]
  },
  {
   "cell_type": "markdown",
   "metadata": {},
   "source": [
    "Como vemos, la curva de entrenamiento es más o menos aceptable ya que no encontramos grandes picos en el error. Sin embargo si observamos que en la iteración número 100 que es donde detenemos nuestro entrenamiento el error aún es descendente. Esto significa que probablemente si continuamos entrenando durante más de 100 iteraciones consigamos unos resultados de desempeño de la red mcho mayores."
   ]
  },
  {
   "cell_type": "code",
   "execution_count": 69,
   "metadata": {},
   "outputs": [],
   "source": [
    "# Plantamos la semilla para obtener un valor constante tras cada ejecución.\n",
    "set.seed(uo)\n",
    "\n",
    "# Realizamos el entrenamiento de nuestro modelo\n",
    "nn1LFit2_maxit300 <- train(\n",
    "    class ~ .,\n",
    "    data = training,\n",
    "    method = \"mlp\",\n",
    "    trControl = crossValidation,\n",
    "    metric = \"Kappa\",\n",
    "    preProcess=c(\"center\",\"scale\"),\n",
    "    tuneGrid = data.frame(size=98),\n",
    "    maxit=300\n",
    ")"
   ]
  },
  {
   "cell_type": "code",
   "execution_count": 70,
   "metadata": {},
   "outputs": [
    {
     "name": "stdout",
     "output_type": "stream",
     "text": [
      "Multi-Layer Perceptron \n",
      "\n",
      "8003 samples\n",
      "  12 predictor\n",
      "   5 classes: 'sitting', 'sittingdown', 'standing', 'standingup', 'walking' \n",
      "\n",
      "Pre-processing: centered (12), scaled (12) \n",
      "Resampling: Cross-Validated (10 fold) \n",
      "Summary of sample sizes: 7204, 7204, 7201, 7201, 7203, 7203, ... \n",
      "Resampling results:\n",
      "\n",
      "  Accuracy  Kappa    \n",
      "  0.968386  0.9576379\n",
      "\n",
      "Tuning parameter 'size' was held constant at a value of 98\n",
      "  size Accuracy     Kappa AccuracySD\n",
      "1   98 0.968386 0.9576379 0.01185008\n"
     ]
    }
   ],
   "source": [
    "# Resultados validación interna\n",
    "internalValidation(nn1LFit2_maxit300)"
   ]
  },
  {
   "cell_type": "code",
   "execution_count": 71,
   "metadata": {
    "scrolled": false
   },
   "outputs": [
    {
     "name": "stdout",
     "output_type": "stream",
     "text": [
      "Confusion Matrix and Statistics\n",
      "\n",
      "             Reference\n",
      "Prediction    sitting sittingdown standing standingup walking\n",
      "  sitting         609           1        0          1       1\n",
      "  sittingdown       0         136        0          7       3\n",
      "  standing          0           2      558          5       3\n",
      "  standingup        3           3        2        134       2\n",
      "  walking           0           5        3          0     519\n",
      "\n",
      "Overall Statistics\n",
      "                                          \n",
      "               Accuracy : 0.9795          \n",
      "                 95% CI : (0.9722, 0.9852)\n",
      "    No Information Rate : 0.3065          \n",
      "    P-Value [Acc > NIR] : < 2.2e-16       \n",
      "                                          \n",
      "                  Kappa : 0.9725          \n",
      "                                          \n",
      " Mcnemar's Test P-Value : NA              \n",
      "\n",
      "Statistics by Class:\n",
      "\n",
      "                     Class: sitting Class: sittingdown Class: standing\n",
      "Sensitivity                  0.9951            0.92517          0.9911\n",
      "Specificity                  0.9978            0.99459          0.9930\n",
      "Pos Pred Value               0.9951            0.93151          0.9824\n",
      "Neg Pred Value               0.9978            0.99406          0.9965\n",
      "Prevalence                   0.3065            0.07361          0.2819\n",
      "Detection Rate               0.3050            0.06810          0.2794\n",
      "Detection Prevalence         0.3065            0.07311          0.2844\n",
      "Balanced Accuracy            0.9965            0.95988          0.9921\n",
      "                     Class: standingup Class: walking\n",
      "Sensitivity                    0.91156         0.9830\n",
      "Specificity                    0.99459         0.9946\n",
      "Pos Pred Value                 0.93056         0.9848\n",
      "Neg Pred Value                 0.99298         0.9939\n",
      "Prevalence                     0.07361         0.2644\n",
      "Detection Rate                 0.06710         0.2599\n",
      "Detection Prevalence           0.07211         0.2639\n",
      "Balanced Accuracy              0.95308         0.9888\n"
     ]
    },
    {
     "data": {
      "image/png": "[encoded data removed]",
      "text/plain": [
       "plot without title"
      ]
     },
     "metadata": {
      "image/png": {
       "height": 420,
       "width": 420
      },
      "text/plain": {
       "height": 420,
       "width": 420
      }
     },
     "output_type": "display_data"
    }
   ],
   "source": [
    "externalValidation(nn1LFit2_maxit300)\n",
    "\n",
    "# Dibujamos la evolución del error a lo largo de las iteraciones de la red\n",
    "plotNNErrorEvolution(nn1LFit2_maxit300)"
   ]
  },
  {
   "cell_type": "markdown",
   "metadata": {},
   "source": [
    "En la gráfica anterior podemos ver que el error se disminuye a partir de la iteración 100 sin embargo también nos aparece un pico decreciente en el error que antes no estaba, para intentar que el proceso de aprendizaje sea más lineal vamos a probar a jugar con el parámetro de ratio de aprendizaje."
   ]
  },
  {
   "cell_type": "code",
   "execution_count": 72,
   "metadata": {},
   "outputs": [],
   "source": [
    "# Plantamos la semilla para obtener un valor constante tras cada ejecución.\n",
    "set.seed(uo)\n",
    "\n",
    "# Realizamos el entrenamiento de nuestro modelo\n",
    "nn1LFit2_maxit300_lr02 <- train(\n",
    "    class ~ .,\n",
    "    data = training,\n",
    "    method = \"mlp\",\n",
    "    trControl = crossValidation,\n",
    "    metric = \"Kappa\",\n",
    "    preProcess=c(\"center\",\"scale\"),\n",
    "    tuneGrid = data.frame(size=98),\n",
    "    maxit=300,\n",
    "    leanFuncParam = c(0.02,0)\n",
    ")"
   ]
  },
  {
   "cell_type": "code",
   "execution_count": 73,
   "metadata": {},
   "outputs": [
    {
     "name": "stdout",
     "output_type": "stream",
     "text": [
      "Confusion Matrix and Statistics\n",
      "\n",
      "             Reference\n",
      "Prediction    sitting sittingdown standing standingup walking\n",
      "  sitting         609           1        0          1       1\n",
      "  sittingdown       0         136        0          7       3\n",
      "  standing          0           2      558          5       3\n",
      "  standingup        3           3        2        134       2\n",
      "  walking           0           5        3          0     519\n",
      "\n",
      "Overall Statistics\n",
      "                                          \n",
      "               Accuracy : 0.9795          \n",
      "                 95% CI : (0.9722, 0.9852)\n",
      "    No Information Rate : 0.3065          \n",
      "    P-Value [Acc > NIR] : < 2.2e-16       \n",
      "                                          \n",
      "                  Kappa : 0.9725          \n",
      "                                          \n",
      " Mcnemar's Test P-Value : NA              \n",
      "\n",
      "Statistics by Class:\n",
      "\n",
      "                     Class: sitting Class: sittingdown Class: standing\n",
      "Sensitivity                  0.9951            0.92517          0.9911\n",
      "Specificity                  0.9978            0.99459          0.9930\n",
      "Pos Pred Value               0.9951            0.93151          0.9824\n",
      "Neg Pred Value               0.9978            0.99406          0.9965\n",
      "Prevalence                   0.3065            0.07361          0.2819\n",
      "Detection Rate               0.3050            0.06810          0.2794\n",
      "Detection Prevalence         0.3065            0.07311          0.2844\n",
      "Balanced Accuracy            0.9965            0.95988          0.9921\n",
      "                     Class: standingup Class: walking\n",
      "Sensitivity                    0.91156         0.9830\n",
      "Specificity                    0.99459         0.9946\n",
      "Pos Pred Value                 0.93056         0.9848\n",
      "Neg Pred Value                 0.99298         0.9939\n",
      "Prevalence                     0.07361         0.2644\n",
      "Detection Rate                 0.06710         0.2599\n",
      "Detection Prevalence           0.07211         0.2639\n",
      "Balanced Accuracy              0.95308         0.9888\n"
     ]
    },
    {
     "data": {
      "image/png": "[encoded data removed]",
      "text/plain": [
       "plot without title"
      ]
     },
     "metadata": {
      "image/png": {
       "height": 420,
       "width": 420
      },
      "text/plain": {
       "height": 420,
       "width": 420
      }
     },
     "output_type": "display_data"
    }
   ],
   "source": [
    "externalValidation(nn1LFit2_maxit300_lr02)\n",
    "\n",
    "# Dibujamos la evolución del error a lo largo de las iteraciones de la red\n",
    "plotNNErrorEvolution(nn1LFit2_maxit300_lr02)"
   ]
  },
  {
   "cell_type": "markdown",
   "metadata": {},
   "source": [
    "Para el modelo anterior encontramos que la precisión más elevada se da cuando empleamos 60 neuronas en la capa oculta, con un 98.8% sobre los datos de entrenamiento y un 98.99% sobre los datos de validación.\n",
    "\n",
    "Vamos a probar con redes más profundas, pero limitando la complejidad (número de parámetros) a un nivel similar a la red anterior."
   ]
  },
  {
   "cell_type": "markdown",
   "metadata": {},
   "source": [
    "El test binomial nos indica que durante el entrenamiento no se puede tomar la diferencia como significativa. Los dos modelos ajustan los datos de entrenamiento de manera similar pero el modelo de una única capa oculta es capaz de generalizar mejor."
   ]
  },
  {
   "cell_type": "markdown",
   "metadata": {},
   "source": [
    "## Máquinas vector soporte\n",
    "\n",
    "Estos métodos están propiamente relacionados con problemas de clasificación y regresión. Dado un conjunto de ejemplos de entrenamiento (de muestras) podemos etiquetar las clases y entrenar una SVM para construir un modelo que prediga la clase de una nueva muestra. Intuitivamente, una SVM es un modelo que representa a los puntos de muestra en el espacio, separando las clases a 2 espacios lo más amplios posibles mediante un hiperplano de separación definido como el vector entre los 2 puntos, de las 2 clases, más cercanos al que se llama vector soporte. Cuando las nuevas muestras se ponen en correspondencia con dicho modelo, en función de los espacios a los que pertenezcan, pueden ser clasificadas a una o la otra clase.\n",
    "\n",
    "De la misma forma que con los árboles de decisión para las máquinas de vector soporte encontramos diferentes tipos, Lineares, Polinomial y Radial"
   ]
  },
  {
   "cell_type": "code",
   "execution_count": 74,
   "metadata": {},
   "outputs": [],
   "source": [
    "# Plantamos la semilla para obtener un valor constante tras cada ejecución.\n",
    "set.seed(uo)\n",
    "\n",
    "svmLinealFit <- train(\n",
    "    class ~ .,\n",
    "    data = training,\n",
    "    method = \"svmLinear\",\n",
    "    trControl = crossValidation,\n",
    "    tuneGrid = data.frame(C=c(0.001, 0.005, 0.01, 0.05, 0.1, 0.5, 1, 5)),\n",
    "    metric = \"kappa\"\n",
    ")"
   ]
  },
  {
   "cell_type": "code",
   "execution_count": 75,
   "metadata": {},
   "outputs": [
    {
     "name": "stdout",
     "output_type": "stream",
     "text": [
      "Support Vector Machines with Linear Kernel \n",
      "\n",
      "8003 samples\n",
      "  12 predictor\n",
      "   5 classes: 'sitting', 'sittingdown', 'standing', 'standingup', 'walking' \n",
      "\n",
      "No pre-processing\n",
      "Resampling: Cross-Validated (10 fold) \n",
      "Summary of sample sizes: 7204, 7204, 7201, 7201, 7203, 7203, ... \n",
      "Resampling results across tuning parameters:\n",
      "\n",
      "  C      Accuracy   Kappa    \n",
      "  0.001  0.7163551  0.6065754\n",
      "  0.005  0.7885844  0.7111782\n",
      "  0.010  0.8045737  0.7342568\n",
      "  0.050  0.8256870  0.7644230\n",
      "  0.100  0.8304357  0.7712231\n",
      "  0.500  0.8343109  0.7766802\n",
      "  1.000  0.8351856  0.7778427\n",
      "  5.000  0.8363062  0.7794994\n",
      "\n",
      "Accuracy was used to select the optimal model using the largest value.\n",
      "The final value used for the model was C = 5.\n",
      "  C  Accuracy     Kappa AccuracySD\n",
      "8 5 0.8363062 0.7794994 0.01598872\n"
     ]
    }
   ],
   "source": [
    "# Resultados validación interna\n",
    "internalValidation(svmLinealFit)"
   ]
  },
  {
   "cell_type": "code",
   "execution_count": 76,
   "metadata": {},
   "outputs": [
    {
     "name": "stdout",
     "output_type": "stream",
     "text": [
      "Confusion Matrix and Statistics\n",
      "\n",
      "             Reference\n",
      "Prediction    sitting sittingdown standing standingup walking\n",
      "  sitting         606           4        0          5       0\n",
      "  sittingdown       1         100        4         14      24\n",
      "  standing          0          29      534         23     133\n",
      "  standingup        5          10        1         92       5\n",
      "  walking           0           4       24         13     366\n",
      "\n",
      "Overall Statistics\n",
      "                                          \n",
      "               Accuracy : 0.8503          \n",
      "                 95% CI : (0.8339, 0.8657)\n",
      "    No Information Rate : 0.3065          \n",
      "    P-Value [Acc > NIR] : < 2.2e-16       \n",
      "                                          \n",
      "                  Kappa : 0.7979          \n",
      "                                          \n",
      " Mcnemar's Test P-Value : NA              \n",
      "\n",
      "Statistics by Class:\n",
      "\n",
      "                     Class: sitting Class: sittingdown Class: standing\n",
      "Sensitivity                  0.9902            0.68027          0.9485\n",
      "Specificity                  0.9935            0.97676          0.8710\n",
      "Pos Pred Value               0.9854            0.69930          0.7427\n",
      "Neg Pred Value               0.9957            0.97465          0.9773\n",
      "Prevalence                   0.3065            0.07361          0.2819\n",
      "Detection Rate               0.3035            0.05008          0.2674\n",
      "Detection Prevalence         0.3080            0.07161          0.3600\n",
      "Balanced Accuracy            0.9918            0.82851          0.9097\n",
      "                     Class: standingup Class: walking\n",
      "Sensitivity                    0.62585         0.6932\n",
      "Specificity                    0.98865         0.9721\n",
      "Pos Pred Value                 0.81416         0.8993\n",
      "Neg Pred Value                 0.97081         0.8981\n",
      "Prevalence                     0.07361         0.2644\n",
      "Detection Rate                 0.04607         0.1833\n",
      "Detection Prevalence           0.05658         0.2038\n",
      "Balanced Accuracy              0.80725         0.8326\n"
     ]
    }
   ],
   "source": [
    "# Resultados validación externa\n",
    "externalValidation(svmLinealFit)"
   ]
  },
  {
   "cell_type": "code",
   "execution_count": null,
   "metadata": {},
   "outputs": [],
   "source": []
  }
 ],
 "metadata": {
  "kernel_info": {
   "name": "ir"
  },
  "kernelspec": {
   "display_name": "R",
   "language": "R",
   "name": "ir"
  },
  "language_info": {
   "codemirror_mode": "r",
   "file_extension": ".r",
   "mimetype": "text/x-r-source",
   "name": "R",
   "pygments_lexer": "r",
   "version": "3.4.4"
  },
  "nteract": {
   "version": "0.15.0"
  }
 },
 "nbformat": 4,
 "nbformat_minor": 4
}
