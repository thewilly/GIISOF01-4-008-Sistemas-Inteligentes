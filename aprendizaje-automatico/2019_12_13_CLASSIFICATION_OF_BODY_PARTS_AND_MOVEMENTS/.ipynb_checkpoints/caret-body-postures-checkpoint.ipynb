{
 "cells": [
  {
   "cell_type": "markdown",
   "metadata": {},
   "source": [
    "# Sistemas Inteligentes: Aprendizaje Automático\n",
    "\n",
    "**Autor:** _Guillermo Facundo Colunga, uo236856@uniovi.es_\n",
    "\n",
    "**Datos entorno desarrollo:**  \n",
    "**SO:** Windows 10.  \n",
    "**Cores:** 32/64.  \n",
    "**RAM:** 64 Gb."
   ]
  },
  {
   "cell_type": "markdown",
   "metadata": {},
   "source": [
    "# Introducción\n",
    "\n",
    "Esta práctica de aprendizaje automático se enmarca en explorar los distintos paradigmas de clasificación estudiados en la asignatura para seleccionar aquel que mejor prediga el tipo de actividad que realiza una persona según la información proporcionada por los sensores que lleva una persona.\n",
    "\n",
    "Para ello se evaluarán los paradigmas de clasificación **árbol de decisión, vecinos más cercanos, redes neuronales y máquinas de vector soporte** a través del paquete `caret` de R. \n",
    "\n",
    "Finalmente se realizará la comparación de los resultados aportados por los diferentes paradigmas y se seleccionará aquel que mejor precisión tenga como _el mejor_.\n"
   ]
  },
  {
   "cell_type": "markdown",
   "metadata": {},
   "source": [
    "# Configuración espacio de trabajo en R\n",
    "\n",
    "Empezamos configurando R e importanto el paquete `caret`. De la misma forma cargamos las librerías necesarias que vamos a utilizar durante el desarrollo de la práctica y eliminamos los warnings de nuestro script para limpiar las salidas."
   ]
  },
  {
   "cell_type": "code",
   "execution_count": 2,
   "metadata": {},
   "outputs": [
    {
     "name": "stderr",
     "output_type": "stream",
     "text": [
      "Loading required package: lattice\n",
      "\n",
      "Loading required package: ggplot2\n",
      "\n"
     ]
    }
   ],
   "source": [
    "# Eliminamos los warnings del script ya que ensucian el script\n",
    "options(warn=-1)\n",
    "\n",
    "# Realizamos los imports necesarios\n",
    "library(caret)"
   ]
  },
  {
   "cell_type": "markdown",
   "metadata": {},
   "source": [
    "# Carga de datos en R\n",
    "\n",
    "Una vez tenemos R configurado y con las librerías necesarias cargadas, importamos los datos sobre los que vamos a dearrollar nuestros modelos. Para ello descargamos en el directorio el siguiente banco de [datos](http://archive.ics.uci.edu/ml/datasets/Wearable+Computing%3A+Classification+of+Body+Postures+and+Movements+%28PUC-Rio%29) y lo importamos con el siguiente código."
   ]
  },
  {
   "cell_type": "code",
   "execution_count": 3,
   "metadata": {},
   "outputs": [],
   "source": [
    "load(\"har.RData\")"
   ]
  },
  {
   "cell_type": "markdown",
   "metadata": {},
   "source": [
    "Este conjunto de datos contiene 19 variables y 165.633 instancias, para que el análisis se pueda hacer en menos tiempo usaremos sólo 10.000 instancias que vendrán dadas por nuestro identificador universitario."
   ]
  },
  {
   "cell_type": "code",
   "execution_count": 4,
   "metadata": {
    "tags": [
     "parameters"
    ]
   },
   "outputs": [],
   "source": [
    "# Configuramos nuestro identificador universitario\n",
    "uo <- 236856\n",
    "n_instancias <- 10000"
   ]
  },
  {
   "cell_type": "markdown",
   "metadata": {},
   "source": [
    "Una vez configurados el identificador universitario y el número de instancias filtramos los datos del banco y los asignamos a la variable filtered."
   ]
  },
  {
   "cell_type": "code",
   "execution_count": 5,
   "metadata": {},
   "outputs": [],
   "source": [
    "set.seed(uo) #Pon aquí los número de tu UO\n",
    "filtered <- har[sample(nrow(har)-1,n_instancias),]"
   ]
  },
  {
   "cell_type": "markdown",
   "metadata": {},
   "source": [
    "Además vamos a eliminar las todas las columnas que contienen información relativa a cada participante en el estudio para emplear sólo la información del movimiento"
   ]
  },
  {
   "cell_type": "code",
   "execution_count": 6,
   "metadata": {},
   "outputs": [],
   "source": [
    "filtered$age<-NULL\n",
    "filtered$user<-NULL\n",
    "filtered$gender<-NULL\n",
    "filtered$how_tall_in_meters<-NULL\n",
    "filtered$weight<-NULL\n",
    "filtered$body_mass_index<-NULL"
   ]
  },
  {
   "cell_type": "markdown",
   "metadata": {},
   "source": [
    "Mostramos la cabecera de la tabla de datos resultante tras realizar el pre-procesado para ver con que datos vamos a trabajar."
   ]
  },
  {
   "cell_type": "code",
   "execution_count": 7,
   "metadata": {
    "scrolled": true
   },
   "outputs": [
    {
     "data": {
      "text/html": [
       "<table>\n",
       "<caption>A data.frame: 6 × 13</caption>\n",
       "<thead>\n",
       "\t<tr><th></th><th scope=col>x1</th><th scope=col>y1</th><th scope=col>z1</th><th scope=col>x2</th><th scope=col>y2</th><th scope=col>z2</th><th scope=col>x3</th><th scope=col>y3</th><th scope=col>z3</th><th scope=col>x4</th><th scope=col>y4</th><th scope=col>z4</th><th scope=col>class</th></tr>\n",
       "\t<tr><th></th><th scope=col>&lt;int&gt;</th><th scope=col>&lt;int&gt;</th><th scope=col>&lt;int&gt;</th><th scope=col>&lt;int&gt;</th><th scope=col>&lt;int&gt;</th><th scope=col>&lt;int&gt;</th><th scope=col>&lt;int&gt;</th><th scope=col>&lt;int&gt;</th><th scope=col>&lt;int&gt;</th><th scope=col>&lt;int&gt;</th><th scope=col>&lt;int&gt;</th><th scope=col>&lt;dbl&gt;</th><th scope=col>&lt;fct&gt;</th></tr>\n",
       "</thead>\n",
       "<tbody>\n",
       "\t<tr><th scope=row>25721</th><td>-24</td><td>41</td><td> -25</td><td>-252</td><td>-328</td><td>-362</td><td> 26</td><td>106</td><td> -88</td><td>-150</td><td> -95</td><td>73</td><td>sitting   </td></tr>\n",
       "\t<tr><th scope=row>145066</th><td>-10</td><td>83</td><td>-101</td><td>-492</td><td>-516</td><td>-614</td><td> 36</td><td> 65</td><td>-103</td><td>-172</td><td> -87</td><td>72</td><td>walking   </td></tr>\n",
       "\t<tr><th scope=row>110991</th><td>-13</td><td>97</td><td> -86</td><td>  11</td><td>  83</td><td>-121</td><td> 40</td><td> 98</td><td> -66</td><td>-180</td><td> -87</td><td>55</td><td>standingup</td></tr>\n",
       "\t<tr><th scope=row>99440</th><td> -5</td><td>97</td><td>-123</td><td>   0</td><td>  90</td><td>-139</td><td> 39</td><td>116</td><td> -83</td><td>-182</td><td> -81</td><td>53</td><td>standing  </td></tr>\n",
       "\t<tr><th scope=row>164480</th><td>-17</td><td>94</td><td>-143</td><td> -15</td><td>  76</td><td> -83</td><td>-10</td><td>141</td><td> -90</td><td>-183</td><td> -95</td><td>52</td><td>walking   </td></tr>\n",
       "\t<tr><th scope=row>37849</th><td> -1</td><td>67</td><td> -66</td><td> -24</td><td> -29</td><td> -25</td><td> 62</td><td> 55</td><td>-102</td><td> -94</td><td>-126</td><td>67</td><td>sitting   </td></tr>\n",
       "</tbody>\n",
       "</table>\n"
      ],
      "text/latex": [
       "A data.frame: 6 × 13\n",
       "\\begin{tabular}{r|lllllllllllll}\n",
       "  & x1 & y1 & z1 & x2 & y2 & z2 & x3 & y3 & z3 & x4 & y4 & z4 & class\\\\\n",
       "  & <int> & <int> & <int> & <int> & <int> & <int> & <int> & <int> & <int> & <int> & <int> & <dbl> & <fct>\\\\\n",
       "\\hline\n",
       "\t25721 & -24 & 41 &  -25 & -252 & -328 & -362 &  26 & 106 &  -88 & -150 &  -95 & 73 & sitting   \\\\\n",
       "\t145066 & -10 & 83 & -101 & -492 & -516 & -614 &  36 &  65 & -103 & -172 &  -87 & 72 & walking   \\\\\n",
       "\t110991 & -13 & 97 &  -86 &   11 &   83 & -121 &  40 &  98 &  -66 & -180 &  -87 & 55 & standingup\\\\\n",
       "\t99440 &  -5 & 97 & -123 &    0 &   90 & -139 &  39 & 116 &  -83 & -182 &  -81 & 53 & standing  \\\\\n",
       "\t164480 & -17 & 94 & -143 &  -15 &   76 &  -83 & -10 & 141 &  -90 & -183 &  -95 & 52 & walking   \\\\\n",
       "\t37849 &  -1 & 67 &  -66 &  -24 &  -29 &  -25 &  62 &  55 & -102 &  -94 & -126 & 67 & sitting   \\\\\n",
       "\\end{tabular}\n"
      ],
      "text/markdown": [
       "\n",
       "A data.frame: 6 × 13\n",
       "\n",
       "| <!--/--> | x1 &lt;int&gt; | y1 &lt;int&gt; | z1 &lt;int&gt; | x2 &lt;int&gt; | y2 &lt;int&gt; | z2 &lt;int&gt; | x3 &lt;int&gt; | y3 &lt;int&gt; | z3 &lt;int&gt; | x4 &lt;int&gt; | y4 &lt;int&gt; | z4 &lt;dbl&gt; | class &lt;fct&gt; |\n",
       "|---|---|---|---|---|---|---|---|---|---|---|---|---|---|\n",
       "| 25721 | -24 | 41 |  -25 | -252 | -328 | -362 |  26 | 106 |  -88 | -150 |  -95 | 73 | sitting    |\n",
       "| 145066 | -10 | 83 | -101 | -492 | -516 | -614 |  36 |  65 | -103 | -172 |  -87 | 72 | walking    |\n",
       "| 110991 | -13 | 97 |  -86 |   11 |   83 | -121 |  40 |  98 |  -66 | -180 |  -87 | 55 | standingup |\n",
       "| 99440 |  -5 | 97 | -123 |    0 |   90 | -139 |  39 | 116 |  -83 | -182 |  -81 | 53 | standing   |\n",
       "| 164480 | -17 | 94 | -143 |  -15 |   76 |  -83 | -10 | 141 |  -90 | -183 |  -95 | 52 | walking    |\n",
       "| 37849 |  -1 | 67 |  -66 |  -24 |  -29 |  -25 |  62 |  55 | -102 |  -94 | -126 | 67 | sitting    |\n",
       "\n"
      ],
      "text/plain": [
       "       x1  y1 z1   x2   y2   z2   x3  y3  z3   x4   y4   z4 class     \n",
       "25721  -24 41  -25 -252 -328 -362  26 106  -88 -150  -95 73 sitting   \n",
       "145066 -10 83 -101 -492 -516 -614  36  65 -103 -172  -87 72 walking   \n",
       "110991 -13 97  -86   11   83 -121  40  98  -66 -180  -87 55 standingup\n",
       "99440   -5 97 -123    0   90 -139  39 116  -83 -182  -81 53 standing  \n",
       "164480 -17 94 -143  -15   76  -83 -10 141  -90 -183  -95 52 walking   \n",
       "37849   -1 67  -66  -24  -29  -25  62  55 -102  -94 -126 67 sitting   "
      ]
     },
     "metadata": {},
     "output_type": "display_data"
    }
   ],
   "source": [
    "# Mostramos los datos con los que trabajaremos.\n",
    "head(filtered)"
   ]
  },
  {
   "cell_type": "markdown",
   "metadata": {},
   "source": [
    "En la tabla anterior se puede ver que tenemos las variables x1, y1, z1, ... x4, y4, z4. Cada conjunto (x, y, z) se corresponde con los datos de un acelerómetro ubicado en una extremidad de la persona. La última columna se corresponde con la actividad del registro."
   ]
  },
  {
   "cell_type": "markdown",
   "metadata": {},
   "source": [
    "# Esquema de evaluación\n",
    "\n",
    "Conocemos que existen distintos tipos de validación, cada uno con sus ventajas y desventajas. Sin embargo, para nuestro problema realizaremnos una división 80%/20% para entrenamiento/test. Esto nos permitirá realizar una validación externa para ver como de bueno es realmente el modelo ocn datos que no ha visto durante el procesod e entrenamiento."
   ]
  },
  {
   "cell_type": "code",
   "execution_count": 8,
   "metadata": {},
   "outputs": [],
   "source": [
    "training_percentage <- .8"
   ]
  },
  {
   "cell_type": "code",
   "execution_count": 9,
   "metadata": {},
   "outputs": [],
   "source": [
    "set.seed(uo)\n",
    "inTrain <- createDataPartition(\n",
    "    # indicamos la clase\n",
    "    y = filtered$class,\n",
    "    \n",
    "    # el porcentaje de instancias para entrenamiento\n",
    "    p = training_percentage,\n",
    "    \n",
    "    # controla el formato de salida\n",
    "    list = FALSE\n",
    ")\n",
    "\n",
    "# Definimos nuestras particiones de entrenamiento y validación.\n",
    "training <- filtered[ inTrain,]\n",
    "testing <- filtered[-inTrain,]"
   ]
  },
  {
   "cell_type": "markdown",
   "metadata": {},
   "source": [
    "A continuación, como tenemos un gran número de instancias (10.000) emplearemos el sistema de validación cruzada con valor de k 10."
   ]
  },
  {
   "cell_type": "code",
   "execution_count": 10,
   "metadata": {},
   "outputs": [],
   "source": [
    "crossValidation <- trainControl(method = \"cv\", number = 10)"
   ]
  },
  {
   "cell_type": "markdown",
   "metadata": {},
   "source": [
    "# Métrica de comparación de modelos\n",
    "\n",
    "A contianuación se muestra el número de datos de cada clase así como el porcentaje de datos de cada clase contenidos en el banco de datos."
   ]
  },
  {
   "cell_type": "code",
   "execution_count": 11,
   "metadata": {
    "scrolled": false
   },
   "outputs": [
    {
     "name": "stdout",
     "output_type": "stream",
     "text": [
      "Número de datos de cada clase: \n"
     ]
    },
    {
     "data": {
      "text/html": [
       "<dl class=dl-horizontal>\n",
       "\t<dt>sitting</dt>\n",
       "\t\t<dd>3048</dd>\n",
       "\t<dt>sittingdown</dt>\n",
       "\t\t<dd>749</dd>\n",
       "\t<dt>standing</dt>\n",
       "\t\t<dd>2915</dd>\n",
       "\t<dt>standingup</dt>\n",
       "\t\t<dd>738</dd>\n",
       "\t<dt>walking</dt>\n",
       "\t\t<dd>2550</dd>\n",
       "</dl>\n"
      ],
      "text/latex": [
       "\\begin{description*}\n",
       "\\item[sitting] 3048\n",
       "\\item[sittingdown] 749\n",
       "\\item[standing] 2915\n",
       "\\item[standingup] 738\n",
       "\\item[walking] 2550\n",
       "\\end{description*}\n"
      ],
      "text/markdown": [
       "sitting\n",
       ":   3048sittingdown\n",
       ":   749standing\n",
       ":   2915standingup\n",
       ":   738walking\n",
       ":   2550\n",
       "\n"
      ],
      "text/plain": [
       "    sitting sittingdown    standing  standingup     walking \n",
       "       3048         749        2915         738        2550 "
      ]
     },
     "metadata": {},
     "output_type": "display_data"
    },
    {
     "name": "stdout",
     "output_type": "stream",
     "text": [
      "\n",
      "Porcentaje de datos de cada clase: \n"
     ]
    },
    {
     "data": {
      "text/html": [
       "<dl class=dl-horizontal>\n",
       "\t<dt>sitting</dt>\n",
       "\t\t<dd>0.3048</dd>\n",
       "\t<dt>sittingdown</dt>\n",
       "\t\t<dd>0.0749</dd>\n",
       "\t<dt>standing</dt>\n",
       "\t\t<dd>0.2915</dd>\n",
       "\t<dt>standingup</dt>\n",
       "\t\t<dd>0.0738</dd>\n",
       "\t<dt>walking</dt>\n",
       "\t\t<dd>0.255</dd>\n",
       "</dl>\n"
      ],
      "text/latex": [
       "\\begin{description*}\n",
       "\\item[sitting] 0.3048\n",
       "\\item[sittingdown] 0.0749\n",
       "\\item[standing] 0.2915\n",
       "\\item[standingup] 0.0738\n",
       "\\item[walking] 0.255\n",
       "\\end{description*}\n"
      ],
      "text/markdown": [
       "sitting\n",
       ":   0.3048sittingdown\n",
       ":   0.0749standing\n",
       ":   0.2915standingup\n",
       ":   0.0738walking\n",
       ":   0.255\n",
       "\n"
      ],
      "text/plain": [
       "    sitting sittingdown    standing  standingup     walking \n",
       "     0.3048      0.0749      0.2915      0.0738      0.2550 "
      ]
     },
     "metadata": {},
     "output_type": "display_data"
    }
   ],
   "source": [
    "cat('Número de datos de cada clase: \\n')\n",
    "summary(filtered$class)\n",
    "cat('\\nPorcentaje de datos de cada clase: \\n')\n",
    "summary(filtered$class)/sum(summary(filtered$class))"
   ]
  },
  {
   "cell_type": "markdown",
   "metadata": {},
   "source": [
    "De los datos anteriores podemos obtener que las clases están desbalanceadas ya que por ejemplo `sitting` representa el 30% de los datos y `sittingdown` el 7%. Por tanto emplearemos la métrica kappa, que nos permite saber cómo de bueno es un clasificador en comparación con una predicción basada en la frecuencia de las clases. Además, dicha métrica tiene en cuenta también el valor del porcentaje de acierto."
   ]
  },
  {
   "cell_type": "markdown",
   "metadata": {},
   "source": [
    "# Generación de modelos"
   ]
  },
  {
   "cell_type": "code",
   "execution_count": 12,
   "metadata": {},
   "outputs": [],
   "source": [
    "# Creamos una función para ver los resultados de la validación interna\n",
    "internalValidation <- function(model) {\n",
    "  print(model)\n",
    "  print(model$results[rownames(model$bestTune),1:4])\n",
    "}"
   ]
  },
  {
   "cell_type": "code",
   "execution_count": 13,
   "metadata": {},
   "outputs": [],
   "source": [
    "# Creamos una función para ver los resultados de la validación externa\n",
    "externalValidation <- function(model, testingData = testing) {\n",
    "  print(confusionMatrix(predict(model,testingData),testingData$class))\n",
    "}"
   ]
  },
  {
   "cell_type": "markdown",
   "metadata": {},
   "source": [
    "## Árboles de decisión\n",
    "\n",
    "De acuerdo con la teoría, un árbol de decisión es un mecanismo en el que dado un conjunto de datos se fabrican diagramas de construcciones lógicas, muy similares a los sistemas de predicción basados en reglas, que sirven para representar y categorizar una serie de condiciones que ocurren de forma sucesiva, para la resolución de un problema. Por lo tanto, y teniendo en cuenta nuestros datos, parece un modelo que nos dará unos buenos resultados, sin embargo, vamos a contrastar esta hipótesis.\n",
    "\n",
    "Tanto en teroría como en prácticas vimos distintos modelos de árboles de decisión, a continuación implementaremos los modelos J48, rpart y rpart2 para comparar su precisión para el problema dado."
   ]
  },
  {
   "cell_type": "code",
   "execution_count": 14,
   "metadata": {},
   "outputs": [],
   "source": [
    "# Plantamos la semilla para obtener un valor constante tras cada ejecución.\n",
    "set.seed(uo)\n",
    "\n",
    "# Realizamos el entrenamiento de nuestro modelo con J48.\n",
    "c4.5Fit <- train(\n",
    "    class ~ .,\n",
    "    data = training,\n",
    "    method = \"J48\",\n",
    "    trControl = crossValidation,\n",
    "    tuneLength = 7,\n",
    "    metric = \"Kappa\"\n",
    ")"
   ]
  },
  {
   "cell_type": "code",
   "execution_count": 15,
   "metadata": {
    "scrolled": true
   },
   "outputs": [
    {
     "name": "stdout",
     "output_type": "stream",
     "text": [
      "C4.5-like Trees \n",
      "\n",
      "8002 samples\n",
      "  12 predictor\n",
      "   5 classes: 'sitting', 'sittingdown', 'standing', 'standingup', 'walking' \n",
      "\n",
      "No pre-processing\n",
      "Resampling: Cross-Validated (10 fold) \n",
      "Summary of sample sizes: 7202, 7201, 7202, 7202, 7202, 7202, ... \n",
      "Resampling results across tuning parameters:\n",
      "\n",
      "  C           M  Accuracy   Kappa    \n",
      "  0.01000000  1  0.9392670  0.9185082\n",
      "  0.01000000  2  0.9392660  0.9184999\n",
      "  0.01000000  3  0.9372659  0.9158047\n",
      "  0.01000000  4  0.9353918  0.9132995\n",
      "  0.01000000  5  0.9350171  0.9127954\n",
      "  0.01000000  6  0.9328938  0.9099341\n",
      "  0.01000000  7  0.9306432  0.9068584\n",
      "  0.09166667  1  0.9411417  0.9210545\n",
      "  0.09166667  2  0.9398906  0.9193559\n",
      "  0.09166667  3  0.9385145  0.9174796\n",
      "  0.09166667  4  0.9372654  0.9158107\n",
      "  0.09166667  5  0.9363915  0.9146582\n",
      "  0.09166667  6  0.9336434  0.9109447\n",
      "  0.09166667  7  0.9317677  0.9083989\n",
      "  0.17333333  1  0.9408915  0.9207371\n",
      "  0.17333333  2  0.9398903  0.9193995\n",
      "  0.17333333  3  0.9381404  0.9170223\n",
      "  0.17333333  4  0.9373913  0.9160020\n",
      "  0.17333333  5  0.9362667  0.9144922\n",
      "  0.17333333  6  0.9340177  0.9114509\n",
      "  0.17333333  7  0.9321418  0.9088961\n",
      "  0.25500000  1  0.9416418  0.9217678\n",
      "  0.25500000  2  0.9408903  0.9207642\n",
      "  0.25500000  3  0.9383903  0.9173725\n",
      "  0.25500000  4  0.9373912  0.9160227\n",
      "  0.25500000  5  0.9350182  0.9128245\n",
      "  0.25500000  6  0.9331438  0.9102898\n",
      "  0.25500000  7  0.9313924  0.9079027\n",
      "  0.33666667  1  0.9418910  0.9221043\n",
      "  0.33666667  2  0.9411398  0.9211047\n",
      "  0.33666667  3  0.9385159  0.9175449\n",
      "  0.33666667  4  0.9373918  0.9160293\n",
      "  0.33666667  5  0.9360174  0.9141766\n",
      "  0.33666667  6  0.9333948  0.9106239\n",
      "  0.33666667  7  0.9317684  0.9084142\n",
      "  0.41833333  1  0.9415167  0.9216053\n",
      "  0.41833333  2  0.9411398  0.9211047\n",
      "  0.41833333  3  0.9385159  0.9175449\n",
      "  0.41833333  4  0.9373918  0.9160293\n",
      "  0.41833333  5  0.9360174  0.9141766\n",
      "  0.41833333  6  0.9335196  0.9107945\n",
      "  0.41833333  7  0.9320182  0.9087526\n",
      "  0.50000000  1  0.9416418  0.9217714\n",
      "  0.50000000  2  0.9410149  0.9209405\n",
      "  0.50000000  3  0.9385159  0.9175444\n",
      "  0.50000000  4  0.9373918  0.9160293\n",
      "  0.50000000  5  0.9362676  0.9145199\n",
      "  0.50000000  6  0.9333948  0.9106289\n",
      "  0.50000000  7  0.9321432  0.9089205\n",
      "\n",
      "Kappa was used to select the optimal model using the largest value.\n",
      "The final values used for the model were C = 0.3366667 and M = 1.\n",
      "           C M Accuracy     Kappa\n",
      "29 0.3366667 1 0.941891 0.9221043\n"
     ]
    }
   ],
   "source": [
    "# Resultados validación interna\n",
    "internalValidation(c4.5Fit)"
   ]
  },
  {
   "cell_type": "markdown",
   "metadata": {},
   "source": [
    "El valor máximo de C es 0.3366667 y podemos observar que el mejor resultado se obtiene con M = 1, a partir de ahí a mayor M peores resultados, por lo que no tiene sentido seguir explorando árboles más complejos. Por tanto los valores C = 0.09166667 y M = 2 son los mejores posebles."
   ]
  },
  {
   "cell_type": "code",
   "execution_count": 16,
   "metadata": {
    "scrolled": true
   },
   "outputs": [
    {
     "name": "stdout",
     "output_type": "stream",
     "text": [
      "Confusion Matrix and Statistics\n",
      "\n",
      "             Reference\n",
      "Prediction    sitting sittingdown standing standingup walking\n",
      "  sitting         606           3        0          4       0\n",
      "  sittingdown       1         130        4         13       4\n",
      "  standing          0           4      563          9      23\n",
      "  standingup        2           6        5        111       8\n",
      "  walking           0           6       11         10     475\n",
      "\n",
      "Overall Statistics\n",
      "                                          \n",
      "               Accuracy : 0.9434          \n",
      "                 95% CI : (0.9324, 0.9532)\n",
      "    No Information Rate : 0.3048          \n",
      "    P-Value [Acc > NIR] : < 2.2e-16       \n",
      "                                          \n",
      "                  Kappa : 0.924           \n",
      "                                          \n",
      " Mcnemar's Test P-Value : NA              \n",
      "\n",
      "Statistics by Class:\n",
      "\n",
      "                     Class: sitting Class: sittingdown Class: standing\n",
      "Sensitivity                  0.9951            0.87248          0.9657\n",
      "Specificity                  0.9950            0.98810          0.9746\n",
      "Pos Pred Value               0.9886            0.85526          0.9399\n",
      "Neg Pred Value               0.9978            0.98971          0.9857\n",
      "Prevalence                   0.3048            0.07457          0.2918\n",
      "Detection Rate               0.3033            0.06507          0.2818\n",
      "Detection Prevalence         0.3068            0.07608          0.2998\n",
      "Balanced Accuracy            0.9950            0.93029          0.9701\n",
      "                     Class: standingup Class: walking\n",
      "Sensitivity                    0.75510         0.9314\n",
      "Specificity                    0.98865         0.9819\n",
      "Pos Pred Value                 0.84091         0.9462\n",
      "Neg Pred Value                 0.98071         0.9766\n",
      "Prevalence                     0.07357         0.2553\n",
      "Detection Rate                 0.05556         0.2377\n",
      "Detection Prevalence           0.06607         0.2513\n",
      "Balanced Accuracy              0.87188         0.9566\n"
     ]
    }
   ],
   "source": [
    "# Resultados validación externa\n",
    "externalValidation(c4.5Fit)"
   ]
  },
  {
   "cell_type": "markdown",
   "metadata": {},
   "source": [
    "**Resultados:**\n",
    "\n",
    "Validación interna (Acc. = 0.941891 / Kappa = 0.9221043)\n",
    "\n",
    "Validación externa (Acc. = 0.9434 / Kappa = 0.924)"
   ]
  },
  {
   "cell_type": "markdown",
   "metadata": {},
   "source": [
    "## CART\n",
    "\n",
    "Vamos a probar ahora con un árbol de decisión que emplea el algoritmo CART (rpart y rpart2)."
   ]
  },
  {
   "cell_type": "markdown",
   "metadata": {},
   "source": [
    "### Rpart\n",
    "\n",
    "Primero probaremos con la versión rpart, que utiliza el parámetro cp (solo se introducirá un nodo en el árbol cuando permita que se reduzca el error en al menos el valor de cp)."
   ]
  },
  {
   "cell_type": "code",
   "execution_count": 17,
   "metadata": {},
   "outputs": [],
   "source": [
    "# Plantamos la semilla para obtener un valor constante tras cada ejecución.\n",
    "set.seed(uo)\n",
    "\n",
    "# Realizamos el entrenamiento de nuestro modelo con rpart.\n",
    "rpartFit <- train(\n",
    "    class ~ .,\n",
    "    data = training,\n",
    "    method = \"rpart\",\n",
    "    trControl = crossValidation,\n",
    "    tuneLength = 10,\n",
    "    metric = \"Kappa\"\n",
    ")"
   ]
  },
  {
   "cell_type": "code",
   "execution_count": 18,
   "metadata": {
    "scrolled": true
   },
   "outputs": [
    {
     "name": "stdout",
     "output_type": "stream",
     "text": [
      "CART \n",
      "\n",
      "8002 samples\n",
      "  12 predictor\n",
      "   5 classes: 'sitting', 'sittingdown', 'standing', 'standingup', 'walking' \n",
      "\n",
      "No pre-processing\n",
      "Resampling: Cross-Validated (10 fold) \n",
      "Summary of sample sizes: 7202, 7201, 7202, 7202, 7202, 7202, ... \n",
      "Resampling results across tuning parameters:\n",
      "\n",
      "  cp           Accuracy   Kappa    \n",
      "  0.008268920  0.8567832  0.8064766\n",
      "  0.009077836  0.8496588  0.7956909\n",
      "  0.012583139  0.8352895  0.7761521\n",
      "  0.015279525  0.8214208  0.7565420\n",
      "  0.018874708  0.8064200  0.7359349\n",
      "  0.031278087  0.7891728  0.7120112\n",
      "  0.048804602  0.7669272  0.6829521\n",
      "  0.057702678  0.6958227  0.5740171\n",
      "  0.172209240  0.6011079  0.4351829\n",
      "  0.360057523  0.4021739  0.1437658\n",
      "\n",
      "Kappa was used to select the optimal model using the largest value.\n",
      "The final value used for the model was cp = 0.00826892.\n",
      "          cp  Accuracy     Kappa AccuracySD\n",
      "1 0.00826892 0.8567832 0.8064766 0.01106354\n"
     ]
    }
   ],
   "source": [
    "# Resultados validación interna\n",
    "internalValidation(rpartFit)"
   ]
  },
  {
   "cell_type": "markdown",
   "metadata": {},
   "source": [
    "De la validación interna se puede deducir que a medida que incrementámos el parámetro cp el resultado de la precisión empeora."
   ]
  },
  {
   "cell_type": "code",
   "execution_count": 19,
   "metadata": {
    "scrolled": true
   },
   "outputs": [
    {
     "name": "stdout",
     "output_type": "stream",
     "text": [
      "Confusion Matrix and Statistics\n",
      "\n",
      "             Reference\n",
      "Prediction    sitting sittingdown standing standingup walking\n",
      "  sitting         601          20       12          9       4\n",
      "  sittingdown       0          81        2         34       9\n",
      "  standing          0          21      554         49      56\n",
      "  standingup        3          14        1         47      16\n",
      "  walking           5          13       14          8     425\n",
      "\n",
      "Overall Statistics\n",
      "                                        \n",
      "               Accuracy : 0.8549        \n",
      "                 95% CI : (0.8386, 0.87)\n",
      "    No Information Rate : 0.3048        \n",
      "    P-Value [Acc > NIR] : < 2.2e-16     \n",
      "                                        \n",
      "                  Kappa : 0.8025        \n",
      "                                        \n",
      " Mcnemar's Test P-Value : < 2.2e-16     \n",
      "\n",
      "Statistics by Class:\n",
      "\n",
      "                     Class: sitting Class: sittingdown Class: standing\n",
      "Sensitivity                  0.9869            0.54362          0.9503\n",
      "Specificity                  0.9676            0.97566          0.9110\n",
      "Pos Pred Value               0.9303            0.64286          0.8147\n",
      "Neg Pred Value               0.9941            0.96368          0.9780\n",
      "Prevalence                   0.3048            0.07457          0.2918\n",
      "Detection Rate               0.3008            0.04054          0.2773\n",
      "Detection Prevalence         0.3233            0.06306          0.3403\n",
      "Balanced Accuracy            0.9772            0.75964          0.9306\n",
      "                     Class: standingup Class: walking\n",
      "Sensitivity                    0.31973         0.8333\n",
      "Specificity                    0.98163         0.9731\n",
      "Pos Pred Value                 0.58025         0.9140\n",
      "Neg Pred Value                 0.94784         0.9446\n",
      "Prevalence                     0.07357         0.2553\n",
      "Detection Rate                 0.02352         0.2127\n",
      "Detection Prevalence           0.04054         0.2327\n",
      "Balanced Accuracy              0.65068         0.9032\n"
     ]
    }
   ],
   "source": [
    "# Resultados validación externa\n",
    "externalValidation(rpartFit)"
   ]
  },
  {
   "cell_type": "markdown",
   "metadata": {},
   "source": [
    "**Resultados:**\n",
    "\n",
    "Validación interna (Acc. = 0.8567832 / Kappa = 0.8064766)\n",
    "\n",
    "Validación externa (Acc. = 0.8549 / Kappa = 0.8025)\n",
    "\n",
    "Se puede observar que tanto en el caso de la validación interna como externa los datos obtenidos con el modelo C4.5 son mejores."
   ]
  },
  {
   "cell_type": "markdown",
   "metadata": {},
   "source": [
    "### Rpart2\n",
    "\n",
    "Ahora probamos con la versión rpart2 que emplea el parámetro maxdepth para controlar la profundidad del árbol. Vamos a modeificar el tunelenght hasta 21 para poder cubrir todos los posibles valores."
   ]
  },
  {
   "cell_type": "code",
   "execution_count": 20,
   "metadata": {},
   "outputs": [],
   "source": [
    "# Plantamos la semilla para obtener un valor constante tras cada ejecución.\n",
    "set.seed(uo)\n",
    "\n",
    "# Realizamos el entrenamiento de nuestro modelo con rpart2.\n",
    "rpart2Fit <- train(\n",
    "    class ~ .,\n",
    "    data = training,\n",
    "    method = \"rpart2\",\n",
    "    trControl = crossValidation,\n",
    "    tuneLength = 21,\n",
    "    metric = \"Kappa\"\n",
    ")"
   ]
  },
  {
   "cell_type": "code",
   "execution_count": 21,
   "metadata": {
    "scrolled": true
   },
   "outputs": [
    {
     "name": "stdout",
     "output_type": "stream",
     "text": [
      "CART \n",
      "\n",
      "8002 samples\n",
      "  12 predictor\n",
      "   5 classes: 'sitting', 'sittingdown', 'standing', 'standingup', 'walking' \n",
      "\n",
      "No pre-processing\n",
      "Resampling: Cross-Validated (10 fold) \n",
      "Summary of sample sizes: 7202, 7201, 7202, 7202, 7202, 7202, ... \n",
      "Resampling results across tuning parameters:\n",
      "\n",
      "  maxdepth  Accuracy   Kappa    \n",
      "   1        0.5551079  0.3687290\n",
      "   2        0.6739527  0.5403200\n",
      "   3        0.7149438  0.6027996\n",
      "   5        0.7804272  0.6997678\n",
      "   6        0.8021728  0.7300780\n",
      "   7        0.8154195  0.7483567\n",
      "   8        0.8256653  0.7623293\n",
      "  10        0.8476592  0.7929326\n",
      "  12        0.8480347  0.7934325\n",
      "  14        0.8480347  0.7934325\n",
      "  16        0.8480347  0.7934325\n",
      "  17        0.8480347  0.7934325\n",
      "  18        0.8480347  0.7934325\n",
      "  19        0.8480347  0.7934325\n",
      "  20        0.8480347  0.7934325\n",
      "  22        0.8480347  0.7934325\n",
      "  23        0.8480347  0.7934325\n",
      "  24        0.8480347  0.7934325\n",
      "  26        0.8480347  0.7934325\n",
      "  27        0.8480347  0.7934325\n",
      "  28        0.8480347  0.7934325\n",
      "\n",
      "Kappa was used to select the optimal model using the largest value.\n",
      "The final value used for the model was maxdepth = 12.\n",
      "  maxdepth  Accuracy     Kappa AccuracySD\n",
      "9       12 0.8480347 0.7934325 0.01017347\n"
     ]
    }
   ],
   "source": [
    "# Resultados validación interna\n",
    "internalValidation(rpart2Fit)"
   ]
  },
  {
   "cell_type": "markdown",
   "metadata": {},
   "source": [
    "Podemos ver que a apartir de una profundidad de 12 el valor de la precisión y de kappa se mantiene constante. Por lo tanto se seleccionará la profundidad de 11 como óptima ya que una más compleja que ofrezca el mismo resultado se considera como una peor opción."
   ]
  },
  {
   "cell_type": "code",
   "execution_count": 22,
   "metadata": {
    "scrolled": true
   },
   "outputs": [
    {
     "name": "stdout",
     "output_type": "stream",
     "text": [
      "Confusion Matrix and Statistics\n",
      "\n",
      "             Reference\n",
      "Prediction    sitting sittingdown standing standingup walking\n",
      "  sitting         601          20       12          9       4\n",
      "  sittingdown       0          81        2         34       9\n",
      "  standing          0          21      527         49      49\n",
      "  standingup        3          14        1         47      16\n",
      "  walking           5          13       41          8     432\n",
      "\n",
      "Overall Statistics\n",
      "                                          \n",
      "               Accuracy : 0.8448          \n",
      "                 95% CI : (0.8282, 0.8605)\n",
      "    No Information Rate : 0.3048          \n",
      "    P-Value [Acc > NIR] : < 2.2e-16       \n",
      "                                          \n",
      "                  Kappa : 0.7891          \n",
      "                                          \n",
      " Mcnemar's Test P-Value : < 2.2e-16       \n",
      "\n",
      "Statistics by Class:\n",
      "\n",
      "                     Class: sitting Class: sittingdown Class: standing\n",
      "Sensitivity                  0.9869            0.54362          0.9039\n",
      "Specificity                  0.9676            0.97566          0.9159\n",
      "Pos Pred Value               0.9303            0.64286          0.8158\n",
      "Neg Pred Value               0.9941            0.96368          0.9586\n",
      "Prevalence                   0.3048            0.07457          0.2918\n",
      "Detection Rate               0.3008            0.04054          0.2638\n",
      "Detection Prevalence         0.3233            0.06306          0.3233\n",
      "Balanced Accuracy            0.9772            0.75964          0.9099\n",
      "                     Class: standingup Class: walking\n",
      "Sensitivity                    0.31973         0.8471\n",
      "Specificity                    0.98163         0.9550\n",
      "Pos Pred Value                 0.58025         0.8657\n",
      "Neg Pred Value                 0.94784         0.9480\n",
      "Prevalence                     0.07357         0.2553\n",
      "Detection Rate                 0.02352         0.2162\n",
      "Detection Prevalence           0.04054         0.2497\n",
      "Balanced Accuracy              0.65068         0.9010\n"
     ]
    }
   ],
   "source": [
    "# Resultados validación externa\n",
    "externalValidation(rpart2Fit)"
   ]
  },
  {
   "cell_type": "markdown",
   "metadata": {},
   "source": [
    "**Resultados:**\n",
    "\n",
    "Validación interna (Acc. = 0.0.8480347 / Kappa = 0.7934325)\n",
    "\n",
    "Validación externa (Acc. = 0.8448 / Kappa = 0.7891)\n",
    "\n",
    "Se puede observar que tanto en el caso de la validación interna como externa los datos obtenidos con el modelo C4.5 son mejores. Sin embargo pese a que en la validación interna el árbol rpar2 sea peor que el árbol rpart en la validación externa ambos modelos tienen un rendimiento idéntico."
   ]
  },
  {
   "cell_type": "markdown",
   "metadata": {},
   "source": [
    "### Conclusión árboles de decisión\n",
    "\n",
    "Con los resultados obtenidos podemos decir que el mejor árbol es el C4.5 ya que con nuestro esquema de validación es el que mejor tasa de acierto tiene. Por tanto será el modelo seleccionado de árboles de decisión."
   ]
  },
  {
   "cell_type": "markdown",
   "metadata": {},
   "source": [
    "## Vecinos más cercanos (kNN)\n",
    "\n",
    "Otro de los paradigmas de clasificación vistos durante la asginatura es el de vecinos más cercanos o knn por sus siglas en inglés. Este paradigma no tiene un modelo, lo que hace es comparar el ejemplo con los datos a predecir y a través de distancias a k vecinos más cercanos precedir la clase."
   ]
  },
  {
   "cell_type": "code",
   "execution_count": 23,
   "metadata": {},
   "outputs": [],
   "source": [
    "# Plantamos la semilla para obtener un valor constante tras cada ejecución.\n",
    "set.seed(uo)\n",
    "\n",
    "# Realizamos el entrenamiento de nuestro modelo con knn.\n",
    "knnFit <- train(\n",
    "  class ~ .,\n",
    "  data = training,\n",
    "  method = \"knn\",\n",
    "  trControl = crossValidation,\n",
    "  tuneLength = 10, # k. Número de vecinos a comprobar.\n",
    "  metric = \"Kappa\"\n",
    ")"
   ]
  },
  {
   "cell_type": "code",
   "execution_count": 24,
   "metadata": {
    "scrolled": true
   },
   "outputs": [
    {
     "name": "stdout",
     "output_type": "stream",
     "text": [
      "k-Nearest Neighbors \n",
      "\n",
      "8002 samples\n",
      "  12 predictor\n",
      "   5 classes: 'sitting', 'sittingdown', 'standing', 'standingup', 'walking' \n",
      "\n",
      "No pre-processing\n",
      "Resampling: Cross-Validated (10 fold) \n",
      "Summary of sample sizes: 7202, 7201, 7202, 7202, 7202, 7202, ... \n",
      "Resampling results across tuning parameters:\n",
      "\n",
      "  k   Accuracy   Kappa    \n",
      "   5  0.9690072  0.9584312\n",
      "   7  0.9655076  0.9537173\n",
      "   9  0.9625084  0.9496858\n",
      "  11  0.9568850  0.9421188\n",
      "  13  0.9520121  0.9355667\n",
      "  15  0.9495134  0.9321781\n",
      "  17  0.9457637  0.9271268\n",
      "  19  0.9411423  0.9209002\n",
      "  21  0.9372688  0.9156601\n",
      "  23  0.9331438  0.9101012\n",
      "\n",
      "Kappa was used to select the optimal model using the largest value.\n",
      "The final value used for the model was k = 5.\n",
      "  k  Accuracy     Kappa  AccuracySD\n",
      "1 5 0.9690072 0.9584312 0.002350092\n"
     ]
    }
   ],
   "source": [
    "# Resultados validación interna\n",
    "internalValidation(knnFit)"
   ]
  },
  {
   "cell_type": "markdown",
   "metadata": {},
   "source": [
    "Tras realizar la validación interna se ve que los resultados empeoran a medida que se emplean más vecinos para clasificar. Por tanto se usará k=5 que es el que mejor valor de kappa nos da."
   ]
  },
  {
   "cell_type": "code",
   "execution_count": 25,
   "metadata": {
    "scrolled": true
   },
   "outputs": [
    {
     "name": "stdout",
     "output_type": "stream",
     "text": [
      "Confusion Matrix and Statistics\n",
      "\n",
      "             Reference\n",
      "Prediction    sitting sittingdown standing standingup walking\n",
      "  sitting         606           0        0          0       0\n",
      "  sittingdown       0         140        0          6       4\n",
      "  standing          0           4      582          2      23\n",
      "  standingup        3           4        1        138       0\n",
      "  walking           0           1        0          1     483\n",
      "\n",
      "Overall Statistics\n",
      "                                          \n",
      "               Accuracy : 0.9755          \n",
      "                 95% CI : (0.9677, 0.9818)\n",
      "    No Information Rate : 0.3048          \n",
      "    P-Value [Acc > NIR] : < 2.2e-16       \n",
      "                                          \n",
      "                  Kappa : 0.9671          \n",
      "                                          \n",
      " Mcnemar's Test P-Value : NA              \n",
      "\n",
      "Statistics by Class:\n",
      "\n",
      "                     Class: sitting Class: sittingdown Class: standing\n",
      "Sensitivity                  0.9951            0.93960          0.9983\n",
      "Specificity                  1.0000            0.99459          0.9795\n",
      "Pos Pred Value               1.0000            0.93333          0.9525\n",
      "Neg Pred Value               0.9978            0.99513          0.9993\n",
      "Prevalence                   0.3048            0.07457          0.2918\n",
      "Detection Rate               0.3033            0.07007          0.2913\n",
      "Detection Prevalence         0.3033            0.07508          0.3058\n",
      "Balanced Accuracy            0.9975            0.96709          0.9889\n",
      "                     Class: standingup Class: walking\n",
      "Sensitivity                    0.93878         0.9471\n",
      "Specificity                    0.99568         0.9987\n",
      "Pos Pred Value                 0.94521         0.9959\n",
      "Neg Pred Value                 0.99514         0.9822\n",
      "Prevalence                     0.07357         0.2553\n",
      "Detection Rate                 0.06907         0.2417\n",
      "Detection Prevalence           0.07307         0.2427\n",
      "Balanced Accuracy              0.96723         0.9729\n"
     ]
    }
   ],
   "source": [
    "# Resultados validación externa\n",
    "externalValidation(knnFit)"
   ]
  },
  {
   "cell_type": "markdown",
   "metadata": {},
   "source": [
    "**Resultados:**\n",
    "\n",
    "Validación interna (Acc. = 0.9690072 / Kappa = 0.9584312)\n",
    "\n",
    "Validación externa (Acc. = 0.9745 / Kappa = 0.9658)\n",
    "\n",
    "En este modelo puede verse que los resultados con la validación externa superan, muy ligeramente, a los resultados obtenidos durante el aprendizaje."
   ]
  },
  {
   "cell_type": "markdown",
   "metadata": {},
   "source": [
    "## Redes neuronales\n",
    "\n",
    "Este es un método de clasificación no paramétrico, que estima el valor de la función de densidad de probabilidad o directamente la probabilidad a posteriori de que un elemento x pertenezca a la clase C a partir de la información proporcionada por el conjunto de prototipos. En el proceso de aprendizaje no se hace ninguna suposición acerca de la distribución de las variables predictoras."
   ]
  },
  {
   "cell_type": "code",
   "execution_count": 26,
   "metadata": {},
   "outputs": [],
   "source": [
    "plotNNErrorEvolution <- function(nnModel){\n",
    "  ggplot() + geom_line(aes(x=1:length(nnModel$finalModel$IterativeFitError), \n",
    "                           y=nnModel$finalModel$IterativeFitError)) +\n",
    "  xlab(\"Iteraciones\") + ylab(\"Error\") \n",
    "}"
   ]
  },
  {
   "cell_type": "markdown",
   "metadata": {},
   "source": [
    "### 1 capa oculta"
   ]
  },
  {
   "cell_type": "code",
   "execution_count": 27,
   "metadata": {},
   "outputs": [],
   "source": [
    "# Plantamos la semilla para obtener un valor constante tras cada ejecución.\n",
    "set.seed(uo)\n",
    "\n",
    "# Realizamos el entrenamiento de nuestro modelo\n",
    "nn1LFit <- train(\n",
    "    class ~ .,\n",
    "    data = training,\n",
    "    method = \"mlp\",\n",
    "    trControl = crossValidation,\n",
    "    metric = \"Kappa\",\n",
    "    preProcess=c(\"center\",\"scale\"),\n",
    "    tuneGrid = data.frame(size=seq(9,30,3))\n",
    ")\n",
    "\n",
    "nneurons1L <- nn1LFit$results[rownames(nn1LFit$bestTune),1]"
   ]
  },
  {
   "cell_type": "code",
   "execution_count": 28,
   "metadata": {
    "scrolled": true
   },
   "outputs": [
    {
     "name": "stdout",
     "output_type": "stream",
     "text": [
      "Multi-Layer Perceptron \n",
      "\n",
      "8002 samples\n",
      "  12 predictor\n",
      "   5 classes: 'sitting', 'sittingdown', 'standing', 'standingup', 'walking' \n",
      "\n",
      "Pre-processing: centered (12), scaled (12) \n",
      "Resampling: Cross-Validated (10 fold) \n",
      "Summary of sample sizes: 7202, 7201, 7202, 7202, 7202, 7202, ... \n",
      "Resampling results across tuning parameters:\n",
      "\n",
      "  size  Accuracy   Kappa    \n",
      "   9    0.9241432  0.8980070\n",
      "  12    0.9327642  0.9097391\n",
      "  15    0.9395176  0.9189291\n",
      "  18    0.9455103  0.9269642\n",
      "  21    0.9463903  0.9281958\n",
      "  24    0.9586346  0.9445660\n",
      "  27    0.9558851  0.9408872\n",
      "  30    0.9565112  0.9417068\n",
      "\n",
      "Kappa was used to select the optimal model using the largest value.\n",
      "The final value used for the model was size = 24.\n",
      "  size  Accuracy    Kappa  AccuracySD\n",
      "6   24 0.9586346 0.944566 0.007605064\n"
     ]
    }
   ],
   "source": [
    "# Resultados validación interna\n",
    "internalValidation(nn1LFit)"
   ]
  },
  {
   "cell_type": "markdown",
   "metadata": {},
   "source": [
    "Con el entrenamiento simple que se ha realizado ya se obtiene un resultado decente. A demás se ve que el abanico de datos proporcionados para el tamaño de la red nos muestran que a partir de 24 neuronas los resultados empeoran."
   ]
  },
  {
   "cell_type": "code",
   "execution_count": 29,
   "metadata": {
    "scrolled": true
   },
   "outputs": [
    {
     "name": "stdout",
     "output_type": "stream",
     "text": [
      "Confusion Matrix and Statistics\n",
      "\n",
      "             Reference\n",
      "Prediction    sitting sittingdown standing standingup walking\n",
      "  sitting         607           1        0          0       0\n",
      "  sittingdown       2         134        1          5       3\n",
      "  standing          0           5      548          8      17\n",
      "  standingup        0           5        6        128       5\n",
      "  walking           0           4       28          6     485\n",
      "\n",
      "Overall Statistics\n",
      "                                          \n",
      "               Accuracy : 0.952           \n",
      "                 95% CI : (0.9416, 0.9609)\n",
      "    No Information Rate : 0.3048          \n",
      "    P-Value [Acc > NIR] : < 2.2e-16       \n",
      "                                          \n",
      "                  Kappa : 0.9355          \n",
      "                                          \n",
      " Mcnemar's Test P-Value : NA              \n",
      "\n",
      "Statistics by Class:\n",
      "\n",
      "                     Class: sitting Class: sittingdown Class: standing\n",
      "Sensitivity                  0.9967            0.89933          0.9400\n",
      "Specificity                  0.9993            0.99405          0.9788\n",
      "Pos Pred Value               0.9984            0.92414          0.9481\n",
      "Neg Pred Value               0.9986            0.99191          0.9754\n",
      "Prevalence                   0.3048            0.07457          0.2918\n",
      "Detection Rate               0.3038            0.06707          0.2743\n",
      "Detection Prevalence         0.3043            0.07257          0.2893\n",
      "Balanced Accuracy            0.9980            0.94669          0.9594\n",
      "                     Class: standingup Class: walking\n",
      "Sensitivity                    0.87075         0.9510\n",
      "Specificity                    0.99136         0.9745\n",
      "Pos Pred Value                 0.88889         0.9273\n",
      "Neg Pred Value                 0.98975         0.9831\n",
      "Prevalence                     0.07357         0.2553\n",
      "Detection Rate                 0.06406         0.2427\n",
      "Detection Prevalence           0.07207         0.2618\n",
      "Balanced Accuracy              0.93105         0.9627\n"
     ]
    },
    {
     "data": {
      "image/png": "[encoded data removed]",
      "text/plain": [
       "plot without title"
      ]
     },
     "metadata": {
      "image/png": {
       "height": 600,
       "width": 900
      },
      "text/plain": {
       "height": 600,
       "width": 900
      }
     },
     "output_type": "display_data"
    }
   ],
   "source": [
    "externalValidation(nn1LFit)\n",
    "\n",
    "# Dibujamos la evolución del error a lo largo de las iteraciones de la red\n",
    "plotNNErrorEvolution(nn1LFit)"
   ]
  },
  {
   "cell_type": "markdown",
   "metadata": {},
   "source": [
    "La validación externa nos indica que el entrenamiento es satisfactorio ya que si bien disminuye el valor de kappa, la desmejora es muy reducida.\n",
    "\n",
    "Como vemos, la curva de entrenamiento es más o menos aceptable ya que no encontramos grandes picos en el error. Sin embargo si observamos que en la iteración número 100 que es donde detenemos nuestro entrenamiento el error aún es descendente. Esto significa que probablemente si continuamos entrenando durante más de 100 iteraciones consigamos unos resultados de desempeño de la red mayores."
   ]
  },
  {
   "cell_type": "code",
   "execution_count": 30,
   "metadata": {},
   "outputs": [],
   "source": [
    "# Plantamos la semilla para obtener un valor constante tras cada ejecución.\n",
    "set.seed(uo)\n",
    "\n",
    "# Realizamos el entrenamiento de nuestro modelo\n",
    "nn1LFit2_maxit300 <- train(\n",
    "    class ~ .,\n",
    "    data = training,\n",
    "    method = \"mlp\",\n",
    "    trControl = crossValidation,\n",
    "    metric = \"Kappa\",\n",
    "    preProcess=c(\"center\",\"scale\"),\n",
    "    tuneGrid = data.frame(size=seq(9,30,3)),\n",
    "    maxit=300\n",
    ")"
   ]
  },
  {
   "cell_type": "code",
   "execution_count": 31,
   "metadata": {
    "scrolled": true
   },
   "outputs": [
    {
     "name": "stdout",
     "output_type": "stream",
     "text": [
      "Multi-Layer Perceptron \n",
      "\n",
      "8002 samples\n",
      "  12 predictor\n",
      "   5 classes: 'sitting', 'sittingdown', 'standing', 'standingup', 'walking' \n",
      "\n",
      "Pre-processing: centered (12), scaled (12) \n",
      "Resampling: Cross-Validated (10 fold) \n",
      "Summary of sample sizes: 7202, 7201, 7202, 7202, 7202, 7202, ... \n",
      "Resampling results across tuning parameters:\n",
      "\n",
      "  size  Accuracy   Kappa    \n",
      "   9    0.9260179  0.9006645\n",
      "  12    0.9320137  0.9087648\n",
      "  15    0.9426446  0.9231113\n",
      "  18    0.9512579  0.9346417\n",
      "  21    0.9483912  0.9308993\n",
      "  24    0.9598839  0.9462273\n",
      "  27    0.9561337  0.9412305\n",
      "  30    0.9571336  0.9425649\n",
      "\n",
      "Kappa was used to select the optimal model using the largest value.\n",
      "The final value used for the model was size = 24.\n",
      "  size  Accuracy     Kappa  AccuracySD\n",
      "6   24 0.9598839 0.9462273 0.008284833\n"
     ]
    }
   ],
   "source": [
    "# Resultados validación interna\n",
    "internalValidation(nn1LFit2_maxit300)"
   ]
  },
  {
   "cell_type": "code",
   "execution_count": 32,
   "metadata": {
    "scrolled": true
   },
   "outputs": [
    {
     "name": "stdout",
     "output_type": "stream",
     "text": [
      "Confusion Matrix and Statistics\n",
      "\n",
      "             Reference\n",
      "Prediction    sitting sittingdown standing standingup walking\n",
      "  sitting         606           1        0          0       0\n",
      "  sittingdown       1         134        0          6       2\n",
      "  standing          0           3      549          9      15\n",
      "  standingup        2           6        4        127       6\n",
      "  walking           0           5       30          5     487\n",
      "\n",
      "Overall Statistics\n",
      "                                          \n",
      "               Accuracy : 0.9525          \n",
      "                 95% CI : (0.9422, 0.9614)\n",
      "    No Information Rate : 0.3048          \n",
      "    P-Value [Acc > NIR] : < 2.2e-16       \n",
      "                                          \n",
      "                  Kappa : 0.9362          \n",
      "                                          \n",
      " Mcnemar's Test P-Value : NA              \n",
      "\n",
      "Statistics by Class:\n",
      "\n",
      "                     Class: sitting Class: sittingdown Class: standing\n",
      "Sensitivity                  0.9951            0.89933          0.9417\n",
      "Specificity                  0.9993            0.99513          0.9809\n",
      "Pos Pred Value               0.9984            0.93706          0.9531\n",
      "Neg Pred Value               0.9978            0.99191          0.9761\n",
      "Prevalence                   0.3048            0.07457          0.2918\n",
      "Detection Rate               0.3033            0.06707          0.2748\n",
      "Detection Prevalence         0.3038            0.07157          0.2883\n",
      "Balanced Accuracy            0.9972            0.94723          0.9613\n",
      "                     Class: standingup Class: walking\n",
      "Sensitivity                    0.86395         0.9549\n",
      "Specificity                    0.99028         0.9731\n",
      "Pos Pred Value                 0.87586         0.9241\n",
      "Neg Pred Value                 0.98921         0.9844\n",
      "Prevalence                     0.07357         0.2553\n",
      "Detection Rate                 0.06356         0.2437\n",
      "Detection Prevalence           0.07257         0.2638\n",
      "Balanced Accuracy              0.92711         0.9640\n"
     ]
    },
    {
     "data": {
      "image/png": "[encoded data removed]",
      "text/plain": [
       "plot without title"
      ]
     },
     "metadata": {
      "image/png": {
       "height": 600,
       "width": 900
      },
      "text/plain": {
       "height": 600,
       "width": 900
      }
     },
     "output_type": "display_data"
    }
   ],
   "source": [
    "externalValidation(nn1LFit2_maxit300)\n",
    "\n",
    "# Dibujamos la evolución del error a lo largo de las iteraciones de la red\n",
    "plotNNErrorEvolution(nn1LFit2_maxit300)"
   ]
  },
  {
   "cell_type": "markdown",
   "metadata": {},
   "source": [
    "Tanto en la validación interna como externa obtenemos peores resultados, a demás vemos como cuando incrementamos el número de iteraciones nuestra gráfica empieza a mostrar más fluctuaciones en el error. Vamos a intentar a reducir la tasa de aprendizaje para ver que efectos tiene en nuestro modelo."
   ]
  },
  {
   "cell_type": "code",
   "execution_count": 33,
   "metadata": {},
   "outputs": [],
   "source": [
    "# Plantamos la semilla para obtener un valor constante tras cada ejecución.\n",
    "set.seed(uo)\n",
    "\n",
    "# Realizamos el entrenamiento de nuestro modelo\n",
    "nn1LFit2_maxit300_lr02 <- train(\n",
    "    class ~ .,\n",
    "    data = training,\n",
    "    method = \"mlp\",\n",
    "    trControl = crossValidation,\n",
    "    metric = \"Kappa\",\n",
    "    preProcess=c(\"center\",\"scale\"),\n",
    "    tuneGrid = data.frame(size=seq(9,30,3)),\n",
    "    maxit=300,\n",
    "    leanFuncParam = c(0.01,0)\n",
    ")"
   ]
  },
  {
   "cell_type": "code",
   "execution_count": 34,
   "metadata": {
    "scrolled": true
   },
   "outputs": [
    {
     "name": "stdout",
     "output_type": "stream",
     "text": [
      "Confusion Matrix and Statistics\n",
      "\n",
      "             Reference\n",
      "Prediction    sitting sittingdown standing standingup walking\n",
      "  sitting         606           1        0          0       0\n",
      "  sittingdown       1         134        0          6       2\n",
      "  standing          0           3      549          9      15\n",
      "  standingup        2           6        4        127       6\n",
      "  walking           0           5       30          5     487\n",
      "\n",
      "Overall Statistics\n",
      "                                          \n",
      "               Accuracy : 0.9525          \n",
      "                 95% CI : (0.9422, 0.9614)\n",
      "    No Information Rate : 0.3048          \n",
      "    P-Value [Acc > NIR] : < 2.2e-16       \n",
      "                                          \n",
      "                  Kappa : 0.9362          \n",
      "                                          \n",
      " Mcnemar's Test P-Value : NA              \n",
      "\n",
      "Statistics by Class:\n",
      "\n",
      "                     Class: sitting Class: sittingdown Class: standing\n",
      "Sensitivity                  0.9951            0.89933          0.9417\n",
      "Specificity                  0.9993            0.99513          0.9809\n",
      "Pos Pred Value               0.9984            0.93706          0.9531\n",
      "Neg Pred Value               0.9978            0.99191          0.9761\n",
      "Prevalence                   0.3048            0.07457          0.2918\n",
      "Detection Rate               0.3033            0.06707          0.2748\n",
      "Detection Prevalence         0.3038            0.07157          0.2883\n",
      "Balanced Accuracy            0.9972            0.94723          0.9613\n",
      "                     Class: standingup Class: walking\n",
      "Sensitivity                    0.86395         0.9549\n",
      "Specificity                    0.99028         0.9731\n",
      "Pos Pred Value                 0.87586         0.9241\n",
      "Neg Pred Value                 0.98921         0.9844\n",
      "Prevalence                     0.07357         0.2553\n",
      "Detection Rate                 0.06356         0.2437\n",
      "Detection Prevalence           0.07257         0.2638\n",
      "Balanced Accuracy              0.92711         0.9640\n"
     ]
    },
    {
     "data": {
      "image/png": "[encoded data removed]",
      "text/plain": [
       "plot without title"
      ]
     },
     "metadata": {
      "image/png": {
       "height": 600,
       "width": 900
      },
      "text/plain": {
       "height": 600,
       "width": 900
      }
     },
     "output_type": "display_data"
    }
   ],
   "source": [
    "externalValidation(nn1LFit2_maxit300_lr02)\n",
    "\n",
    "# Dibujamos la evolución del error a lo largo de las iteraciones de la red\n",
    "plotNNErrorEvolution(nn1LFit2_maxit300_lr02)"
   ]
  },
  {
   "cell_type": "markdown",
   "metadata": {},
   "source": [
    "Empleando kappa como la métrica de selección de modelo, el último, con 300 iteraciones y el ratio de aprendizaje en 0.01 es el que tiene un valor más alto, sin embargo la diferencia entre el primero modelo con 100 y iteraciones y este es tan insignificativa que no justifica la complejidad añadida, es por esto que en este caso el primer modelo será el seleccionado, 24 neuronas y 100 iteraciones.\n",
    "\n",
    "A demás como kappa está en torno al 93% probaremos con redes más profundas pero limitando la complejidad de las capas, ya que aún existe margen de mejora."
   ]
  },
  {
   "cell_type": "markdown",
   "metadata": {},
   "source": [
    "### 2 capas ocultas"
   ]
  },
  {
   "cell_type": "code",
   "execution_count": 35,
   "metadata": {
    "scrolled": true
   },
   "outputs": [
    {
     "name": "stdout",
     "output_type": "stream",
     "text": [
      "Multi-Layer Perceptron, with multiple layers \n",
      "\n",
      "8002 samples\n",
      "  12 predictor\n",
      "   5 classes: 'sitting', 'sittingdown', 'standing', 'standingup', 'walking' \n",
      "\n",
      "No pre-processing\n",
      "Resampling: Cross-Validated (10 fold) \n",
      "Summary of sample sizes: 7202, 7201, 7202, 7202, 7202, 7202, ... \n",
      "Resampling results across tuning parameters:\n",
      "\n",
      "  layer1  layer2  Accuracy   Kappa      \n",
      "  10      10      0.2983017  0.002995003\n",
      "  10      12      0.3144162  0.032065073\n",
      "  10      14      0.3451275  0.073981557\n",
      "  12      10      0.3145436  0.029232232\n",
      "  12      12      0.2959229  0.016656857\n",
      "  12      14      0.2980525  0.006675638\n",
      "  14      10      0.3255299  0.048481593\n",
      "  14      12      0.3076842  0.023103335\n",
      "  14      14      0.3241425  0.047911891\n",
      "\n",
      "Tuning parameter 'layer3' was held constant at a value of 0\n",
      "Accuracy was used to select the optimal model using the largest value.\n",
      "The final values used for the model were layer1 = 10, layer2 = 14 and layer3\n",
      " = 0.\n",
      "  layer1 layer2 layer3  Accuracy\n",
      "3     10     14      0 0.3451275\n"
     ]
    }
   ],
   "source": [
    "# Plantamos la semilla para obtener un valor constante tras cada ejecución.\n",
    "set.seed(uo)\n",
    "\n",
    "# Realizamos el entrenamiento de nuestro modelo\n",
    "nn2LFit <- train(\n",
    "    class ~ .,\n",
    "    data = training,\n",
    "    method = \"mlpML\",\n",
    "    trControl = crossValidation,\n",
    "    tuneGrid = expand.grid(layer1=seq(10,14,2),\n",
    "                           layer2=seq(10,14,2),\n",
    "                           layer3=0)\n",
    ")\n",
    "\n",
    "internalValidation(nn2LFit)"
   ]
  },
  {
   "cell_type": "code",
   "execution_count": 36,
   "metadata": {
    "scrolled": true
   },
   "outputs": [
    {
     "name": "stdout",
     "output_type": "stream",
     "text": [
      "Confusion Matrix and Statistics\n",
      "\n",
      "             Reference\n",
      "Prediction    sitting sittingdown standing standingup walking\n",
      "  sitting         608         148      583        139     510\n",
      "  sittingdown       0           0        0          0       0\n",
      "  standing          0           0        0          0       0\n",
      "  standingup        1           1        0          8       0\n",
      "  walking           0           0        0          0       0\n",
      "\n",
      "Overall Statistics\n",
      "                                          \n",
      "               Accuracy : 0.3083          \n",
      "                 95% CI : (0.2881, 0.3291)\n",
      "    No Information Rate : 0.3048          \n",
      "    P-Value [Acc > NIR] : 0.375           \n",
      "                                          \n",
      "                  Kappa : 0.0067          \n",
      "                                          \n",
      " Mcnemar's Test P-Value : NA              \n",
      "\n",
      "Statistics by Class:\n",
      "\n",
      "                     Class: sitting Class: sittingdown Class: standing\n",
      "Sensitivity                0.998358            0.00000          0.0000\n",
      "Specificity                0.006479            1.00000          1.0000\n",
      "Pos Pred Value             0.305835                NaN             NaN\n",
      "Neg Pred Value             0.900000            0.92543          0.7082\n",
      "Prevalence                 0.304805            0.07457          0.2918\n",
      "Detection Rate             0.304304            0.00000          0.0000\n",
      "Detection Prevalence       0.994995            0.00000          0.0000\n",
      "Balanced Accuracy          0.502419            0.50000          0.5000\n",
      "                     Class: standingup Class: walking\n",
      "Sensitivity                   0.054422         0.0000\n",
      "Specificity                   0.998920         1.0000\n",
      "Pos Pred Value                0.800000            NaN\n",
      "Neg Pred Value                0.930080         0.7447\n",
      "Prevalence                    0.073574         0.2553\n",
      "Detection Rate                0.004004         0.0000\n",
      "Detection Prevalence          0.005005         0.0000\n",
      "Balanced Accuracy             0.526671         0.5000\n"
     ]
    },
    {
     "data": {
      "image/png": "[encoded data removed]",
      "text/plain": [
       "plot without title"
      ]
     },
     "metadata": {
      "image/png": {
       "height": 600,
       "width": 900
      },
      "text/plain": {
       "height": 600,
       "width": 900
      }
     },
     "output_type": "display_data"
    }
   ],
   "source": [
    "externalValidation(nn2LFit)\n",
    "\n",
    "# Dibujamos la evolución del error a lo largo de las iteraciones de la red\n",
    "plotNNErrorEvolution(nn2LFit)"
   ]
  },
  {
   "cell_type": "markdown",
   "metadata": {},
   "source": [
    "Los resultados con dos capas de primeras son desastrosos, vamos a intentar mejorarlos sólo por ver hasta donde puede ajustar el modelo."
   ]
  },
  {
   "cell_type": "code",
   "execution_count": 37,
   "metadata": {
    "scrolled": true
   },
   "outputs": [
    {
     "name": "stdout",
     "output_type": "stream",
     "text": [
      "Multi-Layer Perceptron, with multiple layers \n",
      "\n",
      "8002 samples\n",
      "  12 predictor\n",
      "   5 classes: 'sitting', 'sittingdown', 'standing', 'standingup', 'walking' \n",
      "\n",
      "No pre-processing\n",
      "Resampling: Cross-Validated (10 fold) \n",
      "Summary of sample sizes: 7202, 7201, 7202, 7202, 7202, 7202, ... \n",
      "Resampling results across tuning parameters:\n",
      "\n",
      "  layer1  layer2  Accuracy   Kappa      \n",
      "  10      10      0.2983017  0.002995003\n",
      "  10      12      0.3144162  0.032065073\n",
      "  10      14      0.3451275  0.073981557\n",
      "  12      10      0.3145436  0.029232232\n",
      "  12      12      0.2959229  0.016656857\n",
      "  12      14      0.2980525  0.006675638\n",
      "  14      10      0.3255299  0.048481593\n",
      "  14      12      0.3076842  0.023103335\n",
      "  14      14      0.3241425  0.047911891\n",
      "\n",
      "Tuning parameter 'layer3' was held constant at a value of 0\n",
      "Accuracy was used to select the optimal model using the largest value.\n",
      "The final values used for the model were layer1 = 10, layer2 = 14 and layer3\n",
      " = 0.\n",
      "  layer1 layer2 layer3  Accuracy\n",
      "3     10     14      0 0.3451275\n"
     ]
    }
   ],
   "source": [
    "# Plantamos la semilla para obtener un valor constante tras cada ejecución.\n",
    "set.seed(uo)\n",
    "\n",
    "# Realizamos el entrenamiento de nuestro modelo\n",
    "nn2LFit_500 <- train(\n",
    "    class ~ .,\n",
    "    data = training,\n",
    "    method = \"mlpML\",\n",
    "    trControl = crossValidation,\n",
    "    learnFuncParams = c(0.02,0),\n",
    "    maxit = 500,\n",
    "    metric = \"Kappa\",\n",
    "    tuneGrid = expand.grid(layer1=seq(10,14,2),\n",
    "                           layer2=seq(10,14,2),\n",
    "                           layer3=0)\n",
    ")\n",
    "\n",
    "internalValidation(nn2LFit)"
   ]
  },
  {
   "cell_type": "code",
   "execution_count": 38,
   "metadata": {
    "scrolled": true
   },
   "outputs": [
    {
     "name": "stdout",
     "output_type": "stream",
     "text": [
      "Confusion Matrix and Statistics\n",
      "\n",
      "             Reference\n",
      "Prediction    sitting sittingdown standing standingup walking\n",
      "  sitting         476           7        0          0       0\n",
      "  sittingdown       0           0        0          0       0\n",
      "  standing          3         100      555        100     286\n",
      "  standingup        1           1        0          8       0\n",
      "  walking         129          41       28         39     224\n",
      "\n",
      "Overall Statistics\n",
      "                                          \n",
      "               Accuracy : 0.6321          \n",
      "                 95% CI : (0.6106, 0.6533)\n",
      "    No Information Rate : 0.3048          \n",
      "    P-Value [Acc > NIR] : < 2.2e-16       \n",
      "                                          \n",
      "                  Kappa : 0.4852          \n",
      "                                          \n",
      " Mcnemar's Test P-Value : < 2.2e-16       \n",
      "\n",
      "Statistics by Class:\n",
      "\n",
      "                     Class: sitting Class: sittingdown Class: standing\n",
      "Sensitivity                  0.7816            0.00000          0.9520\n",
      "Specificity                  0.9950            1.00000          0.6544\n",
      "Pos Pred Value               0.9855                NaN          0.5316\n",
      "Neg Pred Value               0.9122            0.92543          0.9706\n",
      "Prevalence                   0.3048            0.07457          0.2918\n",
      "Detection Rate               0.2382            0.00000          0.2778\n",
      "Detection Prevalence         0.2417            0.00000          0.5225\n",
      "Balanced Accuracy            0.8883            0.50000          0.8032\n",
      "                     Class: standingup Class: walking\n",
      "Sensitivity                   0.054422         0.4392\n",
      "Specificity                   0.998920         0.8407\n",
      "Pos Pred Value                0.800000         0.4859\n",
      "Neg Pred Value                0.930080         0.8139\n",
      "Prevalence                    0.073574         0.2553\n",
      "Detection Rate                0.004004         0.1121\n",
      "Detection Prevalence          0.005005         0.2307\n",
      "Balanced Accuracy             0.526671         0.6400\n"
     ]
    },
    {
     "data": {
      "image/png": "[encoded data removed]",
      "text/plain": [
       "plot without title"
      ]
     },
     "metadata": {
      "image/png": {
       "height": 600,
       "width": 900
      },
      "text/plain": {
       "height": 600,
       "width": 900
      }
     },
     "output_type": "display_data"
    }
   ],
   "source": [
    "externalValidation(nn2LFit_500)\n",
    "\n",
    "# Dibujamos la evolución del error a lo largo de las iteraciones de la red\n",
    "plotNNErrorEvolution(nn2LFit_500)"
   ]
  },
  {
   "cell_type": "markdown",
   "metadata": {},
   "source": [
    "Vemos que ajustando la tasa de aprendizaje en el modelo de dos capas el error tiende a estabilizarse en torno a 4.000 según la gráfica, por lo que no vamos a seguir intentando reducirlo ni optar a una red de más capas ya que posiblemente el resultado sería peor o la mejoría implicaria el uso de muchos recursos computacionales."
   ]
  },
  {
   "cell_type": "markdown",
   "metadata": {},
   "source": [
    "## Máquinas vector soporte\n",
    "\n",
    "Estos métodos están propiamente relacionados con problemas de clasificación y regresión. Dado un conjunto de ejemplos de entrenamiento (de muestras) podemos etiquetar las clases y entrenar una SVM para construir un modelo que prediga la clase de una nueva muestra. Intuitivamente, una SVM es un modelo que representa a los puntos de muestra en el espacio, separando las clases a 2 espacios lo más amplios posibles mediante un hiperplano de separación definido como el vector entre los 2 puntos, de las 2 clases, más cercanos al que se llama vector soporte. Cuando las nuevas muestras se ponen en correspondencia con dicho modelo, en función de los espacios a los que pertenezcan, pueden ser clasificadas a una o la otra clase.\n",
    "\n",
    "De la misma forma que con los árboles de decisión para las máquinas de vector soporte encontramos diferentes tipos, Lineares, Polinomial y Radial"
   ]
  },
  {
   "cell_type": "code",
   "execution_count": 39,
   "metadata": {},
   "outputs": [],
   "source": [
    "# Plantamos la semilla para obtener un valor constante tras cada ejecución.\n",
    "set.seed(uo)\n",
    "\n",
    "svmLinealFit <- train(\n",
    "    class ~ .,\n",
    "    data = training,\n",
    "    method = \"svmLinear\",\n",
    "    trControl = crossValidation,\n",
    "    tuneGrid = data.frame(C=c(0.5, 1, 5, 10, 20, 40, 80)),\n",
    "    metric = \"kappa\"\n",
    ")"
   ]
  },
  {
   "cell_type": "code",
   "execution_count": 40,
   "metadata": {
    "scrolled": true
   },
   "outputs": [
    {
     "name": "stdout",
     "output_type": "stream",
     "text": [
      "Support Vector Machines with Linear Kernel \n",
      "\n",
      "8002 samples\n",
      "  12 predictor\n",
      "   5 classes: 'sitting', 'sittingdown', 'standing', 'standingup', 'walking' \n",
      "\n",
      "No pre-processing\n",
      "Resampling: Cross-Validated (10 fold) \n",
      "Summary of sample sizes: 7202, 7201, 7202, 7202, 7202, 7202, ... \n",
      "Resampling results across tuning parameters:\n",
      "\n",
      "  C     Accuracy   Kappa    \n",
      "   0.5  0.8247920  0.7633576\n",
      "   1.0  0.8247939  0.7633728\n",
      "   5.0  0.8257933  0.7647707\n",
      "  10.0  0.8266681  0.7659365\n",
      "  20.0  0.8266680  0.7659098\n",
      "  40.0  0.8274177  0.7669389\n",
      "  80.0  0.8276675  0.7672698\n",
      "\n",
      "Accuracy was used to select the optimal model using the largest value.\n",
      "The final value used for the model was C = 80.\n",
      "   C  Accuracy     Kappa AccuracySD\n",
      "7 80 0.8276675 0.7672698 0.01042368\n"
     ]
    }
   ],
   "source": [
    "# Resultados validación interna\n",
    "internalValidation(svmLinealFit)"
   ]
  },
  {
   "cell_type": "code",
   "execution_count": 41,
   "metadata": {
    "scrolled": true
   },
   "outputs": [
    {
     "name": "stdout",
     "output_type": "stream",
     "text": [
      "Confusion Matrix and Statistics\n",
      "\n",
      "             Reference\n",
      "Prediction    sitting sittingdown standing standingup walking\n",
      "  sitting         609           4        0          1       0\n",
      "  sittingdown       0         101        3         17      30\n",
      "  standing          0          24      539         30     138\n",
      "  standingup        0          17        1         91      10\n",
      "  walking           0           3       40          8     332\n",
      "\n",
      "Overall Statistics\n",
      "                                          \n",
      "               Accuracy : 0.8368          \n",
      "                 95% CI : (0.8199, 0.8528)\n",
      "    No Information Rate : 0.3048          \n",
      "    P-Value [Acc > NIR] : < 2.2e-16       \n",
      "                                          \n",
      "                  Kappa : 0.7797          \n",
      "                                          \n",
      " Mcnemar's Test P-Value : NA              \n",
      "\n",
      "Statistics by Class:\n",
      "\n",
      "                     Class: sitting Class: sittingdown Class: standing\n",
      "Sensitivity                  1.0000            0.67785          0.9245\n",
      "Specificity                  0.9964            0.97296          0.8643\n",
      "Pos Pred Value               0.9919            0.66887          0.7373\n",
      "Neg Pred Value               1.0000            0.97401          0.9653\n",
      "Prevalence                   0.3048            0.07457          0.2918\n",
      "Detection Rate               0.3048            0.05055          0.2698\n",
      "Detection Prevalence         0.3073            0.07558          0.3659\n",
      "Balanced Accuracy            0.9982            0.82541          0.8944\n",
      "                     Class: standingup Class: walking\n",
      "Sensitivity                    0.61905         0.6510\n",
      "Specificity                    0.98487         0.9657\n",
      "Pos Pred Value                 0.76471         0.8668\n",
      "Neg Pred Value                 0.97020         0.8898\n",
      "Prevalence                     0.07357         0.2553\n",
      "Detection Rate                 0.04555         0.1662\n",
      "Detection Prevalence           0.05956         0.1917\n",
      "Balanced Accuracy              0.80196         0.8084\n"
     ]
    }
   ],
   "source": [
    "# Resultados validación externa\n",
    "externalValidation(svmLinealFit)"
   ]
  },
  {
   "cell_type": "markdown",
   "metadata": {},
   "source": [
    "De los resultados anteriores podemos observar que podemos ver que se selecciona el modelo con c = 80 como el que mejor resultado obtiene, sin embargo esta decisión está únicamente basada en kappa. Si tuviésemos en cuenta la mejora obtenida a partir del modelo con C = 10 posiblemente escogeríamos este como es más adecuado, ya que de C = 10 a c = 80 no existe apenas mejora mientras que la complejidad del modelo si que aumenta significativamente."
   ]
  },
  {
   "cell_type": "code",
   "execution_count": 42,
   "metadata": {},
   "outputs": [],
   "source": [
    "# Plantamos la semilla para obtener un valor constante tras cada ejecución.\n",
    "set.seed(uo)\n",
    "\n",
    "svmPolyFit <- train(\n",
    "    class ~ .,\n",
    "    data = training,\n",
    "    method = \"svmPoly\",\n",
    "    trControl = crossValidation,\n",
    "    tuneGrid = expand.grid(degree=c(1,3,5,10),C=c(1,3,5),scale = c(0.1, 0.5, 1)),\n",
    "    metric = \"kappa\"\n",
    ")"
   ]
  },
  {
   "cell_type": "code",
   "execution_count": 43,
   "metadata": {
    "scrolled": true
   },
   "outputs": [
    {
     "name": "stdout",
     "output_type": "stream",
     "text": [
      "Support Vector Machines with Polynomial Kernel \n",
      "\n",
      "8002 samples\n",
      "  12 predictor\n",
      "   5 classes: 'sitting', 'sittingdown', 'standing', 'standingup', 'walking' \n",
      "\n",
      "No pre-processing\n",
      "Resampling: Cross-Validated (10 fold) \n",
      "Summary of sample sizes: 7202, 7201, 7202, 7202, 7202, 7202, ... \n",
      "Resampling results across tuning parameters:\n",
      "\n",
      "  degree  C  scale  Accuracy   Kappa    \n",
      "   1      1  0.1    0.8199177  0.7564644\n",
      "   1      1  0.5    0.8247920  0.7633576\n",
      "   1      1  1.0    0.8247939  0.7633728\n",
      "   1      3  0.1    0.8221692  0.7596500\n",
      "   1      3  0.5    0.8256681  0.7646264\n",
      "   1      3  1.0    0.8257933  0.7647277\n",
      "   1      5  0.1    0.8247920  0.7633576\n",
      "   1      5  0.5    0.8255436  0.7644141\n",
      "   1      5  1.0    0.8257933  0.7647707\n",
      "   3      1  0.1    0.9498840  0.9326394\n",
      "   3      1  0.5    0.9633847  0.9508791\n",
      "   3      1  1.0    0.9607609  0.9473990\n",
      "   3      3  0.1    0.9582584  0.9439497\n",
      "   3      3  0.5    0.9631340  0.9505681\n",
      "   3      3  1.0    0.9571357  0.9425583\n",
      "   3      5  0.1    0.9607570  0.9473123\n",
      "   3      5  0.5    0.9611345  0.9479024\n",
      "   3      5  1.0    0.9561364  0.9412316\n",
      "   5      1  0.1    0.9610081  0.9476415\n",
      "   5      1  0.5    0.9525096  0.9363666\n",
      "   5      1  1.0    0.9466360  0.9285229\n",
      "   5      3  0.1    0.9632598  0.9506988\n",
      "   5      3  0.5    0.9523856  0.9362213\n",
      "   5      3  1.0    0.9476378  0.9298662\n",
      "   5      5  0.1    0.9633845  0.9508749\n",
      "   5      5  0.5    0.9517612  0.9353828\n",
      "   5      5  1.0    0.9476378  0.9298662\n",
      "  10      1  0.1    0.9581348  0.9438406\n",
      "  10      1  0.5    0.9401424  0.9198759\n",
      "  10      1  1.0    0.9356418  0.9138931\n",
      "  10      3  0.1    0.9560106  0.9410164\n",
      "  10      3  0.5    0.9401424  0.9198759\n",
      "  10      3  1.0    0.9356418  0.9138931\n",
      "  10      5  0.1    0.9538862  0.9381807\n",
      "  10      5  0.5    0.9401424  0.9198759\n",
      "  10      5  1.0    0.9356418  0.9138931\n",
      "\n",
      "Accuracy was used to select the optimal model using the largest value.\n",
      "The final values used for the model were degree = 3, scale = 0.5 and C = 1.\n",
      "   degree C scale  Accuracy\n",
      "11      3 1   0.5 0.9633847\n",
      "Confusion Matrix and Statistics\n",
      "\n",
      "             Reference\n",
      "Prediction    sitting sittingdown standing standingup walking\n",
      "  sitting         609           1        2          3       4\n",
      "  sittingdown       0         142        0          5       6\n",
      "  standing          0           3      579          6      22\n",
      "  standingup        0           2        1        132       3\n",
      "  walking           0           1        1          1     475\n",
      "\n",
      "Overall Statistics\n",
      "                                         \n",
      "               Accuracy : 0.9695         \n",
      "                 95% CI : (0.961, 0.9766)\n",
      "    No Information Rate : 0.3048         \n",
      "    P-Value [Acc > NIR] : < 2.2e-16      \n",
      "                                         \n",
      "                  Kappa : 0.959          \n",
      "                                         \n",
      " Mcnemar's Test P-Value : 8.824e-06      \n",
      "\n",
      "Statistics by Class:\n",
      "\n",
      "                     Class: sitting Class: sittingdown Class: standing\n",
      "Sensitivity                  1.0000            0.95302          0.9931\n",
      "Specificity                  0.9928            0.99405          0.9781\n",
      "Pos Pred Value               0.9838            0.92810          0.9492\n",
      "Neg Pred Value               1.0000            0.99621          0.9971\n",
      "Prevalence                   0.3048            0.07457          0.2918\n",
      "Detection Rate               0.3048            0.07107          0.2898\n",
      "Detection Prevalence         0.3098            0.07658          0.3053\n",
      "Balanced Accuracy            0.9964            0.97354          0.9856\n",
      "                     Class: standingup Class: walking\n",
      "Sensitivity                    0.89796         0.9314\n",
      "Specificity                    0.99676         0.9980\n",
      "Pos Pred Value                 0.95652         0.9937\n",
      "Neg Pred Value                 0.99194         0.9770\n",
      "Prevalence                     0.07357         0.2553\n",
      "Detection Rate                 0.06607         0.2377\n",
      "Detection Prevalence           0.06907         0.2392\n",
      "Balanced Accuracy              0.94736         0.9647\n"
     ]
    }
   ],
   "source": [
    "# Resultados validación interna\n",
    "internalValidation(svmPolyFit)\n",
    "externalValidation(svmPolyFit)"
   ]
  },
  {
   "cell_type": "markdown",
   "metadata": {},
   "source": [
    "Vemos que los polinomios de grado 3 con C 1 y una escala de 0.5 son los que mejor nos sirven para esta tarea de clasificación y a demás con el abanico de datos probados podemos decir que esta conbinación es la mejor ya que cualquier valor que se aleja de esta combinación empeora el resultado obtenido. En este caso se supera a las máquinas vector soporte lineares y por tanto será el modelo escogido para comparar con otros paradigmas."
   ]
  },
  {
   "cell_type": "code",
   "execution_count": 44,
   "metadata": {},
   "outputs": [],
   "source": [
    "# Plantamos la semilla para obtener un valor constante tras cada ejecución.\n",
    "set.seed(uo)\n",
    "\n",
    "svmRadialFit <- train(\n",
    "    class ~ .,\n",
    "    data = training,\n",
    "    method = \"svmRadial\",\n",
    "    trControl = crossValidation, \n",
    "    tuneGrid = expand.grid(sigma=c(1,3),C=c(1,5,6,7)),\n",
    "    metric = \"kappa\"\n",
    ")"
   ]
  },
  {
   "cell_type": "code",
   "execution_count": 45,
   "metadata": {
    "scrolled": true
   },
   "outputs": [
    {
     "name": "stdout",
     "output_type": "stream",
     "text": [
      "Support Vector Machines with Radial Basis Function Kernel \n",
      "\n",
      "8002 samples\n",
      "  12 predictor\n",
      "   5 classes: 'sitting', 'sittingdown', 'standing', 'standingup', 'walking' \n",
      "\n",
      "No pre-processing\n",
      "Resampling: Cross-Validated (10 fold) \n",
      "Summary of sample sizes: 7202, 7201, 7202, 7202, 7202, 7202, ... \n",
      "Resampling results across tuning parameters:\n",
      "\n",
      "  sigma  C  Accuracy   Kappa    \n",
      "  1      1  0.9522629  0.9356077\n",
      "  1      5  0.9575128  0.9427491\n",
      "  1      6  0.9577625  0.9430844\n",
      "  1      7  0.9578871  0.9432529\n",
      "  3      1  0.8955240  0.8573442\n",
      "  3      5  0.9071491  0.8735477\n",
      "  3      6  0.9071491  0.8735477\n",
      "  3      7  0.9071491  0.8735477\n",
      "\n",
      "Accuracy was used to select the optimal model using the largest value.\n",
      "The final values used for the model were sigma = 1 and C = 7.\n",
      "  sigma C  Accuracy     Kappa\n",
      "4     1 7 0.9578871 0.9432529\n",
      "Confusion Matrix and Statistics\n",
      "\n",
      "             Reference\n",
      "Prediction    sitting sittingdown standing standingup walking\n",
      "  sitting         603           0        0          0       0\n",
      "  sittingdown       0         134        0          3       2\n",
      "  standing          0           3      578          3      11\n",
      "  standingup        0           2        1        108       1\n",
      "  walking           6          10        4         33     496\n",
      "\n",
      "Overall Statistics\n",
      "                                         \n",
      "               Accuracy : 0.9605         \n",
      "                 95% CI : (0.951, 0.9686)\n",
      "    No Information Rate : 0.3048         \n",
      "    P-Value [Acc > NIR] : < 2.2e-16      \n",
      "                                         \n",
      "                  Kappa : 0.9467         \n",
      "                                         \n",
      " Mcnemar's Test P-Value : NA             \n",
      "\n",
      "Statistics by Class:\n",
      "\n",
      "                     Class: sitting Class: sittingdown Class: standing\n",
      "Sensitivity                  0.9901            0.89933          0.9914\n",
      "Specificity                  1.0000            0.99730          0.9880\n",
      "Pos Pred Value               1.0000            0.96403          0.9714\n",
      "Neg Pred Value               0.9957            0.99193          0.9964\n",
      "Prevalence                   0.3048            0.07457          0.2918\n",
      "Detection Rate               0.3018            0.06707          0.2893\n",
      "Detection Prevalence         0.3018            0.06957          0.2978\n",
      "Balanced Accuracy            0.9951            0.94831          0.9897\n",
      "                     Class: standingup Class: walking\n",
      "Sensitivity                    0.73469         0.9725\n",
      "Specificity                    0.99784         0.9644\n",
      "Pos Pred Value                 0.96429         0.9035\n",
      "Neg Pred Value                 0.97932         0.9903\n",
      "Prevalence                     0.07357         0.2553\n",
      "Detection Rate                 0.05405         0.2482\n",
      "Detection Prevalence           0.05606         0.2748\n",
      "Balanced Accuracy              0.86627         0.9685\n"
     ]
    }
   ],
   "source": [
    "# Resultados validación interna\n",
    "internalValidation(svmRadialFit)\n",
    "externalValidation(svmRadialFit)"
   ]
  },
  {
   "cell_type": "markdown",
   "metadata": {},
   "source": [
    "Como vemos, otra vez la combinación que obtiene un valor de kappa más elevado a penas consigue superar a combinaciones más simples, por lo que escogeríamos una combinación que tenga un resultado similar pero que al mismo tiempo sea menos compleja. Esto no afecta al aspecto general de esta práctica ya que en la validación externa obtenemos menos que en el modelo anterior y por tanto es el anterior el que compararemos con los otros paradigmas."
   ]
  },
  {
   "cell_type": "markdown",
   "metadata": {},
   "source": [
    "## Random forest"
   ]
  },
  {
   "cell_type": "markdown",
   "metadata": {},
   "source": [
    "Este paradigma contruye múltiples árboles de decisión y a la hora de realizar la predicción devuelve la clase que es la moda, para problemas de clasificación, o la media, para problemas de regresión."
   ]
  },
  {
   "cell_type": "code",
   "execution_count": 46,
   "metadata": {},
   "outputs": [],
   "source": [
    "set.seed(uo)\n",
    "rfFit <- train(\n",
    "    class ~ .,\n",
    "    data = training,\n",
    "    method = \"rf\",\n",
    "    trControl = crossValidation,\n",
    "    tuneGrid = data.frame(mtry=seq(2,30,4)),\n",
    "    metric = \"Kappa\"\n",
    ")"
   ]
  },
  {
   "cell_type": "code",
   "execution_count": 47,
   "metadata": {
    "scrolled": true
   },
   "outputs": [
    {
     "data": {
      "text/plain": [
       "\n",
       "Call:\n",
       " randomForest(x = x, y = y, mtry = param$mtry) \n",
       "               Type of random forest: classification\n",
       "                     Number of trees: 500\n",
       "No. of variables tried at each split: 2\n",
       "\n",
       "        OOB estimate of  error rate: 1.91%\n",
       "Confusion matrix:\n",
       "            sitting sittingdown standing standingup walking class.error\n",
       "sitting        2430           1        0          8       0 0.003690037\n",
       "sittingdown       5         562        5         13      15 0.063333333\n",
       "standing          0           0     2309          2      21 0.009862779\n",
       "standingup        6          27       13        532      13 0.099830795\n",
       "walking           0           5       19          0    2016 0.011764706"
      ]
     },
     "metadata": {},
     "output_type": "display_data"
    },
    {
     "name": "stdout",
     "output_type": "stream",
     "text": [
      "Random Forest \n",
      "\n",
      "8002 samples\n",
      "  12 predictor\n",
      "   5 classes: 'sitting', 'sittingdown', 'standing', 'standingup', 'walking' \n",
      "\n",
      "No pre-processing\n",
      "Resampling: Cross-Validated (10 fold) \n",
      "Summary of sample sizes: 7202, 7201, 7202, 7202, 7202, 7202, ... \n",
      "Resampling results across tuning parameters:\n",
      "\n",
      "  mtry  Accuracy   Kappa    \n",
      "   2    0.9798815  0.9729956\n",
      "   6    0.9757570  0.9674653\n",
      "  10    0.9718806  0.9622794\n",
      "  14    0.9638818  0.9515343\n",
      "  18    0.9648818  0.9528886\n",
      "  22    0.9642572  0.9520452\n",
      "  26    0.9647581  0.9527163\n",
      "  30    0.9640081  0.9517063\n",
      "\n",
      "Kappa was used to select the optimal model using the largest value.\n",
      "The final value used for the model was mtry = 2.\n",
      "  mtry  Accuracy     Kappa  AccuracySD\n",
      "1    2 0.9798815 0.9729956 0.004572498\n",
      "Confusion Matrix and Statistics\n",
      "\n",
      "             Reference\n",
      "Prediction    sitting sittingdown standing standingup walking\n",
      "  sitting         609           0        0          0       0\n",
      "  sittingdown       0         143        0          1       0\n",
      "  standing          0           1      578          5       6\n",
      "  standingup        0           2        1        139       0\n",
      "  walking           0           3        4          2     504\n",
      "\n",
      "Overall Statistics\n",
      "                                          \n",
      "               Accuracy : 0.9875          \n",
      "                 95% CI : (0.9816, 0.9919)\n",
      "    No Information Rate : 0.3048          \n",
      "    P-Value [Acc > NIR] : < 2.2e-16       \n",
      "                                          \n",
      "                  Kappa : 0.9832          \n",
      "                                          \n",
      " Mcnemar's Test P-Value : NA              \n",
      "\n",
      "Statistics by Class:\n",
      "\n",
      "                     Class: sitting Class: sittingdown Class: standing\n",
      "Sensitivity                  1.0000            0.95973          0.9914\n",
      "Specificity                  1.0000            0.99946          0.9915\n",
      "Pos Pred Value               1.0000            0.99306          0.9797\n",
      "Neg Pred Value               1.0000            0.99676          0.9964\n",
      "Prevalence                   0.3048            0.07457          0.2918\n",
      "Detection Rate               0.3048            0.07157          0.2893\n",
      "Detection Prevalence         0.3048            0.07207          0.2953\n",
      "Balanced Accuracy            1.0000            0.97960          0.9915\n",
      "                     Class: standingup Class: walking\n",
      "Sensitivity                    0.94558         0.9882\n",
      "Specificity                    0.99838         0.9940\n",
      "Pos Pred Value                 0.97887         0.9825\n",
      "Neg Pred Value                 0.99569         0.9960\n",
      "Prevalence                     0.07357         0.2553\n",
      "Detection Rate                 0.06957         0.2523\n",
      "Detection Prevalence           0.07107         0.2568\n",
      "Balanced Accuracy              0.97198         0.9911\n"
     ]
    }
   ],
   "source": [
    "rfFit$finalModel\n",
    "# Resultados validación interna\n",
    "internalValidation(rfFit)\n",
    "externalValidation(rfFit)"
   ]
  },
  {
   "cell_type": "markdown",
   "metadata": {},
   "source": [
    "Como se puede observar los datos obtenidos en este último modelo son buenos tanto en la validación interna como en la externa, obteniendo un valor de kappa de 0.9832."
   ]
  },
  {
   "cell_type": "markdown",
   "metadata": {},
   "source": [
    "# Comparación de modelos"
   ]
  },
  {
   "cell_type": "markdown",
   "metadata": {},
   "source": [
    "Para comparar los modelos emplearemos la métrica kappa obtenida en la validación externa de cada modelo."
   ]
  },
  {
   "cell_type": "code",
   "execution_count": 48,
   "metadata": {},
   "outputs": [],
   "source": [
    "kappaRF <- 0.9832\n",
    "kappaKNN <- 0.9658\n",
    "kappaSVM <- 0.959\n",
    "kappaNN <- 0.9362\n",
    "kappaDT <- 0.924"
   ]
  },
  {
   "cell_type": "markdown",
   "metadata": {},
   "source": [
    "Los modelos con mayor valor Kappa son RF y KNN. Vamos a realizar un test binomial para ver si hay diferencias significaticas entre ellos."
   ]
  },
  {
   "cell_type": "code",
   "execution_count": 49,
   "metadata": {},
   "outputs": [],
   "source": [
    "binomialTest <- function(percentageSuccess1, percentageSuccess2, testingData = testing){\n",
    "  binom.test(\n",
    "    round(c(percentageSuccess1, 1-percentageSuccess1)* # porcentaje de acierto y error \n",
    "            nrow(testingData)), # multiplicado por el número de instancias\n",
    "                                # para obtener el número total de aciertos y fallos \n",
    "    p = percentageSuccess2 # el porcentaje de acierto del modelo con el que comparar\n",
    "  ) \n",
    "}"
   ]
  },
  {
   "cell_type": "code",
   "execution_count": 50,
   "metadata": {},
   "outputs": [
    {
     "data": {
      "text/plain": [
       "\n",
       "\tExact binomial test\n",
       "\n",
       "data:  round(c(percentageSuccess1, 1 - percentageSuccess1) * nrow(testingData))\n",
       "number of successes = 1964, number of trials = 1998, p-value =\n",
       "4.713e-06\n",
       "alternative hypothesis: true probability of success is not equal to 0.9658\n",
       "95 percent confidence interval:\n",
       " 0.9763010 0.9881872\n",
       "sample estimates:\n",
       "probability of success \n",
       "              0.982983 \n"
      ]
     },
     "metadata": {},
     "output_type": "display_data"
    }
   ],
   "source": [
    "binomialTest(kappaRF, kappaKNN) # Comparación NN y SVM"
   ]
  },
  {
   "cell_type": "code",
   "execution_count": 51,
   "metadata": {},
   "outputs": [
    {
     "data": {
      "text/plain": [
       "\n",
       "\tExact binomial test\n",
       "\n",
       "data:  round(c(percentageSuccess1, 1 - percentageSuccess1) * nrow(testingData))\n",
       "number of successes = 1964, number of trials = 1998, p-value =\n",
       "1.732e-09\n",
       "alternative hypothesis: true probability of success is not equal to 0.959\n",
       "95 percent confidence interval:\n",
       " 0.9763010 0.9881872\n",
       "sample estimates:\n",
       "probability of success \n",
       "              0.982983 \n"
      ]
     },
     "metadata": {},
     "output_type": "display_data"
    }
   ],
   "source": [
    "binomialTest(kappaRF, kappaSVM) # Comparación NN y RF"
   ]
  },
  {
   "cell_type": "code",
   "execution_count": 52,
   "metadata": {},
   "outputs": [
    {
     "data": {
      "text/plain": [
       "\n",
       "\tExact binomial test\n",
       "\n",
       "data:  round(c(percentageSuccess1, 1 - percentageSuccess1) * nrow(testingData))\n",
       "number of successes = 1964, number of trials = 1998, p-value < 2.2e-16\n",
       "alternative hypothesis: true probability of success is not equal to 0.9362\n",
       "95 percent confidence interval:\n",
       " 0.9763010 0.9881872\n",
       "sample estimates:\n",
       "probability of success \n",
       "              0.982983 \n"
      ]
     },
     "metadata": {},
     "output_type": "display_data"
    }
   ],
   "source": [
    "binomialTest(kappaRF, kappaNN) # Comparación NN y kNN"
   ]
  },
  {
   "cell_type": "markdown",
   "metadata": {},
   "source": [
    "En todos los casos anteriores el p-valor es menor de 0.05, por lo tanto se entiende que existe una diferencia significativa entre RF y el resto de modelos probados."
   ]
  },
  {
   "cell_type": "markdown",
   "metadata": {},
   "source": [
    "# Interpretación de la comparación y elección del modelo"
   ]
  },
  {
   "cell_type": "markdown",
   "metadata": {},
   "source": [
    "Tras comprobar en el apartado anterior que las diferencias obtenidas entre el modelo generado por Random Forest y el resto son significativas se podría concluir que este es el mejor paradigma para el problema dado. A demás, Random Forest es el segundo paradigma que requiere menos tiempo de entrenamiento, siendo el primero KNN y el último NN, este último requiere mucho tiempo para el entrenamiento. \n",
    "\n",
    "Si nos fijamos si el tipo de paradigma elegido concuerda con el problema dado podemos concluir que también es ideal ya que la totalidad del problema no implica incrementar en gran medida el número de variables.\n",
    "\n",
    "Por lo tanto, debido a que las diferencias son significativas y que la mejora obtenida justifica el incremento en el tiempo de entrenamiento desde el paradigma inmediatamente \"inferior\" KNN. Si por ejemplo RF tardase mucho más quizás escogeríamos KNN como el indicado, pero no es el caso."
   ]
  },
  {
   "cell_type": "code",
   "execution_count": 53,
   "metadata": {},
   "outputs": [
    {
     "data": {
      "image/png": "[encoded data removed]",
      "text/plain": [
       "plot without title"
      ]
     },
     "metadata": {
      "image/png": {
       "height": 600,
       "width": 900
      },
      "text/plain": {
       "height": 600,
       "width": 900
      }
     },
     "output_type": "display_data"
    }
   ],
   "source": [
    "options(repr.plot.width=15, repr.plot.height=10)\n",
    "dfm.resamp <- data.frame(Accuracy = c(nn1LFit$resample$Kappa,\n",
    "                                      c4.5Fit$resample$Kappa,\n",
    "                                      knnFit$resample$Kappa,\n",
    "                                      svmPolyFit$resample$Kappa,\n",
    "                                      rfFit$resample$Kappa), \n",
    "                        Model = rep(c('NeuralNet','C4.5','kNN', 'MVS', 'rF'), each=10))\n",
    "ggplot(dfm.resamp,aes(x=Model, y=Accuracy, fill=Model)) + geom_boxplot() +\n",
    "ggtitle(\"Distribución del porcetaje de acierto en el proceso de aprendizaje para cada paradigma\") +\n",
    "theme(plot.title = element_text(hjust = 0.5))"
   ]
  },
  {
   "cell_type": "markdown",
   "metadata": {},
   "source": [
    "En el gráfico anterior podemos ver como se confirma que los modelos construidos sobre obtienen unos valores para kappa significativamente superiores al resto de paradigmas."
   ]
  },
  {
   "cell_type": "code",
   "execution_count": null,
   "metadata": {},
   "outputs": [],
   "source": []
  }
 ],
 "metadata": {
  "kernel_info": {
   "name": "ir"
  },
  "kernelspec": {
   "display_name": "R",
   "language": "R",
   "name": "ir"
  },
  "language_info": {
   "codemirror_mode": "r",
   "file_extension": ".r",
   "mimetype": "text/x-r-source",
   "name": "R",
   "pygments_lexer": "r",
   "version": "3.6.1"
  },
  "nteract": {
   "version": "0.15.0"
  },
  "toc": {
   "base_numbering": 1,
   "nav_menu": {
    "height": "333px",
    "width": "659px"
   },
   "number_sections": true,
   "sideBar": true,
   "skip_h1_title": false,
   "title_cell": "Table of Contents",
   "title_sidebar": "Contents",
   "toc_cell": false,
   "toc_position": {
    "height": "calc(100% - 180px)",
    "left": "10px",
    "top": "150px",
    "width": "255.594px"
   },
   "toc_section_display": true,
   "toc_window_display": true
  }
 },
 "nbformat": 4,
 "nbformat_minor": 4
}
