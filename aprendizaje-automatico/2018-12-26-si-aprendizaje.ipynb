{
 "cells": [
  {
   "cell_type": "markdown",
   "metadata": {},
   "source": [
    "# Sistemas Inteligentes: Aprendizaje Automático\n",
    "\n",
    "_Guillermo Facundo Colunga_"
   ]
  },
  {
   "cell_type": "markdown",
   "metadata": {},
   "source": [
    "## Introducción\n",
    "\n",
    "Para la práctica de aprendizaje automático se empleará el paquete caret de R para evaluar el mejor modelo que sea capaz de predecir el tipo de cáncer según la información de expresión de los genes en distintas muestras de pacientes reales.\n",
    "\n",
    "Para ello se evaluarán distintos paradigmas de clasificación: **árbol de decisión, vecinos más cercanos, redes neuronales y máquinas de vector soporte**. Y a continuación se evaluarán de forma individual y colectiva.\n"
   ]
  },
  {
   "cell_type": "markdown",
   "metadata": {},
   "source": [
    "Para empezar a trabajar con el paquete `caret` debemos de cargarlo en R. También cargaremos el paquete `mlbench` y la librería `ggplot` para dibujar los gráficos coprrespondientes."
   ]
  },
  {
   "cell_type": "code",
   "execution_count": 1,
   "metadata": {},
   "outputs": [
    {
     "name": "stderr",
     "output_type": "stream",
     "text": [
      "Loading required package: lattice\n",
      "Loading required package: ggplot2\n"
     ]
    }
   ],
   "source": [
    "# Eliminamos los warnings del script ya que ensucian el script\n",
    "options(warn=-1)\n",
    "\n",
    "# Realizamos los imports necesarios\n",
    "library(caret)\n",
    "library(mlbench)\n",
    "library(ggplot2)"
   ]
  },
  {
   "cell_type": "markdown",
   "metadata": {},
   "source": [
    "## Carga de datos en R\n",
    "\n",
    "Lo primero que debemos hacer es cargar los datos de las muestras en R. Para ello previamente hemos descargado y descomprimido los [datos](https://archive.ics.uci.edu/ml/datasets/gene+expression+cancer+RNA-Seq) en el directorio `data`."
   ]
  },
  {
   "cell_type": "code",
   "execution_count": 2,
   "metadata": {
    "collapsed": true
   },
   "outputs": [],
   "source": [
    "geneLevel <- read.csv('./data/data.csv',stringsAsFactors = F)\n",
    "label <- read.csv('./data/labels.csv',stringsAsFactors = F)\n",
    "tcga <- merge(geneLevel, label, sort = F)\n",
    "tcga$X <- NULL"
   ]
  },
  {
   "cell_type": "markdown",
   "metadata": {},
   "source": [
    "Los datos cargados contienen 20531 variables y 801 instancias. Nuestro ordenador no puede trabar con tantos datos así que emplearemos los números de nuestro identificador universitario para escoger 100 variables."
   ]
  },
  {
   "cell_type": "code",
   "execution_count": 4,
   "metadata": {},
   "outputs": [
    {
     "data": {
      "text/html": [
       "<table>\n",
       "<thead><tr><th scope=col>gene_12382</th><th scope=col>gene_8057</th><th scope=col>gene_3787</th><th scope=col>gene_2160</th><th scope=col>gene_8570</th><th scope=col>gene_4382</th><th scope=col>gene_17560</th><th scope=col>gene_14235</th><th scope=col>gene_13011</th><th scope=col>gene_15132</th><th scope=col>⋯</th><th scope=col>gene_2156</th><th scope=col>gene_9361</th><th scope=col>gene_17324</th><th scope=col>gene_20408</th><th scope=col>gene_12380</th><th scope=col>gene_14946</th><th scope=col>gene_14994</th><th scope=col>gene_8981</th><th scope=col>gene_17533</th><th scope=col>Class</th></tr></thead>\n",
       "<tbody>\n",
       "\t<tr><td>0        </td><td>9.223816 </td><td>9.934118 </td><td>7.416983 </td><td>5.634797 </td><td>4.827128 </td><td>0.5918709</td><td>0        </td><td>4.511449 </td><td>6.559441 </td><td>⋯        </td><td>4.355777 </td><td>0.0000000</td><td>0.0000000</td><td>6.075477 </td><td>0.5918709</td><td>13.27560 </td><td>8.869082 </td><td> 9.359207</td><td>2.824951 </td><td>PRAD     </td></tr>\n",
       "\t<tr><td>0        </td><td>8.648091 </td><td>9.699633 </td><td>8.499599 </td><td>1.590818 </td><td>7.388103 </td><td>1.0043935</td><td>0        </td><td>2.006585 </td><td>7.346319 </td><td>⋯        </td><td>5.384385 </td><td>0.0000000</td><td>0.3236583</td><td>5.803031 </td><td>0.0000000</td><td>13.52978 </td><td>8.978141 </td><td> 5.835166</td><td>5.608505 </td><td>LUAD     </td></tr>\n",
       "\t<tr><td>0        </td><td>9.183333 </td><td>9.728832 </td><td>8.250957 </td><td>5.376231 </td><td>3.976345 </td><td>0.4525954</td><td>0        </td><td>2.228018 </td><td>6.640336 </td><td>⋯        </td><td>6.862092 </td><td>0.0000000</td><td>0.0000000</td><td>5.983573 </td><td>0.0000000</td><td>13.30788 </td><td>8.412574 </td><td>10.781515</td><td>3.796733 </td><td>PRAD     </td></tr>\n",
       "\t<tr><td>0        </td><td>9.130174 </td><td>9.352198 </td><td>8.414393 </td><td>4.933119 </td><td>6.128269 </td><td>0.0000000</td><td>0        </td><td>3.573556 </td><td>6.355998 </td><td>⋯        </td><td>6.292150 </td><td>0.0000000</td><td>0.4348817</td><td>7.023555 </td><td>0.0000000</td><td>13.03412 </td><td>8.979462 </td><td>13.573434</td><td>2.478532 </td><td>PRAD     </td></tr>\n",
       "\t<tr><td>0        </td><td>9.070676 </td><td>9.687939 </td><td>8.798692 </td><td>2.801097 </td><td>6.065038 </td><td>4.9603681</td><td>0        </td><td>6.034081 </td><td>7.276832 </td><td>⋯        </td><td>5.502560 </td><td>0.6493855</td><td>0.0000000</td><td>5.861429 </td><td>0.0000000</td><td>13.80710 </td><td>9.804430 </td><td>11.136728</td><td>4.304657 </td><td>BRCA     </td></tr>\n",
       "\t<tr><td>0        </td><td>8.648077 </td><td>9.610272 </td><td>9.036885 </td><td>4.149373 </td><td>4.853447 </td><td>1.6538855</td><td>0        </td><td>7.057948 </td><td>6.734303 </td><td>⋯        </td><td>5.400569 </td><td>2.1489341</td><td>0.0000000</td><td>5.355133 </td><td>0.0000000</td><td>13.35543 </td><td>8.258712 </td><td>10.392393</td><td>4.149373 </td><td>PRAD     </td></tr>\n",
       "</tbody>\n",
       "</table>\n"
      ],
      "text/latex": [
       "\\begin{tabular}{r|lllllllllllllllllllllllllllllllllllllllllllllllllllllllllllllllllllllllllllllllllllllllllllllllllllll}\n",
       " gene\\_12382 & gene\\_8057 & gene\\_3787 & gene\\_2160 & gene\\_8570 & gene\\_4382 & gene\\_17560 & gene\\_14235 & gene\\_13011 & gene\\_15132 & ⋯ & gene\\_2156 & gene\\_9361 & gene\\_17324 & gene\\_20408 & gene\\_12380 & gene\\_14946 & gene\\_14994 & gene\\_8981 & gene\\_17533 & Class\\\\\n",
       "\\hline\n",
       "\t 0         & 9.223816  & 9.934118  & 7.416983  & 5.634797  & 4.827128  & 0.5918709 & 0         & 4.511449  & 6.559441  & ⋯         & 4.355777  & 0.0000000 & 0.0000000 & 6.075477  & 0.5918709 & 13.27560  & 8.869082  &  9.359207 & 2.824951  & PRAD     \\\\\n",
       "\t 0         & 8.648091  & 9.699633  & 8.499599  & 1.590818  & 7.388103  & 1.0043935 & 0         & 2.006585  & 7.346319  & ⋯         & 5.384385  & 0.0000000 & 0.3236583 & 5.803031  & 0.0000000 & 13.52978  & 8.978141  &  5.835166 & 5.608505  & LUAD     \\\\\n",
       "\t 0         & 9.183333  & 9.728832  & 8.250957  & 5.376231  & 3.976345  & 0.4525954 & 0         & 2.228018  & 6.640336  & ⋯         & 6.862092  & 0.0000000 & 0.0000000 & 5.983573  & 0.0000000 & 13.30788  & 8.412574  & 10.781515 & 3.796733  & PRAD     \\\\\n",
       "\t 0         & 9.130174  & 9.352198  & 8.414393  & 4.933119  & 6.128269  & 0.0000000 & 0         & 3.573556  & 6.355998  & ⋯         & 6.292150  & 0.0000000 & 0.4348817 & 7.023555  & 0.0000000 & 13.03412  & 8.979462  & 13.573434 & 2.478532  & PRAD     \\\\\n",
       "\t 0         & 9.070676  & 9.687939  & 8.798692  & 2.801097  & 6.065038  & 4.9603681 & 0         & 6.034081  & 7.276832  & ⋯         & 5.502560  & 0.6493855 & 0.0000000 & 5.861429  & 0.0000000 & 13.80710  & 9.804430  & 11.136728 & 4.304657  & BRCA     \\\\\n",
       "\t 0         & 8.648077  & 9.610272  & 9.036885  & 4.149373  & 4.853447  & 1.6538855 & 0         & 7.057948  & 6.734303  & ⋯         & 5.400569  & 2.1489341 & 0.0000000 & 5.355133  & 0.0000000 & 13.35543  & 8.258712  & 10.392393 & 4.149373  & PRAD     \\\\\n",
       "\\end{tabular}\n"
      ],
      "text/markdown": [
       "\n",
       "gene_12382 | gene_8057 | gene_3787 | gene_2160 | gene_8570 | gene_4382 | gene_17560 | gene_14235 | gene_13011 | gene_15132 | ⋯ | gene_2156 | gene_9361 | gene_17324 | gene_20408 | gene_12380 | gene_14946 | gene_14994 | gene_8981 | gene_17533 | Class | \n",
       "|---|---|---|---|---|---|\n",
       "| 0         | 9.223816  | 9.934118  | 7.416983  | 5.634797  | 4.827128  | 0.5918709 | 0         | 4.511449  | 6.559441  | ⋯         | 4.355777  | 0.0000000 | 0.0000000 | 6.075477  | 0.5918709 | 13.27560  | 8.869082  |  9.359207 | 2.824951  | PRAD      | \n",
       "| 0         | 8.648091  | 9.699633  | 8.499599  | 1.590818  | 7.388103  | 1.0043935 | 0         | 2.006585  | 7.346319  | ⋯         | 5.384385  | 0.0000000 | 0.3236583 | 5.803031  | 0.0000000 | 13.52978  | 8.978141  |  5.835166 | 5.608505  | LUAD      | \n",
       "| 0         | 9.183333  | 9.728832  | 8.250957  | 5.376231  | 3.976345  | 0.4525954 | 0         | 2.228018  | 6.640336  | ⋯         | 6.862092  | 0.0000000 | 0.0000000 | 5.983573  | 0.0000000 | 13.30788  | 8.412574  | 10.781515 | 3.796733  | PRAD      | \n",
       "| 0         | 9.130174  | 9.352198  | 8.414393  | 4.933119  | 6.128269  | 0.0000000 | 0         | 3.573556  | 6.355998  | ⋯         | 6.292150  | 0.0000000 | 0.4348817 | 7.023555  | 0.0000000 | 13.03412  | 8.979462  | 13.573434 | 2.478532  | PRAD      | \n",
       "| 0         | 9.070676  | 9.687939  | 8.798692  | 2.801097  | 6.065038  | 4.9603681 | 0         | 6.034081  | 7.276832  | ⋯         | 5.502560  | 0.6493855 | 0.0000000 | 5.861429  | 0.0000000 | 13.80710  | 9.804430  | 11.136728 | 4.304657  | BRCA      | \n",
       "| 0         | 8.648077  | 9.610272  | 9.036885  | 4.149373  | 4.853447  | 1.6538855 | 0         | 7.057948  | 6.734303  | ⋯         | 5.400569  | 2.1489341 | 0.0000000 | 5.355133  | 0.0000000 | 13.35543  | 8.258712  | 10.392393 | 4.149373  | PRAD      | \n",
       "\n",
       "\n"
      ],
      "text/plain": [
       "  gene_12382 gene_8057 gene_3787 gene_2160 gene_8570 gene_4382 gene_17560\n",
       "1 0          9.223816  9.934118  7.416983  5.634797  4.827128  0.5918709 \n",
       "2 0          8.648091  9.699633  8.499599  1.590818  7.388103  1.0043935 \n",
       "3 0          9.183333  9.728832  8.250957  5.376231  3.976345  0.4525954 \n",
       "4 0          9.130174  9.352198  8.414393  4.933119  6.128269  0.0000000 \n",
       "5 0          9.070676  9.687939  8.798692  2.801097  6.065038  4.9603681 \n",
       "6 0          8.648077  9.610272  9.036885  4.149373  4.853447  1.6538855 \n",
       "  gene_14235 gene_13011 gene_15132 ⋯ gene_2156 gene_9361 gene_17324 gene_20408\n",
       "1 0          4.511449   6.559441   ⋯ 4.355777  0.0000000 0.0000000  6.075477  \n",
       "2 0          2.006585   7.346319   ⋯ 5.384385  0.0000000 0.3236583  5.803031  \n",
       "3 0          2.228018   6.640336   ⋯ 6.862092  0.0000000 0.0000000  5.983573  \n",
       "4 0          3.573556   6.355998   ⋯ 6.292150  0.0000000 0.4348817  7.023555  \n",
       "5 0          6.034081   7.276832   ⋯ 5.502560  0.6493855 0.0000000  5.861429  \n",
       "6 0          7.057948   6.734303   ⋯ 5.400569  2.1489341 0.0000000  5.355133  \n",
       "  gene_12380 gene_14946 gene_14994 gene_8981 gene_17533 Class\n",
       "1 0.5918709  13.27560   8.869082    9.359207 2.824951   PRAD \n",
       "2 0.0000000  13.52978   8.978141    5.835166 5.608505   LUAD \n",
       "3 0.0000000  13.30788   8.412574   10.781515 3.796733   PRAD \n",
       "4 0.0000000  13.03412   8.979462   13.573434 2.478532   PRAD \n",
       "5 0.0000000  13.80710   9.804430   11.136728 4.304657   BRCA \n",
       "6 0.0000000  13.35543   8.258712   10.392393 4.149373   PRAD "
      ]
     },
     "metadata": {},
     "output_type": "display_data"
    }
   ],
   "source": [
    "set.seed(236856) #Pon aquí los número de tu UO\n",
    "tcga.filtered <- tcga[,c(sample(ncol(tcga)-1,100),ncol(tcga))]\n",
    "\n",
    "# Mostramos los datos con los que trabajaremos.\n",
    "head(tcga.filtered)"
   ]
  },
  {
   "cell_type": "markdown",
   "metadata": {},
   "source": [
    "A continuación seleccionamos el porcentaje de datos para entrenamiento y para la evaluación posterior. Como en este ejemplo tenemos una gran cantidad de datos, por lo tanto seleccionaremos un 75% de los datos para entrenar nuestros modelos y un 25% para validarlo."
   ]
  },
  {
   "cell_type": "code",
   "execution_count": 4,
   "metadata": {
    "collapsed": true
   },
   "outputs": [],
   "source": [
    "inTrain <- createDataPartition(\n",
    "    ## indicamos la clase\n",
    "    y = tcga.filtered$Class,\n",
    "    \n",
    "    ## el porcentaje de instancias para entrenamiento\n",
    "    p = .75,\n",
    "    \n",
    "    ## controla el formato de salida\n",
    "    list = FALSE\n",
    ")\n",
    "\n",
    "training <- tcga.filtered[ inTrain,]\n",
    "testing <- tcga.filtered[-inTrain,]"
   ]
  },
  {
   "cell_type": "markdown",
   "metadata": {},
   "source": [
    "Ahora, para simplificar el desarrollo seleccionaremos como nuestro método de control el de validación cruzada, yua que es el que mayor precisión nos da"
   ]
  },
  {
   "cell_type": "code",
   "execution_count": 5,
   "metadata": {
    "collapsed": true
   },
   "outputs": [],
   "source": [
    "# Usaremos el método cross-validation ya que es el que mayor precisión nos da.\n",
    "ctrl <- trainControl(method=\"cv\")"
   ]
  },
  {
   "cell_type": "markdown",
   "metadata": {},
   "source": [
    "## Árbol de decisión\n",
    "\n",
    "De acuerdo con wikipedia, un árbol de decisión es un mecanismo en el que dado un conjunto de datos se fabrican diagramas de construcciones lógicas, muy similares a los sistemas de predicción basados en reglas, que sirven para representar y categorizar una serie de condiciones que ocurren de forma sucesiva, para la resolución de un problema.\n",
    "\n",
    "Tanto en teroría como en prácticas vimos distintos modelos de árboles de decisión, a continuación implementaremos los modelos J48, rpart y rpart2 para comparar su precisión para el problema dado."
   ]
  },
  {
   "cell_type": "code",
   "execution_count": 90,
   "metadata": {
    "collapsed": true
   },
   "outputs": [],
   "source": [
    "# Plantamos la semilla para obtener un valor constante tras cada ejecución.\n",
    "set.seed(236856)\n",
    "\n",
    "# Realizamos el entrenamiento de nuestro modelo con J48.\n",
    "c4.5Fit <- train(\n",
    "    Class ~ .,\n",
    "    data = training,\n",
    "    method = \"J48\",\n",
    "    trControl = ctrl\n",
    ")\n",
    "\n",
    "# Realizamos el entrenamiento de nuestro modelo con rpart.\n",
    "rpartFit <- train(\n",
    "  Class ~ .,\n",
    "  data = training,\n",
    "  method = \"rpart\",\n",
    "  trControl = ctrl,\n",
    "  tuneLength = 6\n",
    ")\n",
    "\n",
    "# Realizamos el entrenamiento de nuestro modelo con rpart2.\n",
    "rpart2Fit <- train(\n",
    "  Class ~ .,\n",
    "  data = training,\n",
    "  method = \"rpart2\",\n",
    "  trControl = ctrl,\n",
    "  tuneLength = 6\n",
    ")"
   ]
  },
  {
   "cell_type": "markdown",
   "metadata": {},
   "source": [
    "Para comparar los modelos de manera inicial emplearemos el sistema de matriz de confusión."
   ]
  },
  {
   "cell_type": "code",
   "execution_count": 46,
   "metadata": {},
   "outputs": [
    {
     "data": {
      "text/html": [
       "<dl class=dl-horizontal>\n",
       "\t<dt>Accuracy</dt>\n",
       "\t\t<dd>0.899497487437186</dd>\n",
       "\t<dt>Kappa</dt>\n",
       "\t\t<dd>0.867342177188187</dd>\n",
       "\t<dt>AccuracyLower</dt>\n",
       "\t\t<dd>0.849053874252671</dd>\n",
       "\t<dt>AccuracyUpper</dt>\n",
       "\t\t<dd>0.937522617769294</dd>\n",
       "</dl>\n"
      ],
      "text/latex": [
       "\\begin{description*}\n",
       "\\item[Accuracy] 0.899497487437186\n",
       "\\item[Kappa] 0.867342177188187\n",
       "\\item[AccuracyLower] 0.849053874252671\n",
       "\\item[AccuracyUpper] 0.937522617769294\n",
       "\\end{description*}\n"
      ],
      "text/markdown": [
       "Accuracy\n",
       ":   0.899497487437186Kappa\n",
       ":   0.867342177188187AccuracyLower\n",
       ":   0.849053874252671AccuracyUpper\n",
       ":   0.937522617769294\n",
       "\n"
      ],
      "text/plain": [
       "     Accuracy         Kappa AccuracyLower AccuracyUpper \n",
       "    0.8994975     0.8673422     0.8490539     0.9375226 "
      ]
     },
     "metadata": {},
     "output_type": "display_data"
    },
    {
     "data": {
      "text/html": [
       "<dl class=dl-horizontal>\n",
       "\t<dt>Accuracy</dt>\n",
       "\t\t<dd>0.85427135678392</dd>\n",
       "\t<dt>Kappa</dt>\n",
       "\t\t<dd>0.806996421524364</dd>\n",
       "\t<dt>AccuracyLower</dt>\n",
       "\t\t<dd>0.797459935170381</dd>\n",
       "\t<dt>AccuracyUpper</dt>\n",
       "\t\t<dd>0.900180583379986</dd>\n",
       "</dl>\n"
      ],
      "text/latex": [
       "\\begin{description*}\n",
       "\\item[Accuracy] 0.85427135678392\n",
       "\\item[Kappa] 0.806996421524364\n",
       "\\item[AccuracyLower] 0.797459935170381\n",
       "\\item[AccuracyUpper] 0.900180583379986\n",
       "\\end{description*}\n"
      ],
      "text/markdown": [
       "Accuracy\n",
       ":   0.85427135678392Kappa\n",
       ":   0.806996421524364AccuracyLower\n",
       ":   0.797459935170381AccuracyUpper\n",
       ":   0.900180583379986\n",
       "\n"
      ],
      "text/plain": [
       "     Accuracy         Kappa AccuracyLower AccuracyUpper \n",
       "    0.8542714     0.8069964     0.7974599     0.9001806 "
      ]
     },
     "metadata": {},
     "output_type": "display_data"
    },
    {
     "data": {
      "text/html": [
       "<dl class=dl-horizontal>\n",
       "\t<dt>Accuracy</dt>\n",
       "\t\t<dd>0.85427135678392</dd>\n",
       "\t<dt>Kappa</dt>\n",
       "\t\t<dd>0.806996421524364</dd>\n",
       "\t<dt>AccuracyLower</dt>\n",
       "\t\t<dd>0.797459935170381</dd>\n",
       "\t<dt>AccuracyUpper</dt>\n",
       "\t\t<dd>0.900180583379986</dd>\n",
       "</dl>\n"
      ],
      "text/latex": [
       "\\begin{description*}\n",
       "\\item[Accuracy] 0.85427135678392\n",
       "\\item[Kappa] 0.806996421524364\n",
       "\\item[AccuracyLower] 0.797459935170381\n",
       "\\item[AccuracyUpper] 0.900180583379986\n",
       "\\end{description*}\n"
      ],
      "text/markdown": [
       "Accuracy\n",
       ":   0.85427135678392Kappa\n",
       ":   0.806996421524364AccuracyLower\n",
       ":   0.797459935170381AccuracyUpper\n",
       ":   0.900180583379986\n",
       "\n"
      ],
      "text/plain": [
       "     Accuracy         Kappa AccuracyLower AccuracyUpper \n",
       "    0.8542714     0.8069964     0.7974599     0.9001806 "
      ]
     },
     "metadata": {},
     "output_type": "display_data"
    }
   ],
   "source": [
    "# Matriz de confusión correspondiente a j48\n",
    "confusionMatrix(predict(c4.5Fit,testing), factor(testing$Class))$overall[1:4]\n",
    "\n",
    "# Matriz de confusión correspondiente a rpart\n",
    "confusionMatrix(predict(rpartFit,testing), factor(testing$Class))$overall[1:4]\n",
    "\n",
    "#Matriz de confusión correspondiente a rpart2\n",
    "confusionMatrix(predict(rpart2Fit,testing), factor(testing$Class))$overall[1:4]"
   ]
  },
  {
   "cell_type": "markdown",
   "metadata": {},
   "source": [
    "De los modelos anteriores ( j48, rpart y rpart2 ) obtenemos que aquel que nos da una precisión mayor sobre los datos de test es el j48 con una precisión de 0.879396984924623."
   ]
  },
  {
   "cell_type": "markdown",
   "metadata": {},
   "source": [
    "## Vecinos más cercanos"
   ]
  },
  {
   "cell_type": "code",
   "execution_count": 125,
   "metadata": {},
   "outputs": [
    {
     "data": {
      "text/html": [
       "<table>\n",
       "<thead><tr><th scope=col>k</th><th scope=col>Accuracy</th><th scope=col>Kappa</th></tr></thead>\n",
       "<tbody>\n",
       "\t<tr><td>5        </td><td>0.9652056</td><td>0.9537264</td></tr>\n",
       "</tbody>\n",
       "</table>\n"
      ],
      "text/latex": [
       "\\begin{tabular}{r|lll}\n",
       " k & Accuracy & Kappa\\\\\n",
       "\\hline\n",
       "\t 5         & 0.9652056 & 0.9537264\\\\\n",
       "\\end{tabular}\n"
      ],
      "text/markdown": [
       "\n",
       "k | Accuracy | Kappa | \n",
       "|---|\n",
       "| 5         | 0.9652056 | 0.9537264 | \n",
       "\n",
       "\n"
      ],
      "text/plain": [
       "  k Accuracy  Kappa    \n",
       "1 5 0.9652056 0.9537264"
      ]
     },
     "metadata": {},
     "output_type": "display_data"
    }
   ],
   "source": [
    "# Plantamos la semilla para obtener un valor constante tras cada ejecución.\n",
    "set.seed(236856)\n",
    "\n",
    "# Realizamos el entrenamiento de nuestro modelo con rpart2.\n",
    "knnFit <- train(\n",
    "  Class ~ .,\n",
    "  data = training,\n",
    "  method = \"knn\",\n",
    "  trControl = ctrl,\n",
    "  tuneLength = 6\n",
    ")\n",
    "\n",
    "knnFit$results[rownames(knnFit$bestTune),1:3]"
   ]
  },
  {
   "cell_type": "code",
   "execution_count": 126,
   "metadata": {},
   "outputs": [
    {
     "data": {
      "text/html": [
       "<dl class=dl-horizontal>\n",
       "\t<dt>Accuracy</dt>\n",
       "\t\t<dd>0.969849246231156</dd>\n",
       "\t<dt>Kappa</dt>\n",
       "\t\t<dd>0.960250349557227</dd>\n",
       "\t<dt>AccuracyLower</dt>\n",
       "\t\t<dd>0.935532771370367</dd>\n",
       "\t<dt>AccuracyUpper</dt>\n",
       "\t\t<dd>0.988856429616452</dd>\n",
       "</dl>\n"
      ],
      "text/latex": [
       "\\begin{description*}\n",
       "\\item[Accuracy] 0.969849246231156\n",
       "\\item[Kappa] 0.960250349557227\n",
       "\\item[AccuracyLower] 0.935532771370367\n",
       "\\item[AccuracyUpper] 0.988856429616452\n",
       "\\end{description*}\n"
      ],
      "text/markdown": [
       "Accuracy\n",
       ":   0.969849246231156Kappa\n",
       ":   0.960250349557227AccuracyLower\n",
       ":   0.935532771370367AccuracyUpper\n",
       ":   0.988856429616452\n",
       "\n"
      ],
      "text/plain": [
       "     Accuracy         Kappa AccuracyLower AccuracyUpper \n",
       "    0.9698492     0.9602503     0.9355328     0.9888564 "
      ]
     },
     "metadata": {},
     "output_type": "display_data"
    }
   ],
   "source": [
    "confusionMatrix(predict(knnFit,testing), factor(testing$Class))$overall[1:4]"
   ]
  },
  {
   "cell_type": "markdown",
   "metadata": {},
   "source": [
    "## Redes neuronales\n",
    "\n",
    "Este es un método de clasificación no paramétrico, que estima el valor de la función de densidad de probabilidad o directamente la probabilidad a posteriori de que un elemento x pertenezca a la clase C a partir de la información proporcionada por el conjunto de prototipos. En el proceso de aprendizaje no se hace ninguna suposición acerca de la distribución de las variables predictoras.\n",
    "\n",
    "Como esquema de validación de nuestras redes emplearemos bootstrap con 10 repeticiones. "
   ]
  },
  {
   "cell_type": "code",
   "execution_count": 20,
   "metadata": {
    "collapsed": true
   },
   "outputs": [],
   "source": [
    "# Esquema de validación boostrap con 10 repeticiones.\n",
    "ctrl <- trainControl( \n",
    "    method = \"boot632\", \n",
    "    number = 10\n",
    ")"
   ]
  },
  {
   "cell_type": "markdown",
   "metadata": {},
   "source": [
    "Ahora pasamos a crear un primer modelo de red neuronal con una sola capa oculta. Para determinar el número de unidades ocultas pedimos a la función train que pruebe varios valores de 1 hasta 10."
   ]
  },
  {
   "cell_type": "code",
   "execution_count": 60,
   "metadata": {},
   "outputs": [],
   "source": [
    "# Plantamos la semilla para obtener un valor constante tras cada ejecución.\n",
    "set.seed(236856)\n",
    "\n",
    "# Realizamos el entrenamiento de nuestro modelo\n",
    "nn1LFit <- train(\n",
    "    Class ~ .,\n",
    "    data = training,\n",
    "    method = \"mlp\",\n",
    "    trControl = ctrl,\n",
    "    tuneGrid = data.frame(size=seq(1,10,2))\n",
    ")"
   ]
  },
  {
   "cell_type": "markdown",
   "metadata": {},
   "source": [
    "El modelo anterior está construido con una sola capa, lo que es ideal para datos lieanrmente separables, sin embargo no sabemos si este es nuestro caso o no, por lo tanto exploraremos también modelos de 2 y 3 capas ocultas."
   ]
  },
  {
   "cell_type": "code",
   "execution_count": 64,
   "metadata": {},
   "outputs": [],
   "source": [
    "# Plantamos la semilla para obtener un valor constante tras cada ejecución.\n",
    "set.seed(236856)\n",
    "\n",
    "# Realizamos el entrenamiento de nuestro modelo\n",
    "nn2LFit <- train(\n",
    "    Class ~ .,\n",
    "    data = training,\n",
    "    method = \"mlpML\",\n",
    "    trControl = ctrl,\n",
    "    tuneGrid = expand.grid(layer1=seq(5,9,2), layer2=seq(5,9,2), layer3=0)\n",
    ")"
   ]
  },
  {
   "cell_type": "markdown",
   "metadata": {},
   "source": [
    "Y por últmo realizaremos un modelo con 3 capas ocultas."
   ]
  },
  {
   "cell_type": "code",
   "execution_count": 65,
   "metadata": {},
   "outputs": [],
   "source": [
    "# Plantamos la semilla para obtener un valor constante tras cada ejecución.\n",
    "set.seed(236856)\n",
    "\n",
    "# Realizamos el entrenamiento de nuestro modelo\n",
    "nn3LFit <- train(\n",
    "    Class ~ .,\n",
    "    data = training,\n",
    "    method = \"mlpML\",\n",
    "    trControl = ctrl,\n",
    "    tuneGrid = expand.grid(layer1=seq(5,7,2), layer2=seq(5,7,2), layer3=seq(5,7,2))\n",
    ")"
   ]
  },
  {
   "cell_type": "markdown",
   "metadata": {},
   "source": [
    "Ahora exploraremos los resultados aportados por los dinstintos modelos.\n",
    "\n",
    "**1 capa oculta**"
   ]
  },
  {
   "cell_type": "code",
   "execution_count": 79,
   "metadata": {},
   "outputs": [
    {
     "data": {
      "text/html": [
       "<table>\n",
       "<thead><tr><th></th><th scope=col>size</th><th scope=col>Accuracy</th><th scope=col>Kappa</th><th scope=col>AccuracySD</th></tr></thead>\n",
       "<tbody>\n",
       "\t<tr><th scope=row>4</th><td>7         </td><td>0.3811813 </td><td>0.02259087</td><td>0.05766686</td></tr>\n",
       "</tbody>\n",
       "</table>\n"
      ],
      "text/latex": [
       "\\begin{tabular}{r|llll}\n",
       "  & size & Accuracy & Kappa & AccuracySD\\\\\n",
       "\\hline\n",
       "\t4 & 7          & 0.3811813  & 0.02259087 & 0.05766686\\\\\n",
       "\\end{tabular}\n"
      ],
      "text/markdown": [
       "\n",
       "| <!--/--> | size | Accuracy | Kappa | AccuracySD | \n",
       "|---|\n",
       "| 4 | 7          | 0.3811813  | 0.02259087 | 0.05766686 | \n",
       "\n",
       "\n"
      ],
      "text/plain": [
       "  size Accuracy  Kappa      AccuracySD\n",
       "4 7    0.3811813 0.02259087 0.05766686"
      ]
     },
     "metadata": {},
     "output_type": "display_data"
    },
    {
     "data": {
      "text/html": [
       "<dl class=dl-horizontal>\n",
       "\t<dt>Accuracy</dt>\n",
       "\t\t<dd>0.376884422110553</dd>\n",
       "\t<dt>Kappa</dt>\n",
       "\t\t<dd>0</dd>\n",
       "\t<dt>AccuracyLower</dt>\n",
       "\t\t<dd>0.309335425398413</dd>\n",
       "\t<dt>AccuracyUpper</dt>\n",
       "\t\t<dd>0.448160630834183</dd>\n",
       "</dl>\n"
      ],
      "text/latex": [
       "\\begin{description*}\n",
       "\\item[Accuracy] 0.376884422110553\n",
       "\\item[Kappa] 0\n",
       "\\item[AccuracyLower] 0.309335425398413\n",
       "\\item[AccuracyUpper] 0.448160630834183\n",
       "\\end{description*}\n"
      ],
      "text/markdown": [
       "Accuracy\n",
       ":   0.376884422110553Kappa\n",
       ":   0AccuracyLower\n",
       ":   0.309335425398413AccuracyUpper\n",
       ":   0.448160630834183\n",
       "\n"
      ],
      "text/plain": [
       "     Accuracy         Kappa AccuracyLower AccuracyUpper \n",
       "    0.3768844     0.0000000     0.3093354     0.4481606 "
      ]
     },
     "metadata": {},
     "output_type": "display_data"
    }
   ],
   "source": [
    "# Modelo de una única capa oculta con 7 neuronas.\n",
    "nn1LFit$results[rownames(nn1LFit$bestTune),1:4]\n",
    "\n",
    "# Matriz de confusión para el modelo de una única capa oculta y 7 neuronas.\n",
    "confusionMatrix(predict(nn1LFit,testing), factor(testing$Class))$overall[1:4]"
   ]
  },
  {
   "cell_type": "markdown",
   "metadata": {},
   "source": [
    "Entonces, con los datos anteriores podemos ver que el modelo de una única capa oculta con 7 neuronas consigue un 38% de acierto en los datos de prueba y un 37% para los datos de validación. Lo que nos dice que la precisión del modelo no es aceptable.\n",
    "\n",
    "**2 capas oculta**"
   ]
  },
  {
   "cell_type": "code",
   "execution_count": 80,
   "metadata": {},
   "outputs": [
    {
     "data": {
      "text/html": [
       "<table>\n",
       "<thead><tr><th></th><th scope=col>layer1</th><th scope=col>layer2</th><th scope=col>layer3</th><th scope=col>Accuracy</th></tr></thead>\n",
       "<tbody>\n",
       "\t<tr><th scope=row>2</th><td>5       </td><td>7       </td><td>0       </td><td>0.381913</td></tr>\n",
       "</tbody>\n",
       "</table>\n"
      ],
      "text/latex": [
       "\\begin{tabular}{r|llll}\n",
       "  & layer1 & layer2 & layer3 & Accuracy\\\\\n",
       "\\hline\n",
       "\t2 & 5        & 7        & 0        & 0.381913\\\\\n",
       "\\end{tabular}\n"
      ],
      "text/markdown": [
       "\n",
       "| <!--/--> | layer1 | layer2 | layer3 | Accuracy | \n",
       "|---|\n",
       "| 2 | 5        | 7        | 0        | 0.381913 | \n",
       "\n",
       "\n"
      ],
      "text/plain": [
       "  layer1 layer2 layer3 Accuracy\n",
       "2 5      7      0      0.381913"
      ]
     },
     "metadata": {},
     "output_type": "display_data"
    },
    {
     "data": {
      "text/html": [
       "<dl class=dl-horizontal>\n",
       "\t<dt>Accuracy</dt>\n",
       "\t\t<dd>0.376884422110553</dd>\n",
       "\t<dt>Kappa</dt>\n",
       "\t\t<dd>0</dd>\n",
       "\t<dt>AccuracyLower</dt>\n",
       "\t\t<dd>0.309335425398413</dd>\n",
       "\t<dt>AccuracyUpper</dt>\n",
       "\t\t<dd>0.448160630834183</dd>\n",
       "</dl>\n"
      ],
      "text/latex": [
       "\\begin{description*}\n",
       "\\item[Accuracy] 0.376884422110553\n",
       "\\item[Kappa] 0\n",
       "\\item[AccuracyLower] 0.309335425398413\n",
       "\\item[AccuracyUpper] 0.448160630834183\n",
       "\\end{description*}\n"
      ],
      "text/markdown": [
       "Accuracy\n",
       ":   0.376884422110553Kappa\n",
       ":   0AccuracyLower\n",
       ":   0.309335425398413AccuracyUpper\n",
       ":   0.448160630834183\n",
       "\n"
      ],
      "text/plain": [
       "     Accuracy         Kappa AccuracyLower AccuracyUpper \n",
       "    0.3768844     0.0000000     0.3093354     0.4481606 "
      ]
     },
     "metadata": {},
     "output_type": "display_data"
    }
   ],
   "source": [
    "# Modelo de 2 capas oculta con 5-7 neuronas.\n",
    "nn2LFit$results[rownames(nn2LFit$bestTune),1:4]\n",
    "\n",
    "# Matriz de confusión para el modelo de una única capa oculta y 7 neuronas.\n",
    "confusionMatrix(predict(nn2LFit,testing), factor(testing$Class))$overall[1:4]"
   ]
  },
  {
   "cell_type": "markdown",
   "metadata": {},
   "source": [
    "Para el modelo de dos capas obtenemos que la precisión sobre los datos de entrenamiento aumenta un poco, del 38.11% al 38.19%, sin embargo la precisión se mantiene idéntica a la del modelo de una única capa oculta para los datos de validación.\n",
    "\n",
    "**3 capas ocultas**"
   ]
  },
  {
   "cell_type": "code",
   "execution_count": 81,
   "metadata": {},
   "outputs": [
    {
     "data": {
      "text/html": [
       "<table>\n",
       "<thead><tr><th scope=col>layer1</th><th scope=col>layer2</th><th scope=col>layer3</th><th scope=col>Accuracy</th></tr></thead>\n",
       "<tbody>\n",
       "\t<tr><td>5        </td><td>5        </td><td>5        </td><td>0.3719919</td></tr>\n",
       "</tbody>\n",
       "</table>\n"
      ],
      "text/latex": [
       "\\begin{tabular}{r|llll}\n",
       " layer1 & layer2 & layer3 & Accuracy\\\\\n",
       "\\hline\n",
       "\t 5         & 5         & 5         & 0.3719919\\\\\n",
       "\\end{tabular}\n"
      ],
      "text/markdown": [
       "\n",
       "layer1 | layer2 | layer3 | Accuracy | \n",
       "|---|\n",
       "| 5         | 5         | 5         | 0.3719919 | \n",
       "\n",
       "\n"
      ],
      "text/plain": [
       "  layer1 layer2 layer3 Accuracy \n",
       "1 5      5      5      0.3719919"
      ]
     },
     "metadata": {},
     "output_type": "display_data"
    },
    {
     "data": {
      "text/html": [
       "<dl class=dl-horizontal>\n",
       "\t<dt>Accuracy</dt>\n",
       "\t\t<dd>0.376884422110553</dd>\n",
       "\t<dt>Kappa</dt>\n",
       "\t\t<dd>0</dd>\n",
       "\t<dt>AccuracyLower</dt>\n",
       "\t\t<dd>0.309335425398413</dd>\n",
       "\t<dt>AccuracyUpper</dt>\n",
       "\t\t<dd>0.448160630834183</dd>\n",
       "</dl>\n"
      ],
      "text/latex": [
       "\\begin{description*}\n",
       "\\item[Accuracy] 0.376884422110553\n",
       "\\item[Kappa] 0\n",
       "\\item[AccuracyLower] 0.309335425398413\n",
       "\\item[AccuracyUpper] 0.448160630834183\n",
       "\\end{description*}\n"
      ],
      "text/markdown": [
       "Accuracy\n",
       ":   0.376884422110553Kappa\n",
       ":   0AccuracyLower\n",
       ":   0.309335425398413AccuracyUpper\n",
       ":   0.448160630834183\n",
       "\n"
      ],
      "text/plain": [
       "     Accuracy         Kappa AccuracyLower AccuracyUpper \n",
       "    0.3768844     0.0000000     0.3093354     0.4481606 "
      ]
     },
     "metadata": {},
     "output_type": "display_data"
    }
   ],
   "source": [
    "# Modelo de tres capas ocultas con 5-5-5 neuronas.\n",
    "nn3LFit$results[rownames(nn3LFit$bestTune),1:4]\n",
    "\n",
    "# Matriz de confusión para el modelo de una única capa oculta y 7 neuronas.\n",
    "confusionMatrix(predict(nn3LFit,testing), factor(testing$Class))$overall[1:4]"
   ]
  },
  {
   "cell_type": "markdown",
   "metadata": {},
   "source": [
    "Para el modelo de 3 capas ocultas, en su configuración óptima tenemos que la precisión sobre los datos de entrenamiento se ve reducida pero la precisión sobre los datos de valicación se mantiene constante."
   ]
  },
  {
   "cell_type": "code",
   "execution_count": 93,
   "metadata": {},
   "outputs": [
    {
     "data": {
      "text/plain": [
       "\n",
       "\tPaired t-test\n",
       "\n",
       "data:  nn1LFit$resample$Accuracy and knnFitTraining$resample$Accuracy\n",
       "t = -28.337, df = 9, p-value = 4.13e-10\n",
       "alternative hypothesis: true difference in means is not equal to 0\n",
       "95 percent confidence interval:\n",
       " -0.6121973 -0.5216784\n",
       "sample estimates:\n",
       "mean of the differences \n",
       "             -0.5669379 \n"
      ]
     },
     "metadata": {},
     "output_type": "display_data"
    }
   ],
   "source": [
    "t.test(nn1LFit$resample$Accuracy, knnFitTraining$resample$Accuracy,paired = T)"
   ]
  },
  {
   "cell_type": "code",
   "execution_count": 95,
   "metadata": {},
   "outputs": [
    {
     "data": {
      "text/plain": [
       "\n",
       "\tPaired t-test\n",
       "\n",
       "data:  nn1LFit$resample$Accuracy and c4.5Fit$resample$Accuracy\n",
       "t = -21.694, df = 9, p-value = 4.427e-09\n",
       "alternative hypothesis: true difference in means is not equal to 0\n",
       "95 percent confidence interval:\n",
       " -0.4902944 -0.3976995\n",
       "sample estimates:\n",
       "mean of the differences \n",
       "              -0.443997 \n"
      ]
     },
     "metadata": {},
     "output_type": "display_data"
    }
   ],
   "source": [
    "t.test(nn1LFit$resample$Accuracy, c4.5Fit$resample$Accuracy,paired = T)"
   ]
  },
  {
   "cell_type": "code",
   "execution_count": 31,
   "metadata": {},
   "outputs": [
    {
     "data": {
      "text/plain": [
       "\n",
       "\tExact binomial test\n",
       "\n",
       "data:  round(c(0.4848485, 1 - 0.4848485) * nrow(testing))\n",
       "number of successes = 96, number of trials = 199, p-value = 0.1331\n",
       "alternative hypothesis: true probability of success is not equal to 0.4292929\n",
       "95 percent confidence interval:\n",
       " 0.4111959 0.5541600\n",
       "sample estimates:\n",
       "probability of success \n",
       "             0.4824121 \n"
      ]
     },
     "metadata": {},
     "output_type": "display_data"
    }
   ],
   "source": [
    "binom.test(round(c(0.4848485,1-0.4848485)*nrow(testing)),p = 0.4292929)"
   ]
  },
  {
   "cell_type": "markdown",
   "metadata": {},
   "source": [
    "## Máquinas vector soporte"
   ]
  },
  {
   "cell_type": "code",
   "execution_count": 119,
   "metadata": {
    "collapsed": true
   },
   "outputs": [],
   "source": [
    "ctrl <- trainControl( method = \"cv\")\n",
    "set.seed(236856)\n",
    "svmLinealFit <- train(\n",
    "    Class ~ .,\n",
    "    data = training,\n",
    "    method = \"svmLinear\",\n",
    "    trControl = ctrl,\n",
    "    tuneGrid = data.frame(C=100),\n",
    "    scale = FALSE\n",
    ")\n",
    "\n",
    "set.seed(236856)\n",
    "svmPolyFit <- train(\n",
    "    Class ~ .,\n",
    "    data = training,\n",
    "    method = \"svmPoly\",\n",
    "    trControl = ctrl,\n",
    "    tuneGrid = expand.grid(degree=c(2,3),C=c(1,5),scale = c(0.1, 0.5, 1))\n",
    ")\n",
    "\n",
    "set.seed(236856)\n",
    "svmRadialFit <- train(\n",
    "    Class ~ .,\n",
    "    data = training,\n",
    "    method = \"svmRadial\",\n",
    "    trControl = ctrl, \n",
    "    tuneGrid = expand.grid(sigma=c(1,3),C=c(1,5)) \n",
    ")"
   ]
  },
  {
   "cell_type": "code",
   "execution_count": 113,
   "metadata": {},
   "outputs": [
    {
     "data": {
      "text/html": [
       "<table>\n",
       "<thead><tr><th scope=col>Accuracy</th><th scope=col>Kappa</th></tr></thead>\n",
       "<tbody>\n",
       "\t<tr><td>0.9799917</td><td>0.9735754</td></tr>\n",
       "</tbody>\n",
       "</table>\n"
      ],
      "text/latex": [
       "\\begin{tabular}{r|ll}\n",
       " Accuracy & Kappa\\\\\n",
       "\\hline\n",
       "\t 0.9799917 & 0.9735754\\\\\n",
       "\\end{tabular}\n"
      ],
      "text/markdown": [
       "\n",
       "Accuracy | Kappa | \n",
       "|---|\n",
       "| 0.9799917 | 0.9735754 | \n",
       "\n",
       "\n"
      ],
      "text/plain": [
       "  Accuracy  Kappa    \n",
       "1 0.9799917 0.9735754"
      ]
     },
     "metadata": {},
     "output_type": "display_data"
    },
    {
     "data": {
      "text/html": [
       "<table>\n",
       "<thead><tr><th></th><th scope=col>degree</th><th scope=col>C</th><th scope=col>scale</th><th scope=col>Accuracy</th><th scope=col>Kappa</th></tr></thead>\n",
       "<tbody>\n",
       "\t<tr><th scope=row>7</th><td>3        </td><td>1        </td><td>0.1      </td><td>0.9817686</td><td>0.9758806</td></tr>\n",
       "</tbody>\n",
       "</table>\n"
      ],
      "text/latex": [
       "\\begin{tabular}{r|lllll}\n",
       "  & degree & C & scale & Accuracy & Kappa\\\\\n",
       "\\hline\n",
       "\t7 & 3         & 1         & 0.1       & 0.9817686 & 0.9758806\\\\\n",
       "\\end{tabular}\n"
      ],
      "text/markdown": [
       "\n",
       "| <!--/--> | degree | C | scale | Accuracy | Kappa | \n",
       "|---|\n",
       "| 7 | 3         | 1         | 0.1       | 0.9817686 | 0.9758806 | \n",
       "\n",
       "\n"
      ],
      "text/plain": [
       "  degree C scale Accuracy  Kappa    \n",
       "7 3      1 0.1   0.9817686 0.9758806"
      ]
     },
     "metadata": {},
     "output_type": "display_data"
    },
    {
     "data": {
      "text/html": [
       "<table>\n",
       "<thead><tr><th></th><th scope=col>sigma</th><th scope=col>C</th><th scope=col>Accuracy</th><th scope=col>Kappa</th></tr></thead>\n",
       "<tbody>\n",
       "\t<tr><th scope=row>3</th><td>3        </td><td>1        </td><td>0.3737775</td><td>0        </td></tr>\n",
       "</tbody>\n",
       "</table>\n"
      ],
      "text/latex": [
       "\\begin{tabular}{r|llll}\n",
       "  & sigma & C & Accuracy & Kappa\\\\\n",
       "\\hline\n",
       "\t3 & 3         & 1         & 0.3737775 & 0        \\\\\n",
       "\\end{tabular}\n"
      ],
      "text/markdown": [
       "\n",
       "| <!--/--> | sigma | C | Accuracy | Kappa | \n",
       "|---|\n",
       "| 3 | 3         | 1         | 0.3737775 | 0         | \n",
       "\n",
       "\n"
      ],
      "text/plain": [
       "  sigma C Accuracy  Kappa\n",
       "3 3     1 0.3737775 0    "
      ]
     },
     "metadata": {},
     "output_type": "display_data"
    },
    {
     "data": {
      "text/html": [
       "<dl class=dl-horizontal>\n",
       "\t<dt>Accuracy</dt>\n",
       "\t\t<dd>0.959798994974874</dd>\n",
       "\t<dt>Kappa</dt>\n",
       "\t\t<dd>0.946876668446343</dd>\n",
       "</dl>\n"
      ],
      "text/latex": [
       "\\begin{description*}\n",
       "\\item[Accuracy] 0.959798994974874\n",
       "\\item[Kappa] 0.946876668446343\n",
       "\\end{description*}\n"
      ],
      "text/markdown": [
       "Accuracy\n",
       ":   0.959798994974874Kappa\n",
       ":   0.946876668446343\n",
       "\n"
      ],
      "text/plain": [
       " Accuracy     Kappa \n",
       "0.9597990 0.9468767 "
      ]
     },
     "metadata": {},
     "output_type": "display_data"
    },
    {
     "data": {
      "text/html": [
       "<dl class=dl-horizontal>\n",
       "\t<dt>Accuracy</dt>\n",
       "\t\t<dd>0.376884422110553</dd>\n",
       "\t<dt>Kappa</dt>\n",
       "\t\t<dd>0</dd>\n",
       "</dl>\n"
      ],
      "text/latex": [
       "\\begin{description*}\n",
       "\\item[Accuracy] 0.376884422110553\n",
       "\\item[Kappa] 0\n",
       "\\end{description*}\n"
      ],
      "text/markdown": [
       "Accuracy\n",
       ":   0.376884422110553Kappa\n",
       ":   0\n",
       "\n"
      ],
      "text/plain": [
       " Accuracy     Kappa \n",
       "0.3768844 0.0000000 "
      ]
     },
     "metadata": {},
     "output_type": "display_data"
    }
   ],
   "source": [
    "svmLinealFit$results[,2:3]\n",
    "svmPolyFit$results[rownames(svmPolyFitSpiral$bestTune),1:5]\n",
    "svmRadialFit$results[rownames(svmRadialFitSpiral$bestTune),1:4]\n",
    "\n",
    "confusionMatrix(predict(svmPolyFit,testing),factor(testing$Class))$overall[1:2]\n",
    "confusionMatrix(predict(svmRadialFit,testing),factor(testing$Class))$overall[1:2]"
   ]
  },
  {
   "cell_type": "code",
   "execution_count": 129,
   "metadata": {},
   "outputs": [
    {
     "ename": "ERROR",
     "evalue": "Error: model$control$classProbs is not TRUE\n",
     "output_type": "error",
     "traceback": [
      "Error: model$control$classProbs is not TRUE\nTraceback:\n",
      "1. plotDecision(knnFit, tcga.filtered)",
      "2. stopifnot(model$control$classProbs)   # at line 2 of file <text>",
      "3. stop(msg, call. = FALSE, domain = NA)"
     ]
    }
   ],
   "source": [
    "plotDecision <- function(model, dataset,bin=100) { \n",
    "    stopifnot(model$control$classProbs)\n",
    "    x <- seq(min(dataset[,1]),max(dataset[,1]),length.out = bin) \n",
    "    y <- seq(min(dataset[,2]),max(dataset[,2]),length.out = bin)\n",
    "    grid <- expand.grid(x,y)\n",
    "    colnames(grid) <- colnames(dataset)[1:2]\n",
    "    grid$prob<- predict(model, grid, type = \"prob\")[,1]\n",
    "    v <- ggplot()\n",
    "    v <- v + geom_raster(data=grid,aes(x=X1,y=X2, fill = prob),alpha=0.5) +\n",
    "        scale_fill_gradientn(colours=c(\"#67a9cf\",\"#f7f7f7\",\"#ef8a62\"))\n",
    "    v + geom_point(data=problema.espiral[problema.espiral$set==\"training\",],\n",
    "        aes(x=X1,y=X2,color=Class))\n",
    "}\n",
    "\n",
    "plotDecision(knnFit, tcga.filtered)"
   ]
  },
  {
   "cell_type": "code",
   "execution_count": 41,
   "metadata": {},
   "outputs": [
    {
     "data": {
      "text/html": [
       "<dl class=dl-horizontal>\n",
       "\t<dt>gene_12382</dt>\n",
       "\t\t<dd>0</dd>\n",
       "\t<dt>gene_8057</dt>\n",
       "\t\t<dd>-0.0257355720028159</dd>\n",
       "</dl>\n"
      ],
      "text/latex": [
       "\\begin{description*}\n",
       "\\item[gene\\textbackslash{}\\_12382] 0\n",
       "\\item[gene\\textbackslash{}\\_8057] -0.0257355720028159\n",
       "\\end{description*}\n"
      ],
      "text/markdown": [
       "gene_12382\n",
       ":   0gene_8057\n",
       ":   -0.0257355720028159\n",
       "\n"
      ],
      "text/plain": [
       " gene_12382   gene_8057 \n",
       " 0.00000000 -0.02573557 "
      ]
     },
     "metadata": {},
     "output_type": "display_data"
    }
   ],
   "source": [
    "w <- colSums(svmLinealDuroFit$finalModel@coef[[1]] *\n",
    "               training[svmLinealDuroFit$finalModel@alphaindex[[1]],1:2])\n",
    "w"
   ]
  },
  {
   "cell_type": "code",
   "execution_count": 104,
   "metadata": {},
   "outputs": [
    {
     "data": {
      "text/html": [
       "<table>\n",
       "<thead><tr><th scope=col>Accuracy</th><th scope=col>Kappa</th></tr></thead>\n",
       "<tbody>\n",
       "\t<tr><td>0.9799917</td><td>0.9735754</td></tr>\n",
       "</tbody>\n",
       "</table>\n"
      ],
      "text/latex": [
       "\\begin{tabular}{r|ll}\n",
       " Accuracy & Kappa\\\\\n",
       "\\hline\n",
       "\t 0.9799917 & 0.9735754\\\\\n",
       "\\end{tabular}\n"
      ],
      "text/markdown": [
       "\n",
       "Accuracy | Kappa | \n",
       "|---|\n",
       "| 0.9799917 | 0.9735754 | \n",
       "\n",
       "\n"
      ],
      "text/plain": [
       "  Accuracy  Kappa    \n",
       "1 0.9799917 0.9735754"
      ]
     },
     "metadata": {},
     "output_type": "display_data"
    }
   ],
   "source": [
    "set.seed(236856) \n",
    "svmLinealBlandoFit <- train(\n",
    "    Class ~ .,\n",
    "    data = training,\n",
    "    method = \"svmPoly\",\n",
    "    trControl = ctrl,\n",
    "    tuneGrid = expand.grid(degree=c(2,3),C=c(1,5),scale = c(0.1, 0.5, 1)),\n",
    "    scale = FALSE\n",
    ")\n",
    "svmLinealDuroFit$results[,2:3]"
   ]
  },
  {
   "cell_type": "markdown",
   "metadata": {},
   "source": [
    "## Comparación de los paradigmas\n",
    "\n",
    "Nos encontramos ante un problema que precisa de; dados unos valores para unos genes, predecir el tipo de cáncer. Por lo tanto es un problema de clasificación.\n",
    "\n",
    "A continuación se muestra una gráfica con los valores de precisión obtenidos para cada paradigma"
   ]
  },
  {
   "cell_type": "code",
   "execution_count": 102,
   "metadata": {},
   "outputs": [
    {
     "data": {},
     "metadata": {},
     "output_type": "display_data"
    },
    {
     "data": {
      "image/png": "[encoded data removed]",
      "text/plain": [
       "plot without title"
      ]
     },
     "metadata": {},
     "output_type": "display_data"
    }
   ],
   "source": [
    "dfm.resamp <- data.frame(Accuracy = c(nn1LFit$resample$Accuracy, c4.5Fit$resample$Accuracy,\n",
    "knnFitTraining$resample$Accuracy, svmLinealDuroFit$resample$Accuracy),\n",
    "Model = rep(c('NeuralNet','C4.5','kNN', 'MVS'), each=10))\n",
    "ggplot(dfm.resamp,aes(x=Model, y=Accuracy, fill=Model)) + geom_boxplot()"
   ]
  },
  {
   "cell_type": "markdown",
   "metadata": {},
   "source": [
    "Se puede observar que para este problema claramente el mejor paradigma es el de máquinas vector soporte que obtiene una precisión muy cercana a 1, seguida de vecinos más cercanos, que pese a tener una precisión un poco inferior presenta más estabilidad. "
   ]
  },
  {
   "cell_type": "code",
   "execution_count": 132,
   "metadata": {},
   "outputs": [
    {
     "data": {
      "text/plain": [
       "   gene_12382       gene_8057        gene_3787        gene_2160     \n",
       " Min.   :0.0000   Min.   : 6.722   Min.   : 8.367   Min.   : 6.114  \n",
       " 1st Qu.:0.0000   1st Qu.: 8.656   1st Qu.: 9.473   1st Qu.: 8.053  \n",
       " Median :0.0000   Median : 8.953   Median : 9.718   Median : 8.398  \n",
       " Mean   :0.0132   Mean   : 8.924   Mean   : 9.727   Mean   : 8.374  \n",
       " 3rd Qu.:0.0000   3rd Qu.: 9.206   3rd Qu.: 9.974   3rd Qu.: 8.697  \n",
       " Max.   :4.7283   Max.   :10.568   Max.   :11.674   Max.   :10.022  \n",
       "   gene_8570       gene_4382       gene_17560       gene_14235     \n",
       " Min.   :0.000   Min.   :0.000   Min.   : 0.000   Min.   :0.00000  \n",
       " 1st Qu.:2.455   1st Qu.:5.224   1st Qu.: 1.142   1st Qu.:0.00000  \n",
       " Median :3.837   Median :5.850   Median : 1.782   Median :0.00000  \n",
       " Mean   :3.856   Mean   :5.805   Mean   : 2.402   Mean   :0.06822  \n",
       " 3rd Qu.:5.233   3rd Qu.:6.489   3rd Qu.: 2.767   3rd Qu.:0.00000  \n",
       " Max.   :8.658   Max.   :8.857   Max.   :14.091   Max.   :4.45047  \n",
       "   gene_13011       gene_15132      gene_15422       gene_10615    \n",
       " Min.   : 0.000   Min.   :3.194   Min.   :0.0000   Min.   : 6.167  \n",
       " 1st Qu.: 3.602   1st Qu.:6.801   1st Qu.:0.0000   1st Qu.: 8.261  \n",
       " Median : 4.673   Median :7.230   Median :0.0000   Median : 8.660  \n",
       " Mean   : 4.868   Mean   :7.267   Mean   :0.1227   Mean   : 8.613  \n",
       " 3rd Qu.: 6.014   3rd Qu.:7.659   3rd Qu.:0.0000   3rd Qu.: 8.968  \n",
       " Max.   :14.872   Max.   :9.732   Max.   :4.1803   Max.   :10.925  \n",
       "   gene_19467       gene_12036      gene_4905       gene_10458   \n",
       " Min.   : 6.912   Min.   :2.191   Min.   :4.813   Min.   : 9.97  \n",
       " 1st Qu.: 8.222   1st Qu.:6.223   1st Qu.:6.905   1st Qu.:11.17  \n",
       " Median : 8.618   Median :6.796   Median :7.425   Median :11.50  \n",
       " Mean   : 8.576   Mean   :6.682   Mean   :7.390   Mean   :11.49  \n",
       " 3rd Qu.: 8.937   3rd Qu.:7.316   3rd Qu.:7.897   3rd Qu.:11.79  \n",
       " Max.   :10.840   Max.   :9.663   Max.   :9.495   Max.   :13.51  \n",
       "   gene_19975      gene_2911        gene_3635        gene_11846    \n",
       " Min.   :6.862   Min.   :0.0000   Min.   :0.0000   Min.   : 4.511  \n",
       " 1st Qu.:8.127   1st Qu.:0.4372   1st Qu.:0.5148   1st Qu.: 9.909  \n",
       " Median :8.368   Median :1.0717   Median :1.2486   Median :10.609  \n",
       " Mean   :8.360   Mean   :1.3227   Mean   :1.6110   Mean   :10.388  \n",
       " 3rd Qu.:8.595   3rd Qu.:2.0069   3rd Qu.:2.4275   3rd Qu.:11.149  \n",
       " Max.   :9.932   Max.   :6.9975   Max.   :9.7119   Max.   :12.891  \n",
       "    gene_690       gene_12510        gene_15072       gene_6345     \n",
       " Min.   :4.290   Min.   :0.00000   Min.   :0.0000   Min.   : 4.308  \n",
       " 1st Qu.:7.001   1st Qu.:0.00000   1st Qu.:0.0000   1st Qu.: 7.733  \n",
       " Median :7.355   Median :0.00000   Median :0.0000   Median : 8.363  \n",
       " Mean   :7.356   Mean   :0.01026   Mean   :0.2482   Mean   : 8.354  \n",
       " 3rd Qu.:7.691   3rd Qu.:0.00000   3rd Qu.:0.4596   3rd Qu.: 9.001  \n",
       " Max.   :9.619   Max.   :3.62674   Max.   :2.9366   Max.   :11.371  \n",
       "   gene_2472       gene_1373        gene_17712      gene_8503     \n",
       " Min.   :0.000   Min.   : 0.000   Min.   :4.255   Min.   : 6.735  \n",
       " 1st Qu.:2.189   1st Qu.: 2.888   1st Qu.:6.313   1st Qu.: 8.385  \n",
       " Median :2.837   Median : 4.120   Median :6.778   Median : 8.770  \n",
       " Mean   :2.827   Mean   : 4.217   Mean   :6.722   Mean   : 8.791  \n",
       " 3rd Qu.:3.409   3rd Qu.: 5.274   3rd Qu.:7.206   3rd Qu.: 9.122  \n",
       " Max.   :6.493   Max.   :12.955   Max.   :9.201   Max.   :12.171  \n",
       "   gene_19353      gene_3713         gene_991       gene_2183     \n",
       " Min.   :10.54   Min.   : 5.750   Min.   :1.673   Min.   :0.0000  \n",
       " 1st Qu.:11.78   1st Qu.: 8.585   1st Qu.:4.741   1st Qu.:0.0000  \n",
       " Median :12.16   Median : 8.950   Median :5.761   Median :0.0000  \n",
       " Mean   :12.22   Mean   : 8.954   Mean   :5.671   Mean   :0.1157  \n",
       " 3rd Qu.:12.61   3rd Qu.: 9.318   3rd Qu.:6.698   3rd Qu.:0.0000  \n",
       " Max.   :13.93   Max.   :10.862   Max.   :9.563   Max.   :3.6851  \n",
       "   gene_13569      gene_1062        gene_6701        gene_2176     \n",
       " Min.   : 9.62   Min.   : 0.000   Min.   : 7.820   Min.   : 0.000  \n",
       " 1st Qu.:11.70   1st Qu.: 4.062   1st Qu.: 9.128   1st Qu.: 3.777  \n",
       " Median :12.08   Median : 5.426   Median : 9.423   Median : 5.269  \n",
       " Mean   :12.14   Mean   : 5.206   Mean   : 9.451   Mean   : 5.237  \n",
       " 3rd Qu.:12.49   3rd Qu.: 6.565   3rd Qu.: 9.778   3rd Qu.: 6.808  \n",
       " Max.   :16.22   Max.   :10.857   Max.   :11.784   Max.   :12.140  \n",
       "   gene_7611        gene_13904       gene_16882   gene_19770    \n",
       " Min.   : 0.000   Min.   : 6.861   Min.   :0    Min.   : 7.755  \n",
       " 1st Qu.: 1.641   1st Qu.: 9.587   1st Qu.:0    1st Qu.: 9.234  \n",
       " Median : 3.465   Median :10.095   Median :0    Median : 9.581  \n",
       " Mean   : 4.374   Mean   :10.049   Mean   :0    Mean   : 9.630  \n",
       " 3rd Qu.: 6.777   3rd Qu.:10.530   3rd Qu.:0    3rd Qu.:10.027  \n",
       " Max.   :15.397   Max.   :12.864   Max.   :0    Max.   :12.680  \n",
       "   gene_7992        gene_8853        gene_15238      gene_9600     \n",
       " Min.   : 0.000   Min.   : 5.035   Min.   :10.47   Min.   : 7.924  \n",
       " 1st Qu.: 5.566   1st Qu.:10.091   1st Qu.:12.05   1st Qu.: 9.289  \n",
       " Median : 8.003   Median :10.782   Median :12.46   Median : 9.602  \n",
       " Mean   : 7.558   Mean   :10.692   Mean   :12.55   Mean   : 9.574  \n",
       " 3rd Qu.: 9.413   3rd Qu.:11.457   3rd Qu.:12.99   3rd Qu.: 9.863  \n",
       " Max.   :12.770   Max.   :13.361   Max.   :15.65   Max.   :11.620  \n",
       "   gene_1133        gene_13671       gene_2130        gene_2557     \n",
       " Min.   : 4.464   Min.   : 6.587   Min.   : 6.060   Min.   : 7.511  \n",
       " 1st Qu.: 9.781   1st Qu.: 7.770   1st Qu.: 7.464   1st Qu.: 9.197  \n",
       " Median :10.848   Median : 8.053   Median : 7.849   Median : 9.610  \n",
       " Mean   :10.742   Mean   : 8.093   Mean   : 7.807   Mean   : 9.574  \n",
       " 3rd Qu.:11.832   3rd Qu.: 8.380   3rd Qu.: 8.139   3rd Qu.: 9.971  \n",
       " Max.   :14.893   Max.   :11.325   Max.   :10.204   Max.   :11.486  \n",
       "   gene_17033        gene_12214       gene_2647        gene_371     \n",
       " Min.   : 0.5947   Min.   : 9.769   Min.   :0.000   Min.   : 0.911  \n",
       " 1st Qu.: 4.1537   1st Qu.:12.657   1st Qu.:2.210   1st Qu.: 5.184  \n",
       " Median : 5.2854   Median :13.031   Median :3.012   Median : 6.416  \n",
       " Mean   : 5.6909   Mean   :13.125   Mean   :3.162   Mean   : 6.077  \n",
       " 3rd Qu.: 7.3540   3rd Qu.:13.677   3rd Qu.:4.087   3rd Qu.: 7.298  \n",
       " Max.   :11.8506   Max.   :15.775   Max.   :8.146   Max.   :12.404  \n",
       "   gene_5429        gene_17668       gene_8748        gene_19203    \n",
       " Min.   : 7.388   Min.   :0.0000   Min.   : 6.888   Min.   : 8.824  \n",
       " 1st Qu.:10.096   1st Qu.:0.8213   1st Qu.: 8.045   1st Qu.:11.100  \n",
       " Median :10.470   Median :1.4420   Median : 8.455   Median :11.467  \n",
       " Mean   :10.523   Mean   :1.7083   Mean   : 8.464   Mean   :11.435  \n",
       " 3rd Qu.:10.867   3rd Qu.:2.2179   3rd Qu.: 8.882   3rd Qu.:11.781  \n",
       " Max.   :14.201   Max.   :9.0371   Max.   :10.854   Max.   :13.321  \n",
       "   gene_17323       gene_4179        gene_13406       gene_14708    \n",
       " Min.   : 1.617   Min.   : 0.000   Min.   : 7.943   Min.   : 7.689  \n",
       " 1st Qu.: 4.250   1st Qu.: 5.192   1st Qu.: 9.317   1st Qu.:10.084  \n",
       " Median : 4.816   Median : 6.203   Median : 9.722   Median :10.408  \n",
       " Mean   : 4.838   Mean   : 6.241   Mean   : 9.688   Mean   :10.399  \n",
       " 3rd Qu.: 5.446   3rd Qu.: 7.265   3rd Qu.:10.063   3rd Qu.:10.744  \n",
       " Max.   :10.324   Max.   :11.209   Max.   :12.091   Max.   :12.033  \n",
       "   gene_11551       gene_11303       gene_6246        gene_7085    \n",
       " Min.   : 1.320   Min.   : 5.546   Min.   : 3.787   Min.   :0.000  \n",
       " 1st Qu.: 6.211   1st Qu.: 7.070   1st Qu.: 7.207   1st Qu.:2.590  \n",
       " Median : 7.362   Median : 7.612   Median : 7.801   Median :3.595  \n",
       " Mean   : 7.152   Mean   : 7.717   Mean   : 7.739   Mean   :3.472  \n",
       " 3rd Qu.: 8.363   3rd Qu.: 8.278   3rd Qu.: 8.313   3rd Qu.:4.387  \n",
       " Max.   :10.868   Max.   :10.412   Max.   :10.853   Max.   :7.730  \n",
       "   gene_4889        gene_14130       gene_16653        gene_5386    \n",
       " Min.   : 3.375   Min.   : 8.716   Min.   :0.00000   Min.   :11.62  \n",
       " 1st Qu.: 7.266   1st Qu.:11.082   1st Qu.:0.00000   1st Qu.:13.76  \n",
       " Median : 7.786   Median :11.606   Median :0.00000   Median :14.16  \n",
       " Mean   : 7.718   Mean   :11.566   Mean   :0.03588   Mean   :14.18  \n",
       " 3rd Qu.: 8.283   3rd Qu.:12.026   3rd Qu.:0.00000   3rd Qu.:14.61  \n",
       " Max.   :10.680   Max.   :14.653   Max.   :2.90204   Max.   :16.33  \n",
       "   gene_16944       gene_17062        gene_14394       gene_8540     \n",
       " Min.   : 7.945   Min.   : 0.0000   Min.   : 0.000   Min.   : 6.931  \n",
       " 1st Qu.: 9.401   1st Qu.: 0.6953   1st Qu.: 2.625   1st Qu.: 8.764  \n",
       " Median : 9.808   Median : 1.8879   Median : 3.583   Median : 9.144  \n",
       " Mean   : 9.872   Mean   : 3.0613   Mean   : 3.954   Mean   : 9.154  \n",
       " 3rd Qu.:10.295   3rd Qu.: 5.1410   3rd Qu.: 5.013   3rd Qu.: 9.592  \n",
       " Max.   :12.724   Max.   :12.1294   Max.   :11.726   Max.   :11.048  \n",
       "   gene_13468       gene_11521       gene_14312      gene_9782    \n",
       " Min.   : 7.201   Min.   : 7.953   Min.   :0.000   Min.   :0.000  \n",
       " 1st Qu.:10.039   1st Qu.: 9.628   1st Qu.:1.809   1st Qu.:1.097  \n",
       " Median :10.282   Median : 9.988   Median :3.206   Median :2.083  \n",
       " Mean   :10.304   Mean   :10.012   Mean   :3.400   Mean   :2.071  \n",
       " 3rd Qu.:10.563   3rd Qu.:10.402   3rd Qu.:4.916   3rd Qu.:2.958  \n",
       " Max.   :12.632   Max.   :12.689   Max.   :9.718   Max.   :6.005  \n",
       "   gene_1292        gene_16562       gene_20518       gene_7227    \n",
       " Min.   : 9.323   Min.   : 7.299   Min.   : 6.655   Min.   : 9.87  \n",
       " 1st Qu.:11.223   1st Qu.: 8.753   1st Qu.: 8.365   1st Qu.:11.07  \n",
       " Median :11.528   Median : 9.071   Median : 8.665   Median :11.34  \n",
       " Mean   :11.522   Mean   : 9.055   Mean   : 8.688   Mean   :11.35  \n",
       " 3rd Qu.:11.806   3rd Qu.: 9.387   3rd Qu.: 9.014   3rd Qu.:11.61  \n",
       " Max.   :14.121   Max.   :13.061   Max.   :10.858   Max.   :12.81  \n",
       "   gene_12827        gene_353         gene_8509        gene_16739\n",
       " Min.   : 0.000   Min.   : 0.0000   Min.   : 6.547   Min.   :0   \n",
       " 1st Qu.: 4.763   1st Qu.: 0.0000   1st Qu.: 9.376   1st Qu.:0   \n",
       " Median : 5.943   Median : 0.0000   Median : 9.968   Median :0   \n",
       " Mean   : 5.806   Mean   : 0.5728   Mean   :10.100   Mean   :0   \n",
       " 3rd Qu.: 7.015   3rd Qu.: 0.4083   3rd Qu.:10.774   3rd Qu.:0   \n",
       " Max.   :10.808   Max.   :12.8998   Max.   :14.166   Max.   :0   \n",
       "   gene_5928        gene_17399       gene_7798        gene_6453     \n",
       " Min.   :0.0000   Min.   : 6.021   Min.   : 6.607   Min.   :0.0000  \n",
       " 1st Qu.:0.0000   1st Qu.: 8.642   1st Qu.: 8.662   1st Qu.:0.0000  \n",
       " Median :0.0000   Median : 9.093   Median : 9.064   Median :0.5047  \n",
       " Mean   :0.3428   Mean   : 9.048   Mean   : 9.074   Mean   :0.6545  \n",
       " 3rd Qu.:0.6368   3rd Qu.: 9.503   3rd Qu.: 9.480   3rd Qu.:0.9933  \n",
       " Max.   :2.6581   Max.   :11.015   Max.   :11.741   Max.   :4.5070  \n",
       "   gene_1646        gene_20195       gene_1285        gene_2156    \n",
       " Min.   :0.0000   Min.   :0.0000   Min.   : 5.833   Min.   :2.834  \n",
       " 1st Qu.:0.0000   1st Qu.:0.8811   1st Qu.: 9.420   1st Qu.:5.277  \n",
       " Median :0.0000   Median :1.8309   Median : 9.894   Median :5.870  \n",
       " Mean   :0.1538   Mean   :2.2231   Mean   : 9.811   Mean   :5.890  \n",
       " 3rd Qu.:0.3107   3rd Qu.:3.3365   3rd Qu.:10.304   3rd Qu.:6.560  \n",
       " Max.   :2.0467   Max.   :7.7320   Max.   :11.805   Max.   :9.520  \n",
       "   gene_9361         gene_17324      gene_20408      gene_12380     \n",
       " Min.   : 0.0000   Min.   :0.000   Min.   :4.036   Min.   :0.00000  \n",
       " 1st Qu.: 0.0000   1st Qu.:0.000   1st Qu.:5.668   1st Qu.:0.00000  \n",
       " Median : 0.0000   Median :0.000   Median :6.124   Median :0.00000  \n",
       " Mean   : 0.3848   Mean   :0.205   Mean   :6.143   Mean   :0.01343  \n",
       " 3rd Qu.: 0.0000   3rd Qu.:0.000   3rd Qu.:6.600   3rd Qu.:0.00000  \n",
       " Max.   :15.0178   Max.   :8.624   Max.   :8.639   Max.   :1.27929  \n",
       "   gene_14946      gene_14994       gene_8981        gene_17533   \n",
       " Min.   :11.99   Min.   : 7.354   Min.   : 0.000   Min.   :0.000  \n",
       " 1st Qu.:13.04   1st Qu.: 8.673   1st Qu.: 8.133   1st Qu.:2.265  \n",
       " Median :13.30   Median : 8.926   Median : 9.416   Median :2.952  \n",
       " Mean   :13.32   Mean   : 8.931   Mean   : 9.285   Mean   :3.092  \n",
       " 3rd Qu.:13.60   3rd Qu.: 9.210   3rd Qu.:10.676   3rd Qu.:3.831  \n",
       " Max.   :14.73   Max.   :10.750   Max.   :13.881   Max.   :7.882  \n",
       "    Class          \n",
       " Length:801        \n",
       " Class :character  \n",
       " Mode  :character  \n",
       "                   \n",
       "                   \n",
       "                   "
      ]
     },
     "metadata": {},
     "output_type": "display_data"
    }
   ],
   "source": [
    "summary(tcga.filtered)"
   ]
  },
  {
   "cell_type": "code",
   "execution_count": 142,
   "metadata": {},
   "outputs": [
    {
     "name": "stderr",
     "output_type": "stream",
     "text": [
      "Using Class as id variables\n"
     ]
    },
    {
     "data": {},
     "metadata": {},
     "output_type": "display_data"
    },
    {
     "data": {
      "image/png": "[encoded data removed]",
      "text/plain": [
       "plot without title"
      ]
     },
     "metadata": {},
     "output_type": "display_data"
    }
   ],
   "source": [
    "library(reshape2)\n",
    "ggplot(melt(tcga.filtered) , aes(x=value,color=Class)) + geom_density()+facet_grid(Class~variable)"
   ]
  },
  {
   "cell_type": "code",
   "execution_count": 143,
   "metadata": {},
   "outputs": [
    {
     "data": {},
     "metadata": {},
     "output_type": "display_data"
    },
    {
     "data": {
      "image/png": "[encoded data removed]",
      "text/plain": [
       "plot without title"
      ]
     },
     "metadata": {},
     "output_type": "display_data"
    }
   ],
   "source": [
    "ggplot(tcga.filtered , aes(x=gene_12382,y=gene_8057,color=Class)) + geom_point()"
   ]
  },
  {
   "cell_type": "code",
   "execution_count": null,
   "metadata": {},
   "outputs": [],
   "source": [
    "makePairs <- function(data,classIndex){ dfm <- NULL\n",
    "for(i in 1:ncol(data)){\n",
    "    if(i==classIndex)\n",
    "      next\n",
    "for(j in 1:ncol(data)){ if(j==classIndex)\n",
    "        next\n",
    "      if(i==j)\n",
    "        next\n",
    "      dfm <- rbind(dfm,data.frame(x=data[,i],y=data[,j], Var1=colnames(data)[i],\n",
    "                                  Var2=colnames(data)[j],class=data[,classIndex]))\n",
    "          }\n",
    "    }\n",
    "    dfm$Var2 <- relevel(dfm$Var2,levels(dfm$Var1)[1])\n",
    "    dfm \n",
    "}\n",
    "dataToPlot <- makePairs(tcga.filtered,8)\n",
    "ggplot(dataToPlot, aes_string(x = \"x\", y = \"y\")) + \n",
    "        facet_grid(Var1 ~ Var2, scales = \"free\") + \n",
    "        geom_point(aes(colour=class), alpha=0.6)"
   ]
  },
  {
   "cell_type": "code",
   "execution_count": null,
   "metadata": {
    "collapsed": true
   },
   "outputs": [],
   "source": []
  }
 ],
 "metadata": {
  "kernelspec": {
   "display_name": "R",
   "language": "R",
   "name": "ir"
  },
  "language_info": {
   "codemirror_mode": "r",
   "file_extension": ".r",
   "mimetype": "text/x-r-source",
   "name": "R",
   "pygments_lexer": "r",
   "version": "3.4.3"
  }
 },
 "nbformat": 4,
 "nbformat_minor": 2
}
