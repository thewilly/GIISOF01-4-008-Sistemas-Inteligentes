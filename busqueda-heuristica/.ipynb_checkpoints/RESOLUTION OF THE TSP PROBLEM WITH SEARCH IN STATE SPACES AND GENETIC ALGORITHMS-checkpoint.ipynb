{
 "cells": [
  {
   "cell_type": "markdown",
   "metadata": {},
   "source": [
    "<center>Guillermo Facundo Colunga. UO236856@uniovi.es. Intelligent System. Software Engineering Degree. EII. University of Oviedo. Campus de los Catalanes. E-33007. Oviedo.</center>"
   ]
  },
  {
   "cell_type": "markdown",
   "metadata": {},
   "source": [
    "**Abstract:** This paper contains an experimental study of the two main methods available to solve the TSP problem, search in state spaces and search by means of genetic algorithms. For state spaces search A* and a modification of it, static weighted A* (PEA*), will be used with different heuristics. The genetic algorithm will use a simple codification that will be based in permutations. The aim of the paper is to show and compare the throughput of these two methods over different instances of the TSP problem. And if possible compare the obtained results. "
   ]
  },
  {
   "cell_type": "markdown",
   "metadata": {},
   "source": [
    "**Keywords:** TSP, A*, PEA*, Genetic Algorithms, Heuristics, Seach in State Spaces."
   ]
  },
  {
   "cell_type": "markdown",
   "metadata": {},
   "source": [
    "# Introduction"
   ]
  },
  {
   "cell_type": "markdown",
   "metadata": {},
   "source": [
    "The search has a big place in AI (the kernel of an Intelligent System is a search algorithm). With state spaces algorithms we have some admissible algorithms (always find the best solution) and others that are only complete (always find a solution but maybe not the best one). The aim to use the complete algorithms is that sometimes problems are so big that is better to get a reasonable result in a reasonable amount of time rather than not find any result due to the complexity of finding the best one. For A* will be compared the different heuristics taking into account its admissibility and consistency, taking into account which ones have better information.\n",
    "\n",
    "Furthermore search by genetic algorithms can be really efficient when the size of the problem grows, for that reason we will use an implementation of GA that uses codification by means of simple permutations and will compare the results obtained with the same instances, and bigger if possible, of the TSP problem used to test the spaces search algorithms.\n",
    "\n",
    "The experimental results will be based in the *aima-java* software that implements the algorithms described at [1]."
   ]
  },
  {
   "cell_type": "markdown",
   "metadata": {},
   "source": [
    "# The TSP problem"
   ]
  },
  {
   "cell_type": "markdown",
   "metadata": {},
   "source": [
    "TSP problem, also known as the traveling salesman problem, is a very famous problem where a salesman has to visit N cities, but it can only pass through each city one single time. Moreover, the city where he starts must be the same where he finishes. And then comes the problem, find the shortest path that meet the previous restrictions. In other words we have a salesman and a cities. Then we must:\n",
    "\n",
    "1. Travel all the cities.\n",
    "2. Start and finish at the same city.\n",
    "3. Pass just one, and only one time by each city.\n",
    "4. The path that the salesman follows must be the shortest one.\n",
    "\n",
    "With the above restrictions we may think that this problem can be solved by brute force, for example by computing all the possible paths and then selecting the shortest one. But that is just not possible when the problem grows as the number of possible paths is the factorial of the number of cities (N!). For 4 cities we will have 24 paths and for 15 cities, for example, we would have 1,307,674,368,000 possible paths. \n"
   ]
  },
  {
   "cell_type": "markdown",
   "metadata": {},
   "source": [
    "# Heuristic search algorithms"
   ]
  },
  {
   "cell_type": "markdown",
   "metadata": {},
   "source": [
    "As described at [2] Intelligent Search Algorithms or informed ones use some problem specific knowledge and take advantage of it to improve its performance."
   ]
  },
  {
   "cell_type": "markdown",
   "metadata": {},
   "source": [
    "## A* algorithm"
   ]
  },
  {
   "cell_type": "markdown",
   "metadata": {},
   "source": [
    "Was proposed by Peter E. Hart, Nils J. Nilsson and Bertram Raphael at [3] and it is very well defined at [4] and [5]. Its formal properties are well explained at [6]. It is a particular case of the Best First (BF), where f(n) = g(n) + h(n) · g(n) defines the best possible cost from the initial state to n to the moment. Notice that h(n) therefore is a positive estimate of the minimum cost from n to the nearest final state. The h function has to defined in such a way that it adds information about the problem domain. Its cost is not something not to take care about, and that's why ideally should be polynomial. At the *aima-java* prototype we have 3 different versions (normal, rectify and reinsert), described at [6]."
   ]
  },
  {
   "cell_type": "markdown",
   "metadata": {},
   "source": [
    "## Static weighted PEA*"
   ]
  },
  {
   "cell_type": "markdown",
   "metadata": {},
   "source": [
    "It is a version of the A* algorithm where f(n) = g(n) + (1+ε)·h(n), where ε is an small value (ε ≥ 0). It is inside the ε-acceptable algorithms, those who probably will find a solution which cost wont exceed (1+ ε) C*, where C* is the cost of the best solution. These kind of algorithms are not admissible but they reduce the time that it takes to find a solution and at the same time they bound the cost of the solution found by means of ε."
   ]
  },
  {
   "cell_type": "markdown",
   "metadata": {},
   "source": [
    "# Genetic algorithms"
   ]
  },
  {
   "cell_type": "markdown",
   "metadata": {},
   "source": [
    "They are based in probability and natural evolution. Solutions are coded by chains of symbols, called chromosomes. The starting point is a fixed size population of chromosomes and it is evolved though some generations (by means of the cross operator). On each \"evolution\" it is intended to keep those qualities from the previous generation that are relevant. To evaluate the quality of a chromosome, it is coded (to transform it as a solution) and then it is applied a fitness function, that, it is the unique that adds knowledge about the problem. GA are well described at [7]."
   ]
  },
  {
   "cell_type": "markdown",
   "metadata": {},
   "source": [
    "# TSP problem resolution"
   ]
  },
  {
   "cell_type": "markdown",
   "metadata": {},
   "source": [
    "As we have seen before the TSP problem cannot be solved by means of brute force, therefore we must model the search state space and the different heuristics that we will explore for the heuristic search algorithms and define the codification schema, evaluation function, and the mutation and cross operators for the genetic algorithms. "
   ]
  },
  {
   "cell_type": "markdown",
   "metadata": {},
   "source": [
    "## Resolution with search of state spaces "
   ]
  },
  {
   "cell_type": "markdown",
   "metadata": {},
   "source": [
    "With search in space of states we can represent our problem both, as a tree or as a graph. Depending on the representation the solution will be found in one way or in another."
   ]
  },
  {
   "cell_type": "markdown",
   "metadata": {},
   "source": [
    "### Tree representation"
   ]
  },
  {
   "cell_type": "markdown",
   "metadata": {},
   "source": [
    "If the problem is represented as a tree some important considerations must be taking in to account:\n",
    "\n",
    "1. The number of target nodes is exponential (factorial). Each one will represent a solution.\n",
    "2. Each state represents the path followed from the initial state to it.\n",
    "\n",
    "![](tsp_tree.PNG)"
   ]
  },
  {
   "cell_type": "markdown",
   "metadata": {},
   "source": [
    "### Graph representation"
   ]
  },
  {
   "cell_type": "markdown",
   "metadata": {},
   "source": [
    "If the problem is represented by means of a graph the number of nodes is heavily reduced. Some remarks of using a graph to represent the problem are:\n",
    "\n",
    "1. There is only one target node/state.\n",
    "2. Then, the solution is the path from the initial state to the target one.\n",
    "3. Each node represents a sub-problem, but not the way to get to it form the initial.\n",
    "4. Each path from a node to the target node represents a possible solution for the problem represented by the node.\n",
    "\n",
    "![](tsp_graph.PNG)"
   ]
  },
  {
   "cell_type": "markdown",
   "metadata": {},
   "source": [
    "### Heuristics"
   ]
  },
  {
   "cell_type": "markdown",
   "metadata": {},
   "source": [
    "When we use search informed search we must define the heuristics that will be used by the algorithms to improve its performance. In hour case those will be:\n",
    "\n",
    "1. h<sub>0</sub>(n) = 0. Null heuristic. It is admissible and consistent.\n",
    "2. h<sub>1</sub>(n) = 0. It is admissible and consistent.\n",
    "3. h<sub>2</sub>(n) = 0. It is admissible and consistent.\n",
    "4. h<sub>3</sub>(n) = 0. It is admissible and consistent.\n",
    "5. h<sub>4</sub>(n) = 0. It is admissible and consistent."
   ]
  },
  {
   "cell_type": "markdown",
   "metadata": {},
   "source": [
    "## Resolution with genetic algorithms"
   ]
  },
  {
   "cell_type": "markdown",
   "metadata": {},
   "source": [
    "As described at the introduction we will use a permutation of a codification of the cities. Therefore the cities will be coded as 1, ..., n-1. Then:\n",
    "\n",
    "- A chromosome is a permutation of the cities {1, 2, ..., n-1}.\n",
    "- The cross operator will be OX, order crossover."
   ]
  },
  {
   "cell_type": "markdown",
   "metadata": {},
   "source": [
    "# Experimental analysis"
   ]
  },
  {
   "cell_type": "markdown",
   "metadata": {},
   "source": [
    "In order to compare the results of the search in space of states it will be use as a metric the number of expanded nodes, instead of the time taken to find a solution. And the cost of the solution found, for those algorithms that end its execution in a reasonable time."
   ]
  },
  {
   "cell_type": "markdown",
   "metadata": {},
   "source": [
    "## Data set"
   ]
  },
  {
   "cell_type": "markdown",
   "metadata": {},
   "source": [
    "The data set employed to perform the measurements is composed by instances of the TSP problem for which the cost of the best solution is known.\n",
    "\n",
    "| Problem | Best path cost |\n",
    "|:---------|:--------------:|\n",
    "|problem_1 |      10        |\n",
    "|problem_1 |      10        |\n",
    "|problem_1 |      10        |\n",
    "|problem_17|      10        |\n",
    "|problem_21|      10        |\n",
    "|problem_24|      10        |"
   ]
  },
  {
   "cell_type": "markdown",
   "metadata": {},
   "source": [
    "# Bibliography"
   ]
  },
  {
   "cell_type": "markdown",
   "metadata": {},
   "source": [
    "1. Pearl, J., Heuristics, Morgan Kauffman, San Francisco, CA, 1983.\n",
    "2. Endriss, U., Search Techniques, Universitatea Babeş-Bolyai, 2018.\n",
    "3. Korf, Richard. Depth-first Iterative-Deepening: An Optimal Admissible Tree Search\". Artificial Intelligence 27: 97–109 (1985).\n",
    "4. Peter E. Hart, Nils J. Nilsson & Bertram Raphael: A Formal Basis for the Heuristic Determination of Minimum Cost Paths, IEEE Transactions on Systems Science and Cybernetics 4(2):100–107, 1968.\n",
    "5. Nilsson, N., Principles of Artificial Intelligence, Tioga, Palo Alto, CA, 1980.\n",
    "6. Palma Méndez, J. T. y Marín Morales R. Inteligencia Artificial: Técnicas, métodos y aplicaciones, McGraw-Hill, Murcia, 2008.\n",
    "7. Kramer, O. Genetic Algorithm Essentials, Springer, 1st ed. 2017."
   ]
  }
 ],
 "metadata": {
  "kernelspec": {
   "display_name": "Python 3",
   "language": "python",
   "name": "python3"
  },
  "language_info": {
   "codemirror_mode": {
    "name": "ipython",
    "version": 3
   },
   "file_extension": ".py",
   "mimetype": "text/x-python",
   "name": "python",
   "nbconvert_exporter": "python",
   "pygments_lexer": "ipython3",
   "version": "3.7.1"
  }
 },
 "nbformat": 4,
 "nbformat_minor": 2
}
