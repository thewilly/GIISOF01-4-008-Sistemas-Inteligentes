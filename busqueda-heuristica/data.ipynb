{
 "cells": [
  {
   "cell_type": "code",
   "execution_count": 1,
   "metadata": {},
   "outputs": [],
   "source": [
    "import pandas as pd\n",
    "from vdom import pre\n",
    "\n",
    "pd.options.display.html.table_schema = True # Data Explorer On!\n",
    "pd.options.display.max_rows = None # Send all the data! (careful!)"
   ]
  },
  {
   "cell_type": "code",
   "execution_count": 2,
   "metadata": {},
   "outputs": [],
   "source": [
    "df = pd.read_csv(\n",
    "  \"https://raw.githubusercontent.com/thewilly/GIISOF01-4-008-Sistemas-Inteligentes/master/busqueda-heuristica/heuristico-times.csv\"\n",
    ")"
   ]
  },
  {
   "cell_type": "code",
   "execution_count": 3,
   "metadata": {},
   "outputs": [
    {
     "data": {
      "application/vdom.v1+json": {
       "attributes": {},
       "children": "Note: This data is sampled",
       "tagName": "pre"
      },
      "text/plain": [
       "<pre />"
      ]
     },
     "metadata": {},
     "output_type": "display_data"
    },
    {
     "data": {
      "application/vnd.dataresource+json": {
       "data": [
        {
         " 0.2": 133,
         " 0.3": 113,
         " 0.4": 133,
         " 0.5": 105,
         " 0.6": 76,
         " 0.7": 78,
         " 0.8": 47,
         " 0.9": 58,
         " 1.0": 93,
         " 1.1": 87,
         " 1.2": 71,
         " 1.3": 54,
         " 1.4": 47,
         " 1.5": 48,
         "0.1": 169,
         "index": 0
        },
        {
         " 0.2": 130,
         " 0.3": 118,
         " 0.4": 106,
         " 0.5": 84,
         " 0.6": 71,
         " 0.7": 58,
         " 0.8": 50,
         " 0.9": 54,
         " 1.0": 56,
         " 1.1": 67,
         " 1.2": 66,
         " 1.3": 55,
         " 1.4": 47,
         " 1.5": 61,
         "0.1": 174,
         "index": 1
        },
        {
         " 0.2": 160,
         " 0.3": 137,
         " 0.4": 78,
         " 0.5": 108,
         " 0.6": 69,
         " 0.7": 57,
         " 0.8": 50,
         " 0.9": 72,
         " 1.0": 51,
         " 1.1": 61,
         " 1.2": 70,
         " 1.3": 61,
         " 1.4": 65,
         " 1.5": 52,
         "0.1": 168,
         "index": 2
        },
        {
         " 0.2": 170,
         " 0.3": 112,
         " 0.4": 88,
         " 0.5": 107,
         " 0.6": 72,
         " 0.7": 73,
         " 0.8": 48,
         " 0.9": 56,
         " 1.0": 59,
         " 1.1": 67,
         " 1.2": 64,
         " 1.3": 71,
         " 1.4": 46,
         " 1.5": 48,
         "0.1": 187,
         "index": 3
        }
       ],
       "schema": {
        "fields": [
         {
          "name": "index",
          "type": "integer"
         },
         {
          "name": "0.1",
          "type": "integer"
         },
         {
          "name": " 0.2",
          "type": "integer"
         },
         {
          "name": " 0.3",
          "type": "integer"
         },
         {
          "name": " 0.4",
          "type": "integer"
         },
         {
          "name": " 0.5",
          "type": "integer"
         },
         {
          "name": " 0.6",
          "type": "integer"
         },
         {
          "name": " 0.7",
          "type": "integer"
         },
         {
          "name": " 0.8",
          "type": "integer"
         },
         {
          "name": " 0.9",
          "type": "integer"
         },
         {
          "name": " 1.0",
          "type": "integer"
         },
         {
          "name": " 1.1",
          "type": "integer"
         },
         {
          "name": " 1.2",
          "type": "integer"
         },
         {
          "name": " 1.3",
          "type": "integer"
         },
         {
          "name": " 1.4",
          "type": "integer"
         },
         {
          "name": " 1.5",
          "type": "integer"
         }
        ],
        "pandas_version": "0.20.0",
        "primaryKey": [
         "index"
        ]
       }
      },
      "text/html": [
       "<div>\n",
       "<style scoped>\n",
       "    .dataframe tbody tr th:only-of-type {\n",
       "        vertical-align: middle;\n",
       "    }\n",
       "\n",
       "    .dataframe tbody tr th {\n",
       "        vertical-align: top;\n",
       "    }\n",
       "\n",
       "    .dataframe thead th {\n",
       "        text-align: right;\n",
       "    }\n",
       "</style>\n",
       "<table border=\"1\" class=\"dataframe\">\n",
       "  <thead>\n",
       "    <tr style=\"text-align: right;\">\n",
       "      <th></th>\n",
       "      <th>0.1</th>\n",
       "      <th>0.2</th>\n",
       "      <th>0.3</th>\n",
       "      <th>0.4</th>\n",
       "      <th>0.5</th>\n",
       "      <th>0.6</th>\n",
       "      <th>0.7</th>\n",
       "      <th>0.8</th>\n",
       "      <th>0.9</th>\n",
       "      <th>1.0</th>\n",
       "      <th>1.1</th>\n",
       "      <th>1.2</th>\n",
       "      <th>1.3</th>\n",
       "      <th>1.4</th>\n",
       "      <th>1.5</th>\n",
       "    </tr>\n",
       "  </thead>\n",
       "  <tbody>\n",
       "    <tr>\n",
       "      <th>0</th>\n",
       "      <td>169</td>\n",
       "      <td>133</td>\n",
       "      <td>113</td>\n",
       "      <td>133</td>\n",
       "      <td>105</td>\n",
       "      <td>76</td>\n",
       "      <td>78</td>\n",
       "      <td>47</td>\n",
       "      <td>58</td>\n",
       "      <td>93</td>\n",
       "      <td>87</td>\n",
       "      <td>71</td>\n",
       "      <td>54</td>\n",
       "      <td>47</td>\n",
       "      <td>48</td>\n",
       "    </tr>\n",
       "    <tr>\n",
       "      <th>1</th>\n",
       "      <td>174</td>\n",
       "      <td>130</td>\n",
       "      <td>118</td>\n",
       "      <td>106</td>\n",
       "      <td>84</td>\n",
       "      <td>71</td>\n",
       "      <td>58</td>\n",
       "      <td>50</td>\n",
       "      <td>54</td>\n",
       "      <td>56</td>\n",
       "      <td>67</td>\n",
       "      <td>66</td>\n",
       "      <td>55</td>\n",
       "      <td>47</td>\n",
       "      <td>61</td>\n",
       "    </tr>\n",
       "    <tr>\n",
       "      <th>2</th>\n",
       "      <td>168</td>\n",
       "      <td>160</td>\n",
       "      <td>137</td>\n",
       "      <td>78</td>\n",
       "      <td>108</td>\n",
       "      <td>69</td>\n",
       "      <td>57</td>\n",
       "      <td>50</td>\n",
       "      <td>72</td>\n",
       "      <td>51</td>\n",
       "      <td>61</td>\n",
       "      <td>70</td>\n",
       "      <td>61</td>\n",
       "      <td>65</td>\n",
       "      <td>52</td>\n",
       "    </tr>\n",
       "    <tr>\n",
       "      <th>3</th>\n",
       "      <td>187</td>\n",
       "      <td>170</td>\n",
       "      <td>112</td>\n",
       "      <td>88</td>\n",
       "      <td>107</td>\n",
       "      <td>72</td>\n",
       "      <td>73</td>\n",
       "      <td>48</td>\n",
       "      <td>56</td>\n",
       "      <td>59</td>\n",
       "      <td>67</td>\n",
       "      <td>64</td>\n",
       "      <td>71</td>\n",
       "      <td>46</td>\n",
       "      <td>48</td>\n",
       "    </tr>\n",
       "  </tbody>\n",
       "</table>\n",
       "</div>"
      ],
      "text/plain": [
       "   0.1   0.2   0.3   0.4   0.5   0.6   0.7   0.8   0.9   1.0   1.1   1.2  \\\n",
       "0  169   133   113   133   105    76    78    47    58    93    87    71   \n",
       "1  174   130   118   106    84    71    58    50    54    56    67    66   \n",
       "2  168   160   137    78   108    69    57    50    72    51    61    70   \n",
       "3  187   170   112    88   107    72    73    48    56    59    67    64   \n",
       "\n",
       "    1.3   1.4   1.5  \n",
       "0    54    47    48  \n",
       "1    55    47    61  \n",
       "2    61    65    52  \n",
       "3    71    46    48  "
      ]
     },
     "execution_count": 3,
     "metadata": {},
     "output_type": "execute_result"
    }
   ],
   "source": [
    "display(pre(\"Note: This data is sampled\"))\n",
    "df"
   ]
  },
  {
   "cell_type": "code",
   "execution_count": null,
   "metadata": {},
   "outputs": [],
   "source": []
  }
 ],
 "metadata": {
  "kernelspec": {
   "display_name": "Python 3",
   "language": "python",
   "name": "python3"
  },
  "language_info": {
   "codemirror_mode": {
    "name": "ipython",
    "version": 3
   },
   "file_extension": ".py",
   "mimetype": "text/x-python",
   "name": "python",
   "nbconvert_exporter": "python",
   "pygments_lexer": "ipython3",
   "version": "3.7.0"
  }
 },
 "nbformat": 4,
 "nbformat_minor": 2
}
